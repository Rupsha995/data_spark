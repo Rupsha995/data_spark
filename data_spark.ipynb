{
 "cells": [
  {
   "cell_type": "markdown",
   "id": "30020f9c-983a-4e9e-8d4b-cb92af7db9b8",
   "metadata": {},
   "source": [
    "# Illuminating Insights for Global Electronics"
   ]
  },
  {
   "cell_type": "markdown",
   "id": "56ceea6e-7fb7-4b0b-b4a9-5b764b105376",
   "metadata": {},
   "source": [
    "### Importing packages"
   ]
  },
  {
   "cell_type": "code",
   "execution_count": 30,
   "id": "49e2421a-e60b-49e5-867d-a22be3e33b5d",
   "metadata": {},
   "outputs": [
    {
     "name": "stdout",
     "output_type": "stream",
     "text": [
      "Collecting mysql-connector-python==8.4.0\n",
      "  Downloading mysql_connector_python-8.4.0-cp312-cp312-win_amd64.whl.metadata (2.0 kB)\n",
      "Downloading mysql_connector_python-8.4.0-cp312-cp312-win_amd64.whl (14.5 MB)\n",
      "   ---------------------------------------- 0.0/14.5 MB ? eta -:--:--\n",
      "    --------------------------------------- 0.3/14.5 MB ? eta -:--:--\n",
      "   - -------------------------------------- 0.5/14.5 MB 1.9 MB/s eta 0:00:08\n",
      "   - -------------------------------------- 0.5/14.5 MB 1.9 MB/s eta 0:00:08\n",
      "   - -------------------------------------- 0.5/14.5 MB 1.9 MB/s eta 0:00:08\n",
      "   - -------------------------------------- 0.5/14.5 MB 1.9 MB/s eta 0:00:08\n",
      "   -- ------------------------------------- 0.8/14.5 MB 578.0 kB/s eta 0:00:24\n",
      "   -- ------------------------------------- 0.8/14.5 MB 578.0 kB/s eta 0:00:24\n",
      "   -- ------------------------------------- 0.8/14.5 MB 578.0 kB/s eta 0:00:24\n",
      "   -- ------------------------------------- 1.0/14.5 MB 470.4 kB/s eta 0:00:29\n",
      "   -- ------------------------------------- 1.0/14.5 MB 470.4 kB/s eta 0:00:29\n",
      "   --- ------------------------------------ 1.3/14.5 MB 504.4 kB/s eta 0:00:27\n",
      "   --- ------------------------------------ 1.3/14.5 MB 504.4 kB/s eta 0:00:27\n",
      "   ---- ----------------------------------- 1.6/14.5 MB 527.5 kB/s eta 0:00:25\n",
      "   ---- ----------------------------------- 1.6/14.5 MB 527.5 kB/s eta 0:00:25\n",
      "   ---- ----------------------------------- 1.6/14.5 MB 527.5 kB/s eta 0:00:25\n",
      "   ----- ---------------------------------- 1.8/14.5 MB 524.3 kB/s eta 0:00:25\n",
      "   ----- ---------------------------------- 2.1/14.5 MB 546.1 kB/s eta 0:00:23\n",
      "   ----- ---------------------------------- 2.1/14.5 MB 546.1 kB/s eta 0:00:23\n",
      "   ------ --------------------------------- 2.4/14.5 MB 573.5 kB/s eta 0:00:22\n",
      "   ------ --------------------------------- 2.4/14.5 MB 573.5 kB/s eta 0:00:22\n",
      "   ------- -------------------------------- 2.6/14.5 MB 572.0 kB/s eta 0:00:21\n",
      "   ------- -------------------------------- 2.9/14.5 MB 601.2 kB/s eta 0:00:20\n",
      "   -------- ------------------------------- 3.1/14.5 MB 623.5 kB/s eta 0:00:19\n",
      "   -------- ------------------------------- 3.1/14.5 MB 623.5 kB/s eta 0:00:19\n",
      "   --------- ------------------------------ 3.4/14.5 MB 645.3 kB/s eta 0:00:18\n",
      "   ---------- ----------------------------- 3.7/14.5 MB 660.8 kB/s eta 0:00:17\n",
      "   ---------- ----------------------------- 3.9/14.5 MB 678.8 kB/s eta 0:00:16\n",
      "   ----------- ---------------------------- 4.2/14.5 MB 691.3 kB/s eta 0:00:15\n",
      "   ----------- ---------------------------- 4.2/14.5 MB 691.3 kB/s eta 0:00:15\n",
      "   ------------ --------------------------- 4.5/14.5 MB 700.8 kB/s eta 0:00:15\n",
      "   ------------- -------------------------- 4.7/14.5 MB 718.3 kB/s eta 0:00:14\n",
      "   ------------- -------------------------- 4.7/14.5 MB 718.3 kB/s eta 0:00:14\n",
      "   ------------- -------------------------- 5.0/14.5 MB 713.9 kB/s eta 0:00:14\n",
      "   -------------- ------------------------- 5.2/14.5 MB 731.1 kB/s eta 0:00:13\n",
      "   --------------- ------------------------ 5.5/14.5 MB 750.6 kB/s eta 0:00:12\n",
      "   --------------- ------------------------ 5.8/14.5 MB 765.9 kB/s eta 0:00:12\n",
      "   ---------------- ----------------------- 6.0/14.5 MB 764.2 kB/s eta 0:00:12\n",
      "   ---------------- ----------------------- 6.0/14.5 MB 764.2 kB/s eta 0:00:12\n",
      "   ----------------- ---------------------- 6.3/14.5 MB 774.8 kB/s eta 0:00:11\n",
      "   ----------------- ---------------------- 6.3/14.5 MB 774.8 kB/s eta 0:00:11\n",
      "   ----------------- ---------------------- 6.3/14.5 MB 774.8 kB/s eta 0:00:11\n",
      "   ------------------ --------------------- 6.6/14.5 MB 741.5 kB/s eta 0:00:11\n",
      "   ------------------ --------------------- 6.6/14.5 MB 741.5 kB/s eta 0:00:11\n",
      "   ------------------ --------------------- 6.8/14.5 MB 726.9 kB/s eta 0:00:11\n",
      "   ------------------ --------------------- 6.8/14.5 MB 726.9 kB/s eta 0:00:11\n",
      "   ------------------ --------------------- 6.8/14.5 MB 726.9 kB/s eta 0:00:11\n",
      "   ------------------- -------------------- 7.1/14.5 MB 717.4 kB/s eta 0:00:11\n",
      "   -------------------- ------------------- 7.3/14.5 MB 722.5 kB/s eta 0:00:10\n",
      "   -------------------- ------------------- 7.3/14.5 MB 722.5 kB/s eta 0:00:10\n",
      "   --------------------- ------------------ 7.6/14.5 MB 728.2 kB/s eta 0:00:10\n",
      "   --------------------- ------------------ 7.9/14.5 MB 734.9 kB/s eta 0:00:09\n",
      "   ---------------------- ----------------- 8.1/14.5 MB 742.3 kB/s eta 0:00:09\n",
      "   ---------------------- ----------------- 8.1/14.5 MB 742.3 kB/s eta 0:00:09\n",
      "   ----------------------- ---------------- 8.4/14.5 MB 739.8 kB/s eta 0:00:09\n",
      "   ----------------------- ---------------- 8.4/14.5 MB 739.8 kB/s eta 0:00:09\n",
      "   ----------------------- ---------------- 8.7/14.5 MB 736.4 kB/s eta 0:00:08\n",
      "   ----------------------- ---------------- 8.7/14.5 MB 736.4 kB/s eta 0:00:08\n",
      "   ------------------------ --------------- 8.9/14.5 MB 726.5 kB/s eta 0:00:08\n",
      "   ------------------------- -------------- 9.2/14.5 MB 733.1 kB/s eta 0:00:08\n",
      "   -------------------------- ------------- 9.4/14.5 MB 741.4 kB/s eta 0:00:07\n",
      "   -------------------------- ------------- 9.4/14.5 MB 741.4 kB/s eta 0:00:07\n",
      "   -------------------------- ------------- 9.7/14.5 MB 747.5 kB/s eta 0:00:07\n",
      "   -------------------------- ------------- 9.7/14.5 MB 747.5 kB/s eta 0:00:07\n",
      "   --------------------------- ------------ 10.0/14.5 MB 739.8 kB/s eta 0:00:07\n",
      "   ---------------------------- ----------- 10.2/14.5 MB 743.9 kB/s eta 0:00:06\n",
      "   ---------------------------- ----------- 10.2/14.5 MB 743.9 kB/s eta 0:00:06\n",
      "   ---------------------------- ----------- 10.2/14.5 MB 743.9 kB/s eta 0:00:06\n",
      "   ----------------------------- ---------- 10.5/14.5 MB 729.4 kB/s eta 0:00:06\n",
      "   ----------------------------- ---------- 10.5/14.5 MB 729.4 kB/s eta 0:00:06\n",
      "   ----------------------------- ---------- 10.5/14.5 MB 729.4 kB/s eta 0:00:06\n",
      "   ----------------------------- ---------- 10.5/14.5 MB 729.4 kB/s eta 0:00:06\n",
      "   ----------------------------- ---------- 10.7/14.5 MB 710.9 kB/s eta 0:00:06\n",
      "   ----------------------------- ---------- 10.7/14.5 MB 710.9 kB/s eta 0:00:06\n",
      "   ------------------------------ --------- 11.0/14.5 MB 706.9 kB/s eta 0:00:05\n",
      "   ------------------------------- -------- 11.3/14.5 MB 710.3 kB/s eta 0:00:05\n",
      "   ------------------------------- -------- 11.3/14.5 MB 710.3 kB/s eta 0:00:05\n",
      "   ------------------------------- -------- 11.5/14.5 MB 710.1 kB/s eta 0:00:05\n",
      "   ------------------------------- -------- 11.5/14.5 MB 710.1 kB/s eta 0:00:05\n",
      "   -------------------------------- ------- 11.8/14.5 MB 710.5 kB/s eta 0:00:04\n",
      "   --------------------------------- ------ 12.1/14.5 MB 718.3 kB/s eta 0:00:04\n",
      "   ---------------------------------- ----- 12.3/14.5 MB 723.9 kB/s eta 0:00:03\n",
      "   ---------------------------------- ----- 12.6/14.5 MB 728.7 kB/s eta 0:00:03\n",
      "   ----------------------------------- ---- 12.8/14.5 MB 736.1 kB/s eta 0:00:03\n",
      "   ----------------------------------- ---- 12.8/14.5 MB 736.1 kB/s eta 0:00:03\n",
      "   ------------------------------------ --- 13.1/14.5 MB 737.3 kB/s eta 0:00:02\n",
      "   ------------------------------------ --- 13.1/14.5 MB 737.3 kB/s eta 0:00:02\n",
      "   ------------------------------------ --- 13.1/14.5 MB 737.3 kB/s eta 0:00:02\n",
      "   ------------------------------------ --- 13.4/14.5 MB 723.2 kB/s eta 0:00:02\n",
      "   ------------------------------------- -- 13.6/14.5 MB 728.2 kB/s eta 0:00:02\n",
      "   ------------------------------------- -- 13.6/14.5 MB 728.2 kB/s eta 0:00:02\n",
      "   -------------------------------------- - 13.9/14.5 MB 728.8 kB/s eta 0:00:01\n",
      "   ---------------------------------------  14.2/14.5 MB 727.6 kB/s eta 0:00:01\n",
      "   ---------------------------------------  14.2/14.5 MB 727.6 kB/s eta 0:00:01\n",
      "   ---------------------------------------  14.4/14.5 MB 728.3 kB/s eta 0:00:01\n",
      "   ---------------------------------------- 14.5/14.5 MB 724.5 kB/s eta 0:00:00\n",
      "Installing collected packages: mysql-connector-python\n",
      "Successfully installed mysql-connector-python-8.4.0\n"
     ]
    }
   ],
   "source": [
    "!pip install mysql-connector-python==8.4.0"
   ]
  },
  {
   "cell_type": "code",
   "execution_count": 1,
   "id": "a6a0c5bf-e380-4d67-87f0-3e9b7ae540f6",
   "metadata": {},
   "outputs": [],
   "source": [
    "import pandas as pd\n",
    "import seaborn as sns\n",
    "import matplotlib.pyplot as plt\n",
    "import os\n",
    "import csv\n",
    "import mysql.connector as db \n",
    "from datetime import date\n"
   ]
  },
  {
   "cell_type": "markdown",
   "id": "03b3b756-3195-47e6-bbb7-2c39dda473a5",
   "metadata": {},
   "source": [
    "### Reading csv files and checking for null values"
   ]
  },
  {
   "cell_type": "code",
   "execution_count": 11,
   "id": "8d924907-831d-4540-bbc8-9a7dcab7ecc2",
   "metadata": {},
   "outputs": [],
   "source": [
    "data_cust=pd.read_csv('Customers (2).csv',encoding='ISO-8859-1')"
   ]
  },
  {
   "cell_type": "code",
   "execution_count": 13,
   "id": "fa926bac-fedc-483e-8cea-9b852053e0d6",
   "metadata": {},
   "outputs": [
    {
     "name": "stdout",
     "output_type": "stream",
     "text": [
      "<class 'pandas.core.frame.DataFrame'>\n",
      "RangeIndex: 15266 entries, 0 to 15265\n",
      "Data columns (total 10 columns):\n",
      " #   Column       Non-Null Count  Dtype \n",
      "---  ------       --------------  ----- \n",
      " 0   CustomerKey  15266 non-null  int64 \n",
      " 1   Gender       15266 non-null  object\n",
      " 2   Name         15266 non-null  object\n",
      " 3   City         15266 non-null  object\n",
      " 4   State Code   15256 non-null  object\n",
      " 5   State        15266 non-null  object\n",
      " 6   Zip Code     15266 non-null  object\n",
      " 7   Country      15266 non-null  object\n",
      " 8   Continent    15266 non-null  object\n",
      " 9   Birthday     15266 non-null  object\n",
      "dtypes: int64(1), object(9)\n",
      "memory usage: 1.2+ MB\n"
     ]
    }
   ],
   "source": [
    "data_cust.info()"
   ]
  },
  {
   "cell_type": "code",
   "execution_count": 15,
   "id": "85d58a36-cb09-4c7c-91cf-ee9622fee72c",
   "metadata": {},
   "outputs": [],
   "source": [
    "data_cust['Birthday'] = data_cust['Birthday'].astype('datetime64[ns]')"
   ]
  },
  {
   "cell_type": "code",
   "execution_count": 22,
   "id": "8bd07511-3db6-4ee4-808e-7b825c24165b",
   "metadata": {},
   "outputs": [
    {
     "data": {
      "text/plain": [
       "CustomerKey    0\n",
       "Gender         0\n",
       "Name           0\n",
       "City           0\n",
       "State Code     0\n",
       "State          0\n",
       "Zip Code       0\n",
       "Country        0\n",
       "Continent      0\n",
       "Birthday       0\n",
       "dtype: int64"
      ]
     },
     "execution_count": 22,
     "metadata": {},
     "output_type": "execute_result"
    }
   ],
   "source": [
    "data_cust.isnull().sum()"
   ]
  },
  {
   "cell_type": "code",
   "execution_count": 41,
   "id": "89559873-d845-46c2-8207-a1f3cddc9f1d",
   "metadata": {},
   "outputs": [
    {
     "data": {
      "text/plain": [
       "State Code\n",
       "CA                      740\n",
       "ON                      644\n",
       "IL                      597\n",
       "TX                      522\n",
       "NSW                     430\n",
       "                       ... \n",
       "Newcastle                 1\n",
       "Basildon                  1\n",
       "Reigate and Banstead      1\n",
       "Barnet                    1\n",
       "Christchurch              1\n",
       "Name: count, Length: 467, dtype: int64"
      ]
     },
     "execution_count": 41,
     "metadata": {},
     "output_type": "execute_result"
    }
   ],
   "source": [
    "data_cust['State Code'].value_counts()"
   ]
  },
  {
   "cell_type": "code",
   "execution_count": 42,
   "id": "e26b4720-cc35-4677-95e6-ca7c7e8be3f7",
   "metadata": {},
   "outputs": [
    {
     "data": {
      "text/plain": [
       "0    CA\n",
       "Name: State Code, dtype: object"
      ]
     },
     "execution_count": 42,
     "metadata": {},
     "output_type": "execute_result"
    }
   ],
   "source": [
    "data_cust['State Code'].mode()"
   ]
  },
  {
   "cell_type": "code",
   "execution_count": 11,
   "id": "c0648f92-def2-436e-92b2-2c2ea6306fee",
   "metadata": {},
   "outputs": [
    {
     "data": {
      "text/plain": [
       "State Code    0\n",
       "dtype: int64"
      ]
     },
     "execution_count": 11,
     "metadata": {},
     "output_type": "execute_result"
    }
   ],
   "source": [
    "data_cust[['State Code']].isnull().sum()\n"
   ]
  },
  {
   "cell_type": "code",
   "execution_count": 37,
   "id": "0b43f7ea-e938-442f-a343-6ab4821c851c",
   "metadata": {},
   "outputs": [
    {
     "data": {
      "text/plain": [
       "CustomerKey          732289\n",
       "Gender                 Male\n",
       "Name           Indro Piccio\n",
       "City              Varcaturo\n",
       "State Code               NA\n",
       "State                Napoli\n",
       "Zip Code              80014\n",
       "Country               Italy\n",
       "Continent            Europe\n",
       "Birthday          2/24/1949\n",
       "Name: 5316, dtype: object"
      ]
     },
     "execution_count": 37,
     "metadata": {},
     "output_type": "execute_result"
    }
   ],
   "source": [
    "data_cust.iloc[5316,::]"
   ]
  },
  {
   "cell_type": "code",
   "execution_count": 17,
   "id": "c2b6be34-31ac-4670-a626-a352efb77070",
   "metadata": {},
   "outputs": [],
   "source": [
    "data_st=pd.read_csv('Stores (1).csv',encoding='ISO-8859-1')"
   ]
  },
  {
   "cell_type": "code",
   "execution_count": 282,
   "id": "f7d20d43-bf8c-46a2-ae81-63810e9e0228",
   "metadata": {},
   "outputs": [],
   "source": [
    "mean = data_st['Square Meters'].mean()"
   ]
  },
  {
   "cell_type": "code",
   "execution_count": 284,
   "id": "2f220ea8-5a60-4fbf-8fb3-45d5a98a0462",
   "metadata": {},
   "outputs": [
    {
     "data": {
      "text/plain": [
       "0      595.0\n",
       "1      665.0\n",
       "2     2000.0\n",
       "3     2000.0\n",
       "4     2000.0\n",
       "       ...  \n",
       "62    2000.0\n",
       "63    1330.0\n",
       "64    1785.0\n",
       "65     840.0\n",
       "66       NaN\n",
       "Name: Square Meters, Length: 67, dtype: float64"
      ]
     },
     "execution_count": 284,
     "metadata": {},
     "output_type": "execute_result"
    }
   ],
   "source": [
    "data_st['Square Meters'].astype(float)"
   ]
  },
  {
   "cell_type": "markdown",
   "id": "6bb62d1f-eeef-4aa4-aa65-cbeda6abe0f6",
   "metadata": {},
   "source": [
    "#mean imputation on continious variable"
   ]
  },
  {
   "cell_type": "code",
   "execution_count": 292,
   "id": "83ab0bfb-ae94-48d8-80d8-4db5efb86dde",
   "metadata": {},
   "outputs": [],
   "source": [
    "data=data_st"
   ]
  },
  {
   "cell_type": "code",
   "execution_count": 294,
   "id": "2f4be7e0-d1f9-4c95-ab20-9936f5432823",
   "metadata": {},
   "outputs": [
    {
     "data": {
      "text/html": [
       "<div>\n",
       "<style scoped>\n",
       "    .dataframe tbody tr th:only-of-type {\n",
       "        vertical-align: middle;\n",
       "    }\n",
       "\n",
       "    .dataframe tbody tr th {\n",
       "        vertical-align: top;\n",
       "    }\n",
       "\n",
       "    .dataframe thead th {\n",
       "        text-align: right;\n",
       "    }\n",
       "</style>\n",
       "<table border=\"1\" class=\"dataframe\">\n",
       "  <thead>\n",
       "    <tr style=\"text-align: right;\">\n",
       "      <th></th>\n",
       "      <th>StoreKey</th>\n",
       "      <th>Country</th>\n",
       "      <th>State</th>\n",
       "      <th>Square Meters</th>\n",
       "      <th>Open Date</th>\n",
       "    </tr>\n",
       "  </thead>\n",
       "  <tbody>\n",
       "    <tr>\n",
       "      <th>0</th>\n",
       "      <td>1</td>\n",
       "      <td>Australia</td>\n",
       "      <td>Australian Capital Territory</td>\n",
       "      <td>595.00000</td>\n",
       "      <td>1/1/2008</td>\n",
       "    </tr>\n",
       "    <tr>\n",
       "      <th>1</th>\n",
       "      <td>2</td>\n",
       "      <td>Australia</td>\n",
       "      <td>Northern Territory</td>\n",
       "      <td>665.00000</td>\n",
       "      <td>1/12/2008</td>\n",
       "    </tr>\n",
       "    <tr>\n",
       "      <th>2</th>\n",
       "      <td>3</td>\n",
       "      <td>Australia</td>\n",
       "      <td>South Australia</td>\n",
       "      <td>2000.00000</td>\n",
       "      <td>1/7/2012</td>\n",
       "    </tr>\n",
       "    <tr>\n",
       "      <th>3</th>\n",
       "      <td>4</td>\n",
       "      <td>Australia</td>\n",
       "      <td>Tasmania</td>\n",
       "      <td>2000.00000</td>\n",
       "      <td>1/1/2010</td>\n",
       "    </tr>\n",
       "    <tr>\n",
       "      <th>4</th>\n",
       "      <td>5</td>\n",
       "      <td>Australia</td>\n",
       "      <td>Victoria</td>\n",
       "      <td>2000.00000</td>\n",
       "      <td>12/9/2015</td>\n",
       "    </tr>\n",
       "    <tr>\n",
       "      <th>...</th>\n",
       "      <td>...</td>\n",
       "      <td>...</td>\n",
       "      <td>...</td>\n",
       "      <td>...</td>\n",
       "      <td>...</td>\n",
       "    </tr>\n",
       "    <tr>\n",
       "      <th>62</th>\n",
       "      <td>63</td>\n",
       "      <td>United States</td>\n",
       "      <td>Utah</td>\n",
       "      <td>2000.00000</td>\n",
       "      <td>3/6/2008</td>\n",
       "    </tr>\n",
       "    <tr>\n",
       "      <th>63</th>\n",
       "      <td>64</td>\n",
       "      <td>United States</td>\n",
       "      <td>Washington DC</td>\n",
       "      <td>1330.00000</td>\n",
       "      <td>1/1/2010</td>\n",
       "    </tr>\n",
       "    <tr>\n",
       "      <th>64</th>\n",
       "      <td>65</td>\n",
       "      <td>United States</td>\n",
       "      <td>West Virginia</td>\n",
       "      <td>1785.00000</td>\n",
       "      <td>1/1/2012</td>\n",
       "    </tr>\n",
       "    <tr>\n",
       "      <th>65</th>\n",
       "      <td>66</td>\n",
       "      <td>United States</td>\n",
       "      <td>Wyoming</td>\n",
       "      <td>840.00000</td>\n",
       "      <td>1/1/2014</td>\n",
       "    </tr>\n",
       "    <tr>\n",
       "      <th>66</th>\n",
       "      <td>0</td>\n",
       "      <td>Online</td>\n",
       "      <td>Online</td>\n",
       "      <td>1402.19697</td>\n",
       "      <td>1/1/2010</td>\n",
       "    </tr>\n",
       "  </tbody>\n",
       "</table>\n",
       "<p>67 rows × 5 columns</p>\n",
       "</div>"
      ],
      "text/plain": [
       "    StoreKey        Country                         State  Square Meters  \\\n",
       "0          1      Australia  Australian Capital Territory      595.00000   \n",
       "1          2      Australia            Northern Territory      665.00000   \n",
       "2          3      Australia               South Australia     2000.00000   \n",
       "3          4      Australia                      Tasmania     2000.00000   \n",
       "4          5      Australia                      Victoria     2000.00000   \n",
       "..       ...            ...                           ...            ...   \n",
       "62        63  United States                          Utah     2000.00000   \n",
       "63        64  United States                 Washington DC     1330.00000   \n",
       "64        65  United States                 West Virginia     1785.00000   \n",
       "65        66  United States                       Wyoming      840.00000   \n",
       "66         0         Online                        Online     1402.19697   \n",
       "\n",
       "    Open Date  \n",
       "0    1/1/2008  \n",
       "1   1/12/2008  \n",
       "2    1/7/2012  \n",
       "3    1/1/2010  \n",
       "4   12/9/2015  \n",
       "..        ...  \n",
       "62   3/6/2008  \n",
       "63   1/1/2010  \n",
       "64   1/1/2012  \n",
       "65   1/1/2014  \n",
       "66   1/1/2010  \n",
       "\n",
       "[67 rows x 5 columns]"
      ]
     },
     "execution_count": 294,
     "metadata": {},
     "output_type": "execute_result"
    }
   ],
   "source": [
    "data_st"
   ]
  },
  {
   "cell_type": "code",
   "execution_count": 79,
   "id": "5723a144-32f5-42e3-ac65-8fa92b3312cf",
   "metadata": {},
   "outputs": [
    {
     "data": {
      "text/plain": [
       "StoreKey         0\n",
       "Country          0\n",
       "State            0\n",
       "Square Meters    1\n",
       "Open Date        0\n",
       "dtype: int64"
      ]
     },
     "execution_count": 79,
     "metadata": {},
     "output_type": "execute_result"
    }
   ],
   "source": [
    "data_st.isnull().sum()"
   ]
  },
  {
   "cell_type": "code",
   "execution_count": 288,
   "id": "f7ad21fe-2b47-4523-b86a-4e571d371c0c",
   "metadata": {},
   "outputs": [],
   "source": [
    "data_st['Square Meters']=data_st['Square Meters'].fillna(mean)"
   ]
  },
  {
   "cell_type": "code",
   "execution_count": 81,
   "id": "daacdae6-e350-4a44-8773-b4aaee0b78e7",
   "metadata": {},
   "outputs": [
    {
     "data": {
      "text/html": [
       "<div>\n",
       "<style scoped>\n",
       "    .dataframe tbody tr th:only-of-type {\n",
       "        vertical-align: middle;\n",
       "    }\n",
       "\n",
       "    .dataframe tbody tr th {\n",
       "        vertical-align: top;\n",
       "    }\n",
       "\n",
       "    .dataframe thead th {\n",
       "        text-align: right;\n",
       "    }\n",
       "</style>\n",
       "<table border=\"1\" class=\"dataframe\">\n",
       "  <thead>\n",
       "    <tr style=\"text-align: right;\">\n",
       "      <th></th>\n",
       "      <th>CustomerKey</th>\n",
       "      <th>Gender</th>\n",
       "      <th>Name</th>\n",
       "      <th>City</th>\n",
       "      <th>State Code</th>\n",
       "      <th>State</th>\n",
       "      <th>Zip Code</th>\n",
       "      <th>Country</th>\n",
       "      <th>Continent</th>\n",
       "      <th>Birthday</th>\n",
       "    </tr>\n",
       "  </thead>\n",
       "  <tbody>\n",
       "    <tr>\n",
       "      <th>5304</th>\n",
       "      <td>729681</td>\n",
       "      <td>Female</td>\n",
       "      <td>Rossana Padovesi</td>\n",
       "      <td>Polvica</td>\n",
       "      <td>NaN</td>\n",
       "      <td>Napoli</td>\n",
       "      <td>80035</td>\n",
       "      <td>Italy</td>\n",
       "      <td>Europe</td>\n",
       "      <td>1981-04-18</td>\n",
       "    </tr>\n",
       "    <tr>\n",
       "      <th>5316</th>\n",
       "      <td>732289</td>\n",
       "      <td>Male</td>\n",
       "      <td>Indro Piccio</td>\n",
       "      <td>Varcaturo</td>\n",
       "      <td>NaN</td>\n",
       "      <td>Napoli</td>\n",
       "      <td>80014</td>\n",
       "      <td>Italy</td>\n",
       "      <td>Europe</td>\n",
       "      <td>1949-02-24</td>\n",
       "    </tr>\n",
       "    <tr>\n",
       "      <th>5372</th>\n",
       "      <td>742042</td>\n",
       "      <td>Male</td>\n",
       "      <td>Amaranto Loggia</td>\n",
       "      <td>Casaferro</td>\n",
       "      <td>NaN</td>\n",
       "      <td>Napoli</td>\n",
       "      <td>80034</td>\n",
       "      <td>Italy</td>\n",
       "      <td>Europe</td>\n",
       "      <td>1936-03-14</td>\n",
       "    </tr>\n",
       "    <tr>\n",
       "      <th>5377</th>\n",
       "      <td>742886</td>\n",
       "      <td>Female</td>\n",
       "      <td>Edmonda Capon</td>\n",
       "      <td>Terzigno</td>\n",
       "      <td>NaN</td>\n",
       "      <td>Napoli</td>\n",
       "      <td>80040</td>\n",
       "      <td>Italy</td>\n",
       "      <td>Europe</td>\n",
       "      <td>1963-08-06</td>\n",
       "    </tr>\n",
       "    <tr>\n",
       "      <th>5378</th>\n",
       "      <td>743343</td>\n",
       "      <td>Female</td>\n",
       "      <td>Ambra Sagese</td>\n",
       "      <td>Pomigliano D'Arco</td>\n",
       "      <td>NaN</td>\n",
       "      <td>Napoli</td>\n",
       "      <td>80038</td>\n",
       "      <td>Italy</td>\n",
       "      <td>Europe</td>\n",
       "      <td>1961-01-05</td>\n",
       "    </tr>\n",
       "    <tr>\n",
       "      <th>5485</th>\n",
       "      <td>759705</td>\n",
       "      <td>Male</td>\n",
       "      <td>Callisto Lo Duca</td>\n",
       "      <td>Casilli</td>\n",
       "      <td>NaN</td>\n",
       "      <td>Napoli</td>\n",
       "      <td>80047</td>\n",
       "      <td>Italy</td>\n",
       "      <td>Europe</td>\n",
       "      <td>1976-08-28</td>\n",
       "    </tr>\n",
       "    <tr>\n",
       "      <th>5525</th>\n",
       "      <td>765589</td>\n",
       "      <td>Male</td>\n",
       "      <td>Michelino Lucchesi</td>\n",
       "      <td>Pompei Scavi</td>\n",
       "      <td>NaN</td>\n",
       "      <td>Napoli</td>\n",
       "      <td>80045</td>\n",
       "      <td>Italy</td>\n",
       "      <td>Europe</td>\n",
       "      <td>1947-11-13</td>\n",
       "    </tr>\n",
       "    <tr>\n",
       "      <th>5531</th>\n",
       "      <td>766410</td>\n",
       "      <td>Male</td>\n",
       "      <td>Adelmio Beneventi</td>\n",
       "      <td>Licola</td>\n",
       "      <td>NaN</td>\n",
       "      <td>Napoli</td>\n",
       "      <td>80078</td>\n",
       "      <td>Italy</td>\n",
       "      <td>Europe</td>\n",
       "      <td>1940-01-13</td>\n",
       "    </tr>\n",
       "    <tr>\n",
       "      <th>5631</th>\n",
       "      <td>781667</td>\n",
       "      <td>Female</td>\n",
       "      <td>Ilda Manna</td>\n",
       "      <td>Napoli</td>\n",
       "      <td>NaN</td>\n",
       "      <td>Napoli</td>\n",
       "      <td>80134</td>\n",
       "      <td>Italy</td>\n",
       "      <td>Europe</td>\n",
       "      <td>1977-05-08</td>\n",
       "    </tr>\n",
       "    <tr>\n",
       "      <th>5695</th>\n",
       "      <td>789177</td>\n",
       "      <td>Male</td>\n",
       "      <td>Calogero Folliero</td>\n",
       "      <td>Mariglianella</td>\n",
       "      <td>NaN</td>\n",
       "      <td>Napoli</td>\n",
       "      <td>80030</td>\n",
       "      <td>Italy</td>\n",
       "      <td>Europe</td>\n",
       "      <td>2000-03-03</td>\n",
       "    </tr>\n",
       "  </tbody>\n",
       "</table>\n",
       "</div>"
      ],
      "text/plain": [
       "      CustomerKey  Gender                Name               City State Code  \\\n",
       "5304       729681  Female    Rossana Padovesi            Polvica        NaN   \n",
       "5316       732289    Male        Indro Piccio          Varcaturo        NaN   \n",
       "5372       742042    Male     Amaranto Loggia          Casaferro        NaN   \n",
       "5377       742886  Female       Edmonda Capon           Terzigno        NaN   \n",
       "5378       743343  Female        Ambra Sagese  Pomigliano D'Arco        NaN   \n",
       "5485       759705    Male    Callisto Lo Duca            Casilli        NaN   \n",
       "5525       765589    Male  Michelino Lucchesi       Pompei Scavi        NaN   \n",
       "5531       766410    Male   Adelmio Beneventi             Licola        NaN   \n",
       "5631       781667  Female          Ilda Manna             Napoli        NaN   \n",
       "5695       789177    Male   Calogero Folliero      Mariglianella        NaN   \n",
       "\n",
       "       State Zip Code Country Continent   Birthday  \n",
       "5304  Napoli    80035   Italy    Europe 1981-04-18  \n",
       "5316  Napoli    80014   Italy    Europe 1949-02-24  \n",
       "5372  Napoli    80034   Italy    Europe 1936-03-14  \n",
       "5377  Napoli    80040   Italy    Europe 1963-08-06  \n",
       "5378  Napoli    80038   Italy    Europe 1961-01-05  \n",
       "5485  Napoli    80047   Italy    Europe 1976-08-28  \n",
       "5525  Napoli    80045   Italy    Europe 1947-11-13  \n",
       "5531  Napoli    80078   Italy    Europe 1940-01-13  \n",
       "5631  Napoli    80134   Italy    Europe 1977-05-08  \n",
       "5695  Napoli    80030   Italy    Europe 2000-03-03  "
      ]
     },
     "execution_count": 81,
     "metadata": {},
     "output_type": "execute_result"
    }
   ],
   "source": [
    "data_cust[data_cust['State Code'].isnull()]"
   ]
  },
  {
   "cell_type": "code",
   "execution_count": 83,
   "id": "3feaecb3-d42b-4434-b609-3ee7f73c58cf",
   "metadata": {},
   "outputs": [
    {
     "name": "stderr",
     "output_type": "stream",
     "text": [
      "C:\\Users\\Asin\\AppData\\Local\\Temp\\ipykernel_25932\\3896044556.py:1: FutureWarning: A value is trying to be set on a copy of a DataFrame or Series through chained assignment using an inplace method.\n",
      "The behavior will change in pandas 3.0. This inplace method will never work because the intermediate object on which we are setting values always behaves as a copy.\n",
      "\n",
      "For example, when doing 'df[col].method(value, inplace=True)', try using 'df.method({col: value}, inplace=True)' or df[col] = df[col].method(value) instead, to perform the operation inplace on the original object.\n",
      "\n",
      "\n",
      "  data_cust['State Code'].fillna('NA',inplace=True)\n"
     ]
    }
   ],
   "source": [
    "data_cust['State Code'].fillna('NA',inplace=True)"
   ]
  },
  {
   "cell_type": "code",
   "execution_count": 46,
   "id": "bf75ae9e-f318-424f-983d-601cd24bdf35",
   "metadata": {},
   "outputs": [],
   "source": [
    "data_sal = pd.read_csv('Sales.csv',encoding='ISO-8859-1')"
   ]
  },
  {
   "cell_type": "code",
   "execution_count": 47,
   "id": "bd0b8c2a-2179-4f6a-bab4-bd209b34b948",
   "metadata": {},
   "outputs": [],
   "source": [
    "data_sal.to_csv('data_sal.csv')"
   ]
  },
  {
   "cell_type": "code",
   "execution_count": 48,
   "id": "f5b5b5db-ee2a-4b99-b3d9-a84dd03a792c",
   "metadata": {},
   "outputs": [
    {
     "data": {
      "text/plain": [
       "Index(['Order Number', 'Line Item', 'Order Date', 'Delivery Date',\n",
       "       'CustomerKey', 'StoreKey', 'ProductKey', 'Quantity', 'Currency Code'],\n",
       "      dtype='object')"
      ]
     },
     "execution_count": 48,
     "metadata": {},
     "output_type": "execute_result"
    }
   ],
   "source": [
    "data_sal.columns"
   ]
  },
  {
   "cell_type": "code",
   "execution_count": 49,
   "id": "c618d184-9f14-45ec-9f5c-e3d7368293c0",
   "metadata": {},
   "outputs": [
    {
     "data": {
      "text/html": [
       "<div>\n",
       "<style scoped>\n",
       "    .dataframe tbody tr th:only-of-type {\n",
       "        vertical-align: middle;\n",
       "    }\n",
       "\n",
       "    .dataframe tbody tr th {\n",
       "        vertical-align: top;\n",
       "    }\n",
       "\n",
       "    .dataframe thead th {\n",
       "        text-align: right;\n",
       "    }\n",
       "</style>\n",
       "<table border=\"1\" class=\"dataframe\">\n",
       "  <thead>\n",
       "    <tr style=\"text-align: right;\">\n",
       "      <th></th>\n",
       "      <th>Order Number</th>\n",
       "      <th>Line Item</th>\n",
       "      <th>Order Date</th>\n",
       "      <th>Delivery Date</th>\n",
       "      <th>CustomerKey</th>\n",
       "      <th>StoreKey</th>\n",
       "      <th>ProductKey</th>\n",
       "      <th>Quantity</th>\n",
       "      <th>Currency Code</th>\n",
       "    </tr>\n",
       "  </thead>\n",
       "  <tbody>\n",
       "    <tr>\n",
       "      <th>0</th>\n",
       "      <td>366000</td>\n",
       "      <td>1</td>\n",
       "      <td>1/1/2016</td>\n",
       "      <td>NaN</td>\n",
       "      <td>265598</td>\n",
       "      <td>10</td>\n",
       "      <td>1304</td>\n",
       "      <td>1</td>\n",
       "      <td>CAD</td>\n",
       "    </tr>\n",
       "    <tr>\n",
       "      <th>1</th>\n",
       "      <td>366001</td>\n",
       "      <td>1</td>\n",
       "      <td>1/1/2016</td>\n",
       "      <td>1/13/2016</td>\n",
       "      <td>1269051</td>\n",
       "      <td>0</td>\n",
       "      <td>1048</td>\n",
       "      <td>2</td>\n",
       "      <td>USD</td>\n",
       "    </tr>\n",
       "    <tr>\n",
       "      <th>2</th>\n",
       "      <td>366001</td>\n",
       "      <td>2</td>\n",
       "      <td>1/1/2016</td>\n",
       "      <td>1/13/2016</td>\n",
       "      <td>1269051</td>\n",
       "      <td>0</td>\n",
       "      <td>2007</td>\n",
       "      <td>1</td>\n",
       "      <td>USD</td>\n",
       "    </tr>\n",
       "    <tr>\n",
       "      <th>3</th>\n",
       "      <td>366002</td>\n",
       "      <td>1</td>\n",
       "      <td>1/1/2016</td>\n",
       "      <td>1/12/2016</td>\n",
       "      <td>266019</td>\n",
       "      <td>0</td>\n",
       "      <td>1106</td>\n",
       "      <td>7</td>\n",
       "      <td>CAD</td>\n",
       "    </tr>\n",
       "    <tr>\n",
       "      <th>4</th>\n",
       "      <td>366002</td>\n",
       "      <td>2</td>\n",
       "      <td>1/1/2016</td>\n",
       "      <td>1/12/2016</td>\n",
       "      <td>266019</td>\n",
       "      <td>0</td>\n",
       "      <td>373</td>\n",
       "      <td>1</td>\n",
       "      <td>CAD</td>\n",
       "    </tr>\n",
       "    <tr>\n",
       "      <th>...</th>\n",
       "      <td>...</td>\n",
       "      <td>...</td>\n",
       "      <td>...</td>\n",
       "      <td>...</td>\n",
       "      <td>...</td>\n",
       "      <td>...</td>\n",
       "      <td>...</td>\n",
       "      <td>...</td>\n",
       "      <td>...</td>\n",
       "    </tr>\n",
       "    <tr>\n",
       "      <th>62879</th>\n",
       "      <td>2243030</td>\n",
       "      <td>1</td>\n",
       "      <td>2/20/2021</td>\n",
       "      <td>NaN</td>\n",
       "      <td>1216913</td>\n",
       "      <td>43</td>\n",
       "      <td>632</td>\n",
       "      <td>3</td>\n",
       "      <td>USD</td>\n",
       "    </tr>\n",
       "    <tr>\n",
       "      <th>62880</th>\n",
       "      <td>2243031</td>\n",
       "      <td>1</td>\n",
       "      <td>2/20/2021</td>\n",
       "      <td>2/24/2021</td>\n",
       "      <td>511229</td>\n",
       "      <td>0</td>\n",
       "      <td>98</td>\n",
       "      <td>4</td>\n",
       "      <td>EUR</td>\n",
       "    </tr>\n",
       "    <tr>\n",
       "      <th>62881</th>\n",
       "      <td>2243032</td>\n",
       "      <td>1</td>\n",
       "      <td>2/20/2021</td>\n",
       "      <td>2/23/2021</td>\n",
       "      <td>331277</td>\n",
       "      <td>0</td>\n",
       "      <td>1613</td>\n",
       "      <td>2</td>\n",
       "      <td>CAD</td>\n",
       "    </tr>\n",
       "    <tr>\n",
       "      <th>62882</th>\n",
       "      <td>2243032</td>\n",
       "      <td>2</td>\n",
       "      <td>2/20/2021</td>\n",
       "      <td>2/23/2021</td>\n",
       "      <td>331277</td>\n",
       "      <td>0</td>\n",
       "      <td>1717</td>\n",
       "      <td>2</td>\n",
       "      <td>CAD</td>\n",
       "    </tr>\n",
       "    <tr>\n",
       "      <th>62883</th>\n",
       "      <td>2243032</td>\n",
       "      <td>3</td>\n",
       "      <td>2/20/2021</td>\n",
       "      <td>2/23/2021</td>\n",
       "      <td>331277</td>\n",
       "      <td>0</td>\n",
       "      <td>464</td>\n",
       "      <td>7</td>\n",
       "      <td>CAD</td>\n",
       "    </tr>\n",
       "  </tbody>\n",
       "</table>\n",
       "<p>62884 rows × 9 columns</p>\n",
       "</div>"
      ],
      "text/plain": [
       "       Order Number  Line Item Order Date Delivery Date  CustomerKey  \\\n",
       "0            366000          1   1/1/2016           NaN       265598   \n",
       "1            366001          1   1/1/2016     1/13/2016      1269051   \n",
       "2            366001          2   1/1/2016     1/13/2016      1269051   \n",
       "3            366002          1   1/1/2016     1/12/2016       266019   \n",
       "4            366002          2   1/1/2016     1/12/2016       266019   \n",
       "...             ...        ...        ...           ...          ...   \n",
       "62879       2243030          1  2/20/2021           NaN      1216913   \n",
       "62880       2243031          1  2/20/2021     2/24/2021       511229   \n",
       "62881       2243032          1  2/20/2021     2/23/2021       331277   \n",
       "62882       2243032          2  2/20/2021     2/23/2021       331277   \n",
       "62883       2243032          3  2/20/2021     2/23/2021       331277   \n",
       "\n",
       "       StoreKey  ProductKey  Quantity Currency Code  \n",
       "0            10        1304         1           CAD  \n",
       "1             0        1048         2           USD  \n",
       "2             0        2007         1           USD  \n",
       "3             0        1106         7           CAD  \n",
       "4             0         373         1           CAD  \n",
       "...         ...         ...       ...           ...  \n",
       "62879        43         632         3           USD  \n",
       "62880         0          98         4           EUR  \n",
       "62881         0        1613         2           CAD  \n",
       "62882         0        1717         2           CAD  \n",
       "62883         0         464         7           CAD  \n",
       "\n",
       "[62884 rows x 9 columns]"
      ]
     },
     "execution_count": 49,
     "metadata": {},
     "output_type": "execute_result"
    }
   ],
   "source": [
    "data_sal"
   ]
  },
  {
   "cell_type": "code",
   "execution_count": 45,
   "id": "26c7ef17-ebf0-4fe0-9f0a-d70810fa4d55",
   "metadata": {},
   "outputs": [
    {
     "data": {
      "text/html": [
       "<div>\n",
       "<style scoped>\n",
       "    .dataframe tbody tr th:only-of-type {\n",
       "        vertical-align: middle;\n",
       "    }\n",
       "\n",
       "    .dataframe tbody tr th {\n",
       "        vertical-align: top;\n",
       "    }\n",
       "\n",
       "    .dataframe thead th {\n",
       "        text-align: right;\n",
       "    }\n",
       "</style>\n",
       "<table border=\"1\" class=\"dataframe\">\n",
       "  <thead>\n",
       "    <tr style=\"text-align: right;\">\n",
       "      <th></th>\n",
       "      <th>Unnamed: 0</th>\n",
       "      <th>CustomerKey</th>\n",
       "      <th>Gender</th>\n",
       "      <th>Name</th>\n",
       "      <th>City</th>\n",
       "      <th>State Code</th>\n",
       "      <th>State</th>\n",
       "      <th>Zip Code</th>\n",
       "      <th>Country</th>\n",
       "      <th>Continent</th>\n",
       "      <th>Birthday</th>\n",
       "    </tr>\n",
       "  </thead>\n",
       "  <tbody>\n",
       "    <tr>\n",
       "      <th>0</th>\n",
       "      <td>0</td>\n",
       "      <td>301</td>\n",
       "      <td>Female</td>\n",
       "      <td>Lilly Harding</td>\n",
       "      <td>WANDEARAH EAST</td>\n",
       "      <td>SA</td>\n",
       "      <td>South Australia</td>\n",
       "      <td>5523</td>\n",
       "      <td>Australia</td>\n",
       "      <td>Australia</td>\n",
       "      <td>1939-07-03</td>\n",
       "    </tr>\n",
       "    <tr>\n",
       "      <th>1</th>\n",
       "      <td>1</td>\n",
       "      <td>325</td>\n",
       "      <td>Female</td>\n",
       "      <td>Madison Hull</td>\n",
       "      <td>MOUNT BUDD</td>\n",
       "      <td>WA</td>\n",
       "      <td>Western Australia</td>\n",
       "      <td>6522</td>\n",
       "      <td>Australia</td>\n",
       "      <td>Australia</td>\n",
       "      <td>1979-09-27</td>\n",
       "    </tr>\n",
       "    <tr>\n",
       "      <th>2</th>\n",
       "      <td>2</td>\n",
       "      <td>554</td>\n",
       "      <td>Female</td>\n",
       "      <td>Claire Ferres</td>\n",
       "      <td>WINJALLOK</td>\n",
       "      <td>VIC</td>\n",
       "      <td>Victoria</td>\n",
       "      <td>3380</td>\n",
       "      <td>Australia</td>\n",
       "      <td>Australia</td>\n",
       "      <td>1947-05-26</td>\n",
       "    </tr>\n",
       "    <tr>\n",
       "      <th>3</th>\n",
       "      <td>3</td>\n",
       "      <td>786</td>\n",
       "      <td>Male</td>\n",
       "      <td>Jai Poltpalingada</td>\n",
       "      <td>MIDDLE RIVER</td>\n",
       "      <td>SA</td>\n",
       "      <td>South Australia</td>\n",
       "      <td>5223</td>\n",
       "      <td>Australia</td>\n",
       "      <td>Australia</td>\n",
       "      <td>1957-09-17</td>\n",
       "    </tr>\n",
       "    <tr>\n",
       "      <th>4</th>\n",
       "      <td>4</td>\n",
       "      <td>1042</td>\n",
       "      <td>Male</td>\n",
       "      <td>Aidan Pankhurst</td>\n",
       "      <td>TAWONGA SOUTH</td>\n",
       "      <td>VIC</td>\n",
       "      <td>Victoria</td>\n",
       "      <td>3698</td>\n",
       "      <td>Australia</td>\n",
       "      <td>Australia</td>\n",
       "      <td>1965-11-19</td>\n",
       "    </tr>\n",
       "    <tr>\n",
       "      <th>...</th>\n",
       "      <td>...</td>\n",
       "      <td>...</td>\n",
       "      <td>...</td>\n",
       "      <td>...</td>\n",
       "      <td>...</td>\n",
       "      <td>...</td>\n",
       "      <td>...</td>\n",
       "      <td>...</td>\n",
       "      <td>...</td>\n",
       "      <td>...</td>\n",
       "      <td>...</td>\n",
       "    </tr>\n",
       "    <tr>\n",
       "      <th>15261</th>\n",
       "      <td>15261</td>\n",
       "      <td>2099600</td>\n",
       "      <td>Female</td>\n",
       "      <td>Denisa DuÂkovÃ¡</td>\n",
       "      <td>Houston</td>\n",
       "      <td>TX</td>\n",
       "      <td>Texas</td>\n",
       "      <td>77017</td>\n",
       "      <td>United States</td>\n",
       "      <td>North America</td>\n",
       "      <td>1936-03-25</td>\n",
       "    </tr>\n",
       "    <tr>\n",
       "      <th>15262</th>\n",
       "      <td>15262</td>\n",
       "      <td>2099618</td>\n",
       "      <td>Male</td>\n",
       "      <td>Justin SolÃ³rzano</td>\n",
       "      <td>Mclean</td>\n",
       "      <td>VA</td>\n",
       "      <td>Virginia</td>\n",
       "      <td>22101</td>\n",
       "      <td>United States</td>\n",
       "      <td>North America</td>\n",
       "      <td>1992-02-16</td>\n",
       "    </tr>\n",
       "    <tr>\n",
       "      <th>15263</th>\n",
       "      <td>15263</td>\n",
       "      <td>2099758</td>\n",
       "      <td>Male</td>\n",
       "      <td>Svend Petrussen</td>\n",
       "      <td>Wilmington</td>\n",
       "      <td>NC</td>\n",
       "      <td>North Carolina</td>\n",
       "      <td>28405</td>\n",
       "      <td>United States</td>\n",
       "      <td>North America</td>\n",
       "      <td>1937-11-09</td>\n",
       "    </tr>\n",
       "    <tr>\n",
       "      <th>15264</th>\n",
       "      <td>15264</td>\n",
       "      <td>2099862</td>\n",
       "      <td>Female</td>\n",
       "      <td>Lorenza Rush</td>\n",
       "      <td>Riverside</td>\n",
       "      <td>CA</td>\n",
       "      <td>California</td>\n",
       "      <td>92501</td>\n",
       "      <td>United States</td>\n",
       "      <td>North America</td>\n",
       "      <td>1937-10-12</td>\n",
       "    </tr>\n",
       "    <tr>\n",
       "      <th>15265</th>\n",
       "      <td>15265</td>\n",
       "      <td>2099937</td>\n",
       "      <td>Male</td>\n",
       "      <td>Zygmunt Kaminski</td>\n",
       "      <td>Bloomfield Township</td>\n",
       "      <td>MI</td>\n",
       "      <td>Michigan</td>\n",
       "      <td>48302</td>\n",
       "      <td>United States</td>\n",
       "      <td>North America</td>\n",
       "      <td>1965-08-18</td>\n",
       "    </tr>\n",
       "  </tbody>\n",
       "</table>\n",
       "<p>15266 rows × 11 columns</p>\n",
       "</div>"
      ],
      "text/plain": [
       "       Unnamed: 0  CustomerKey  Gender               Name  \\\n",
       "0               0          301  Female      Lilly Harding   \n",
       "1               1          325  Female       Madison Hull   \n",
       "2               2          554  Female      Claire Ferres   \n",
       "3               3          786    Male  Jai Poltpalingada   \n",
       "4               4         1042    Male    Aidan Pankhurst   \n",
       "...           ...          ...     ...                ...   \n",
       "15261       15261      2099600  Female   Denisa DuÂkovÃ¡   \n",
       "15262       15262      2099618    Male  Justin SolÃ³rzano   \n",
       "15263       15263      2099758    Male    Svend Petrussen   \n",
       "15264       15264      2099862  Female       Lorenza Rush   \n",
       "15265       15265      2099937    Male   Zygmunt Kaminski   \n",
       "\n",
       "                      City State Code              State Zip Code  \\\n",
       "0           WANDEARAH EAST         SA    South Australia     5523   \n",
       "1               MOUNT BUDD         WA  Western Australia     6522   \n",
       "2                WINJALLOK        VIC           Victoria     3380   \n",
       "3             MIDDLE RIVER         SA    South Australia     5223   \n",
       "4            TAWONGA SOUTH        VIC           Victoria     3698   \n",
       "...                    ...        ...                ...      ...   \n",
       "15261              Houston         TX              Texas    77017   \n",
       "15262               Mclean         VA           Virginia    22101   \n",
       "15263           Wilmington         NC     North Carolina    28405   \n",
       "15264            Riverside         CA         California    92501   \n",
       "15265  Bloomfield Township         MI           Michigan    48302   \n",
       "\n",
       "             Country      Continent    Birthday  \n",
       "0          Australia      Australia  1939-07-03  \n",
       "1          Australia      Australia  1979-09-27  \n",
       "2          Australia      Australia  1947-05-26  \n",
       "3          Australia      Australia  1957-09-17  \n",
       "4          Australia      Australia  1965-11-19  \n",
       "...              ...            ...         ...  \n",
       "15261  United States  North America  1936-03-25  \n",
       "15262  United States  North America  1992-02-16  \n",
       "15263  United States  North America  1937-11-09  \n",
       "15264  United States  North America  1937-10-12  \n",
       "15265  United States  North America  1965-08-18  \n",
       "\n",
       "[15266 rows x 11 columns]"
      ]
     },
     "execution_count": 45,
     "metadata": {},
     "output_type": "execute_result"
    }
   ],
   "source": [
    "pd.read_csv('data_sal.csv')"
   ]
  },
  {
   "cell_type": "code",
   "execution_count": null,
   "id": "5766e575-7ce0-4ce8-bf43-bfefd06f0288",
   "metadata": {},
   "outputs": [],
   "source": [
    "data_sal['Quantity']"
   ]
  },
  {
   "cell_type": "code",
   "execution_count": 67,
   "id": "00cc48ed-ac0d-44f4-91cc-282feebeec54",
   "metadata": {},
   "outputs": [
    {
     "data": {
      "text/plain": [
       "CustomerKey\n",
       "723572     36\n",
       "1579183    32\n",
       "1925694    32\n",
       "1942072    29\n",
       "1972249    29\n",
       "           ..\n",
       "974784      1\n",
       "1068351     1\n",
       "315725      1\n",
       "1520217     1\n",
       "1237927     1\n",
       "Name: count, Length: 11887, dtype: int64"
      ]
     },
     "execution_count": 67,
     "metadata": {},
     "output_type": "execute_result"
    }
   ],
   "source": [
    "data_sal['CustomerKey'].value_counts()"
   ]
  },
  {
   "cell_type": "code",
   "execution_count": 69,
   "id": "ac122fd3-3245-4287-a4a2-2c19f845c364",
   "metadata": {},
   "outputs": [
    {
     "data": {
      "text/plain": [
       "ProductKey\n",
       "423     162\n",
       "446     158\n",
       "434     158\n",
       "458     158\n",
       "448     157\n",
       "       ... \n",
       "2306      1\n",
       "2346      1\n",
       "2232      1\n",
       "2243      1\n",
       "193       1\n",
       "Name: count, Length: 2492, dtype: int64"
      ]
     },
     "execution_count": 69,
     "metadata": {},
     "output_type": "execute_result"
    }
   ],
   "source": [
    "prod"
   ]
  },
  {
   "cell_type": "code",
   "execution_count": 25,
   "id": "c002b000-1807-4b77-b958-70de55758c7d",
   "metadata": {},
   "outputs": [],
   "source": [
    "prod = data_sal['ProductKey'].value_counts()"
   ]
  },
  {
   "cell_type": "code",
   "execution_count": 56,
   "id": "4db429e2-6ad0-4424-baa7-daa79019729d",
   "metadata": {},
   "outputs": [],
   "source": [
    "data_sal['Order Date'] = data_sal['Order Date'].astype('datetime64[ns]')"
   ]
  },
  {
   "cell_type": "code",
   "execution_count": 57,
   "id": "68dcfdfd-283d-40b1-b28a-e748ffb4fe8b",
   "metadata": {},
   "outputs": [
    {
     "name": "stdout",
     "output_type": "stream",
     "text": [
      "<class 'pandas.core.frame.DataFrame'>\n",
      "RangeIndex: 62884 entries, 0 to 62883\n",
      "Data columns (total 9 columns):\n",
      " #   Column         Non-Null Count  Dtype         \n",
      "---  ------         --------------  -----         \n",
      " 0   Order Number   62884 non-null  int64         \n",
      " 1   Line Item      62884 non-null  int64         \n",
      " 2   Order Date     62884 non-null  datetime64[ns]\n",
      " 3   Delivery Date  62884 non-null  object        \n",
      " 4   CustomerKey    62884 non-null  int64         \n",
      " 5   StoreKey       62884 non-null  int64         \n",
      " 6   ProductKey     62884 non-null  int64         \n",
      " 7   Quantity       62884 non-null  int64         \n",
      " 8   Currency Code  62884 non-null  object        \n",
      "dtypes: datetime64[ns](1), int64(6), object(2)\n",
      "memory usage: 4.3+ MB\n"
     ]
    }
   ],
   "source": [
    "data_sal.info()"
   ]
  },
  {
   "cell_type": "code",
   "execution_count": 42,
   "id": "f381f271-a54a-4189-b7fd-26e458e2b480",
   "metadata": {},
   "outputs": [
    {
     "data": {
      "text/plain": [
       "Order Number     0\n",
       "Line Item        0\n",
       "Order Date       0\n",
       "Delivery Date    0\n",
       "CustomerKey      0\n",
       "StoreKey         0\n",
       "ProductKey       0\n",
       "Quantity         0\n",
       "Currency Code    0\n",
       "dtype: int64"
      ]
     },
     "execution_count": 42,
     "metadata": {},
     "output_type": "execute_result"
    }
   ],
   "source": [
    "data_sal.isnull().sum()"
   ]
  },
  {
   "cell_type": "code",
   "execution_count": 58,
   "id": "a5938c3d-c8cf-44db-849d-5bb117de49fb",
   "metadata": {},
   "outputs": [],
   "source": [
    "data_sal['Delivery Date']=data_sal['Delivery Date'].fillna('yet to be')"
   ]
  },
  {
   "cell_type": "code",
   "execution_count": 59,
   "id": "07127737-e423-4df7-8dea-fa4fa66f6114",
   "metadata": {},
   "outputs": [
    {
     "data": {
      "text/html": [
       "<div>\n",
       "<style scoped>\n",
       "    .dataframe tbody tr th:only-of-type {\n",
       "        vertical-align: middle;\n",
       "    }\n",
       "\n",
       "    .dataframe tbody tr th {\n",
       "        vertical-align: top;\n",
       "    }\n",
       "\n",
       "    .dataframe thead th {\n",
       "        text-align: right;\n",
       "    }\n",
       "</style>\n",
       "<table border=\"1\" class=\"dataframe\">\n",
       "  <thead>\n",
       "    <tr style=\"text-align: right;\">\n",
       "      <th></th>\n",
       "      <th>Order Number</th>\n",
       "      <th>Line Item</th>\n",
       "      <th>Order Date</th>\n",
       "      <th>Delivery Date</th>\n",
       "      <th>CustomerKey</th>\n",
       "      <th>StoreKey</th>\n",
       "      <th>ProductKey</th>\n",
       "      <th>Quantity</th>\n",
       "      <th>Currency Code</th>\n",
       "    </tr>\n",
       "  </thead>\n",
       "  <tbody>\n",
       "    <tr>\n",
       "      <th>0</th>\n",
       "      <td>366000</td>\n",
       "      <td>1</td>\n",
       "      <td>2016-01-01</td>\n",
       "      <td>yet to be</td>\n",
       "      <td>265598</td>\n",
       "      <td>10</td>\n",
       "      <td>1304</td>\n",
       "      <td>1</td>\n",
       "      <td>CAD</td>\n",
       "    </tr>\n",
       "    <tr>\n",
       "      <th>1</th>\n",
       "      <td>366001</td>\n",
       "      <td>1</td>\n",
       "      <td>2016-01-01</td>\n",
       "      <td>1/13/2016</td>\n",
       "      <td>1269051</td>\n",
       "      <td>0</td>\n",
       "      <td>1048</td>\n",
       "      <td>2</td>\n",
       "      <td>USD</td>\n",
       "    </tr>\n",
       "    <tr>\n",
       "      <th>2</th>\n",
       "      <td>366001</td>\n",
       "      <td>2</td>\n",
       "      <td>2016-01-01</td>\n",
       "      <td>1/13/2016</td>\n",
       "      <td>1269051</td>\n",
       "      <td>0</td>\n",
       "      <td>2007</td>\n",
       "      <td>1</td>\n",
       "      <td>USD</td>\n",
       "    </tr>\n",
       "    <tr>\n",
       "      <th>3</th>\n",
       "      <td>366002</td>\n",
       "      <td>1</td>\n",
       "      <td>2016-01-01</td>\n",
       "      <td>1/12/2016</td>\n",
       "      <td>266019</td>\n",
       "      <td>0</td>\n",
       "      <td>1106</td>\n",
       "      <td>7</td>\n",
       "      <td>CAD</td>\n",
       "    </tr>\n",
       "    <tr>\n",
       "      <th>4</th>\n",
       "      <td>366002</td>\n",
       "      <td>2</td>\n",
       "      <td>2016-01-01</td>\n",
       "      <td>1/12/2016</td>\n",
       "      <td>266019</td>\n",
       "      <td>0</td>\n",
       "      <td>373</td>\n",
       "      <td>1</td>\n",
       "      <td>CAD</td>\n",
       "    </tr>\n",
       "    <tr>\n",
       "      <th>...</th>\n",
       "      <td>...</td>\n",
       "      <td>...</td>\n",
       "      <td>...</td>\n",
       "      <td>...</td>\n",
       "      <td>...</td>\n",
       "      <td>...</td>\n",
       "      <td>...</td>\n",
       "      <td>...</td>\n",
       "      <td>...</td>\n",
       "    </tr>\n",
       "    <tr>\n",
       "      <th>62879</th>\n",
       "      <td>2243030</td>\n",
       "      <td>1</td>\n",
       "      <td>2021-02-20</td>\n",
       "      <td>yet to be</td>\n",
       "      <td>1216913</td>\n",
       "      <td>43</td>\n",
       "      <td>632</td>\n",
       "      <td>3</td>\n",
       "      <td>USD</td>\n",
       "    </tr>\n",
       "    <tr>\n",
       "      <th>62880</th>\n",
       "      <td>2243031</td>\n",
       "      <td>1</td>\n",
       "      <td>2021-02-20</td>\n",
       "      <td>2/24/2021</td>\n",
       "      <td>511229</td>\n",
       "      <td>0</td>\n",
       "      <td>98</td>\n",
       "      <td>4</td>\n",
       "      <td>EUR</td>\n",
       "    </tr>\n",
       "    <tr>\n",
       "      <th>62881</th>\n",
       "      <td>2243032</td>\n",
       "      <td>1</td>\n",
       "      <td>2021-02-20</td>\n",
       "      <td>2/23/2021</td>\n",
       "      <td>331277</td>\n",
       "      <td>0</td>\n",
       "      <td>1613</td>\n",
       "      <td>2</td>\n",
       "      <td>CAD</td>\n",
       "    </tr>\n",
       "    <tr>\n",
       "      <th>62882</th>\n",
       "      <td>2243032</td>\n",
       "      <td>2</td>\n",
       "      <td>2021-02-20</td>\n",
       "      <td>2/23/2021</td>\n",
       "      <td>331277</td>\n",
       "      <td>0</td>\n",
       "      <td>1717</td>\n",
       "      <td>2</td>\n",
       "      <td>CAD</td>\n",
       "    </tr>\n",
       "    <tr>\n",
       "      <th>62883</th>\n",
       "      <td>2243032</td>\n",
       "      <td>3</td>\n",
       "      <td>2021-02-20</td>\n",
       "      <td>2/23/2021</td>\n",
       "      <td>331277</td>\n",
       "      <td>0</td>\n",
       "      <td>464</td>\n",
       "      <td>7</td>\n",
       "      <td>CAD</td>\n",
       "    </tr>\n",
       "  </tbody>\n",
       "</table>\n",
       "<p>62884 rows × 9 columns</p>\n",
       "</div>"
      ],
      "text/plain": [
       "       Order Number  Line Item Order Date Delivery Date  CustomerKey  \\\n",
       "0            366000          1 2016-01-01     yet to be       265598   \n",
       "1            366001          1 2016-01-01     1/13/2016      1269051   \n",
       "2            366001          2 2016-01-01     1/13/2016      1269051   \n",
       "3            366002          1 2016-01-01     1/12/2016       266019   \n",
       "4            366002          2 2016-01-01     1/12/2016       266019   \n",
       "...             ...        ...        ...           ...          ...   \n",
       "62879       2243030          1 2021-02-20     yet to be      1216913   \n",
       "62880       2243031          1 2021-02-20     2/24/2021       511229   \n",
       "62881       2243032          1 2021-02-20     2/23/2021       331277   \n",
       "62882       2243032          2 2021-02-20     2/23/2021       331277   \n",
       "62883       2243032          3 2021-02-20     2/23/2021       331277   \n",
       "\n",
       "       StoreKey  ProductKey  Quantity Currency Code  \n",
       "0            10        1304         1           CAD  \n",
       "1             0        1048         2           USD  \n",
       "2             0        2007         1           USD  \n",
       "3             0        1106         7           CAD  \n",
       "4             0         373         1           CAD  \n",
       "...         ...         ...       ...           ...  \n",
       "62879        43         632         3           USD  \n",
       "62880         0          98         4           EUR  \n",
       "62881         0        1613         2           CAD  \n",
       "62882         0        1717         2           CAD  \n",
       "62883         0         464         7           CAD  \n",
       "\n",
       "[62884 rows x 9 columns]"
      ]
     },
     "execution_count": 59,
     "metadata": {},
     "output_type": "execute_result"
    }
   ],
   "source": [
    "data_sal"
   ]
  },
  {
   "cell_type": "code",
   "execution_count": 47,
   "id": "55945c9f-98a7-4851-b3fa-76dbede38b86",
   "metadata": {},
   "outputs": [
    {
     "data": {
      "text/plain": [
       "ProductKey        0\n",
       "Product Name      0\n",
       "Brand             0\n",
       "Color             0\n",
       "Unit Cost USD     0\n",
       "Unit Price USD    0\n",
       "SubcategoryKey    0\n",
       "Subcategory       0\n",
       "CategoryKey       0\n",
       "Category          0\n",
       "dtype: int64"
      ]
     },
     "execution_count": 47,
     "metadata": {},
     "output_type": "execute_result"
    }
   ],
   "source": [
    "data_prod.isnull().sum()"
   ]
  },
  {
   "cell_type": "code",
   "execution_count": 63,
   "id": "2ddfb1ac-6fc6-4685-a9bc-e367fac78300",
   "metadata": {},
   "outputs": [],
   "source": [
    "data_prod = pd.read_csv('data_prod.csv',encoding='ISO-8859-1')"
   ]
  },
  {
   "cell_type": "code",
   "execution_count": 71,
   "id": "0a83d92a-6719-49ed-897b-dd3c143b9836",
   "metadata": {},
   "outputs": [
    {
     "data": {
      "text/html": [
       "<div>\n",
       "<style scoped>\n",
       "    .dataframe tbody tr th:only-of-type {\n",
       "        vertical-align: middle;\n",
       "    }\n",
       "\n",
       "    .dataframe tbody tr th {\n",
       "        vertical-align: top;\n",
       "    }\n",
       "\n",
       "    .dataframe thead th {\n",
       "        text-align: right;\n",
       "    }\n",
       "</style>\n",
       "<table border=\"1\" class=\"dataframe\">\n",
       "  <thead>\n",
       "    <tr style=\"text-align: right;\">\n",
       "      <th></th>\n",
       "      <th>ProductKey</th>\n",
       "      <th>Product Name</th>\n",
       "      <th>Brand</th>\n",
       "      <th>Color</th>\n",
       "      <th>Unit Cost USD</th>\n",
       "      <th>Unit Price USD</th>\n",
       "      <th>SubcategoryKey</th>\n",
       "      <th>Subcategory</th>\n",
       "      <th>CategoryKey</th>\n",
       "      <th>Category</th>\n",
       "    </tr>\n",
       "  </thead>\n",
       "  <tbody>\n",
       "    <tr>\n",
       "      <th>0</th>\n",
       "      <td>1</td>\n",
       "      <td>Contoso 512MB MP3 Player E51 Silver</td>\n",
       "      <td>Contoso</td>\n",
       "      <td>Silver</td>\n",
       "      <td>$6.62</td>\n",
       "      <td>$12.99</td>\n",
       "      <td>101</td>\n",
       "      <td>MP4&amp;MP3</td>\n",
       "      <td>1</td>\n",
       "      <td>Audio</td>\n",
       "    </tr>\n",
       "    <tr>\n",
       "      <th>1</th>\n",
       "      <td>2</td>\n",
       "      <td>Contoso 512MB MP3 Player E51 Blue</td>\n",
       "      <td>Contoso</td>\n",
       "      <td>Blue</td>\n",
       "      <td>$6.62</td>\n",
       "      <td>$12.99</td>\n",
       "      <td>101</td>\n",
       "      <td>MP4&amp;MP3</td>\n",
       "      <td>1</td>\n",
       "      <td>Audio</td>\n",
       "    </tr>\n",
       "    <tr>\n",
       "      <th>2</th>\n",
       "      <td>3</td>\n",
       "      <td>Contoso 1G MP3 Player E100 White</td>\n",
       "      <td>Contoso</td>\n",
       "      <td>White</td>\n",
       "      <td>$7.40</td>\n",
       "      <td>$14.52</td>\n",
       "      <td>101</td>\n",
       "      <td>MP4&amp;MP3</td>\n",
       "      <td>1</td>\n",
       "      <td>Audio</td>\n",
       "    </tr>\n",
       "    <tr>\n",
       "      <th>3</th>\n",
       "      <td>4</td>\n",
       "      <td>Contoso 2G MP3 Player E200 Silver</td>\n",
       "      <td>Contoso</td>\n",
       "      <td>Silver</td>\n",
       "      <td>$11.00</td>\n",
       "      <td>$21.57</td>\n",
       "      <td>101</td>\n",
       "      <td>MP4&amp;MP3</td>\n",
       "      <td>1</td>\n",
       "      <td>Audio</td>\n",
       "    </tr>\n",
       "    <tr>\n",
       "      <th>4</th>\n",
       "      <td>5</td>\n",
       "      <td>Contoso 2G MP3 Player E200 Red</td>\n",
       "      <td>Contoso</td>\n",
       "      <td>Red</td>\n",
       "      <td>$11.00</td>\n",
       "      <td>$21.57</td>\n",
       "      <td>101</td>\n",
       "      <td>MP4&amp;MP3</td>\n",
       "      <td>1</td>\n",
       "      <td>Audio</td>\n",
       "    </tr>\n",
       "    <tr>\n",
       "      <th>...</th>\n",
       "      <td>...</td>\n",
       "      <td>...</td>\n",
       "      <td>...</td>\n",
       "      <td>...</td>\n",
       "      <td>...</td>\n",
       "      <td>...</td>\n",
       "      <td>...</td>\n",
       "      <td>...</td>\n",
       "      <td>...</td>\n",
       "      <td>...</td>\n",
       "    </tr>\n",
       "    <tr>\n",
       "      <th>2512</th>\n",
       "      <td>2513</td>\n",
       "      <td>Contoso Bluetooth Active Headphones L15 Red</td>\n",
       "      <td>Contoso</td>\n",
       "      <td>Red</td>\n",
       "      <td>$43.07</td>\n",
       "      <td>$129.99</td>\n",
       "      <td>505</td>\n",
       "      <td>Cell phones Accessories</td>\n",
       "      <td>5</td>\n",
       "      <td>Cell phones</td>\n",
       "    </tr>\n",
       "    <tr>\n",
       "      <th>2513</th>\n",
       "      <td>2514</td>\n",
       "      <td>Contoso Bluetooth Active Headphones L15 White</td>\n",
       "      <td>Contoso</td>\n",
       "      <td>White</td>\n",
       "      <td>$43.07</td>\n",
       "      <td>$129.99</td>\n",
       "      <td>505</td>\n",
       "      <td>Cell phones Accessories</td>\n",
       "      <td>5</td>\n",
       "      <td>Cell phones</td>\n",
       "    </tr>\n",
       "    <tr>\n",
       "      <th>2514</th>\n",
       "      <td>2515</td>\n",
       "      <td>Contoso In-Line Coupler E180 White</td>\n",
       "      <td>Contoso</td>\n",
       "      <td>White</td>\n",
       "      <td>$1.71</td>\n",
       "      <td>$3.35</td>\n",
       "      <td>505</td>\n",
       "      <td>Cell phones Accessories</td>\n",
       "      <td>5</td>\n",
       "      <td>Cell phones</td>\n",
       "    </tr>\n",
       "    <tr>\n",
       "      <th>2515</th>\n",
       "      <td>2516</td>\n",
       "      <td>Contoso In-Line Coupler E180 Black</td>\n",
       "      <td>Contoso</td>\n",
       "      <td>Black</td>\n",
       "      <td>$1.71</td>\n",
       "      <td>$3.35</td>\n",
       "      <td>505</td>\n",
       "      <td>Cell phones Accessories</td>\n",
       "      <td>5</td>\n",
       "      <td>Cell phones</td>\n",
       "    </tr>\n",
       "    <tr>\n",
       "      <th>2516</th>\n",
       "      <td>2517</td>\n",
       "      <td>Contoso In-Line Coupler E180 Silver</td>\n",
       "      <td>Contoso</td>\n",
       "      <td>Silver</td>\n",
       "      <td>$1.71</td>\n",
       "      <td>$3.35</td>\n",
       "      <td>505</td>\n",
       "      <td>Cell phones Accessories</td>\n",
       "      <td>5</td>\n",
       "      <td>Cell phones</td>\n",
       "    </tr>\n",
       "  </tbody>\n",
       "</table>\n",
       "<p>2517 rows × 10 columns</p>\n",
       "</div>"
      ],
      "text/plain": [
       "      ProductKey                                   Product Name    Brand  \\\n",
       "0              1            Contoso 512MB MP3 Player E51 Silver  Contoso   \n",
       "1              2              Contoso 512MB MP3 Player E51 Blue  Contoso   \n",
       "2              3               Contoso 1G MP3 Player E100 White  Contoso   \n",
       "3              4              Contoso 2G MP3 Player E200 Silver  Contoso   \n",
       "4              5                 Contoso 2G MP3 Player E200 Red  Contoso   \n",
       "...          ...                                            ...      ...   \n",
       "2512        2513    Contoso Bluetooth Active Headphones L15 Red  Contoso   \n",
       "2513        2514  Contoso Bluetooth Active Headphones L15 White  Contoso   \n",
       "2514        2515             Contoso In-Line Coupler E180 White  Contoso   \n",
       "2515        2516             Contoso In-Line Coupler E180 Black  Contoso   \n",
       "2516        2517            Contoso In-Line Coupler E180 Silver  Contoso   \n",
       "\n",
       "       Color Unit Cost USD Unit Price USD  SubcategoryKey  \\\n",
       "0     Silver        $6.62         $12.99              101   \n",
       "1       Blue        $6.62         $12.99              101   \n",
       "2      White        $7.40         $14.52              101   \n",
       "3     Silver       $11.00         $21.57              101   \n",
       "4        Red       $11.00         $21.57              101   \n",
       "...      ...           ...            ...             ...   \n",
       "2512     Red       $43.07        $129.99              505   \n",
       "2513   White       $43.07        $129.99              505   \n",
       "2514   White        $1.71          $3.35              505   \n",
       "2515   Black        $1.71          $3.35              505   \n",
       "2516  Silver        $1.71          $3.35              505   \n",
       "\n",
       "                  Subcategory  CategoryKey     Category  \n",
       "0                     MP4&MP3            1        Audio  \n",
       "1                     MP4&MP3            1        Audio  \n",
       "2                     MP4&MP3            1        Audio  \n",
       "3                     MP4&MP3            1        Audio  \n",
       "4                     MP4&MP3            1        Audio  \n",
       "...                       ...          ...          ...  \n",
       "2512  Cell phones Accessories            5  Cell phones  \n",
       "2513  Cell phones Accessories            5  Cell phones  \n",
       "2514  Cell phones Accessories            5  Cell phones  \n",
       "2515  Cell phones Accessories            5  Cell phones  \n",
       "2516  Cell phones Accessories            5  Cell phones  \n",
       "\n",
       "[2517 rows x 10 columns]"
      ]
     },
     "execution_count": 71,
     "metadata": {},
     "output_type": "execute_result"
    }
   ],
   "source": [
    "data_prod"
   ]
  },
  {
   "cell_type": "markdown",
   "id": "8914aca0-102d-43b0-9599-9af873e0c686",
   "metadata": {},
   "source": [
    "### Exploratory Data Analysis"
   ]
  },
  {
   "cell_type": "code",
   "execution_count": 25,
   "id": "4f8a5384-91be-4e5b-b81b-1898544a431e",
   "metadata": {},
   "outputs": [
    {
     "data": {
      "text/plain": [
       "<Axes: title={'center': 'count of production'}, xlabel='Brand', ylabel='count'>"
      ]
     },
     "execution_count": 25,
     "metadata": {},
     "output_type": "execute_result"
    },
    {
     "data": {
      "image/png": "[encoded data removed]",
      "text/plain": [
       "<Figure size 1800x500 with 1 Axes>"
      ]
     },
     "metadata": {},
     "output_type": "display_data"
    }
   ],
   "source": [
    "plt.figure(figsize=(18,5))\n",
    "plt.title('count of production')\n",
    "sns.countplot(data = data_prod,x='Brand')"
   ]
  },
  {
   "cell_type": "code",
   "execution_count": 27,
   "id": "2563db50-a9ac-4674-9b4a-c08a16706b85",
   "metadata": {},
   "outputs": [
    {
     "data": {
      "text/plain": [
       "<Axes: title={'center': 'count of product colors'}, xlabel='Color', ylabel='count'>"
      ]
     },
     "execution_count": 27,
     "metadata": {},
     "output_type": "execute_result"
    },
    {
     "data": {
      "image/png": "[encoded data removed]",
      "text/plain": [
       "<Figure size 1600x500 with 1 Axes>"
      ]
     },
     "metadata": {},
     "output_type": "display_data"
    }
   ],
   "source": [
    "plt.figure(figsize=(16,5))\n",
    "plt.title('count of product colors')\n",
    "sns.countplot(data = data_prod,x='Color')"
   ]
  },
  {
   "cell_type": "code",
   "execution_count": 45,
   "id": "5380a149-485c-44aa-adf1-18516fae000a",
   "metadata": {},
   "outputs": [
    {
     "data": {
      "text/plain": [
       "ProductKey        0\n",
       "Product Name      0\n",
       "Brand             0\n",
       "Color             0\n",
       "Unit Cost USD     0\n",
       "Unit Price USD    0\n",
       "SubcategoryKey    0\n",
       "Subcategory       0\n",
       "CategoryKey       0\n",
       "Category          0\n",
       "dtype: int64"
      ]
     },
     "execution_count": 45,
     "metadata": {},
     "output_type": "execute_result"
    }
   ],
   "source": [
    "data_prod.isnull().sum()"
   ]
  },
  {
   "cell_type": "code",
   "execution_count": 52,
   "id": "4cf887a7-bf1f-4dd2-af8b-4f6c42aa19f9",
   "metadata": {},
   "outputs": [],
   "source": [
    "data_ER = pd.read_csv('Exchange_Rates (1).csv',encoding='ISO-8859-1') "
   ]
  },
  {
   "cell_type": "code",
   "execution_count": 53,
   "id": "c4a87995-e74b-4656-8a57-a72e05e88430",
   "metadata": {},
   "outputs": [],
   "source": [
    "data_ER['Date'] = data_ER['Date'].astype('datetime64[ns]')"
   ]
  },
  {
   "cell_type": "code",
   "execution_count": 33,
   "id": "e06b8cc2-e529-4907-9e50-0e583cd98ce5",
   "metadata": {},
   "outputs": [
    {
     "data": {
      "text/plain": [
       "Date        0\n",
       "Currency    0\n",
       "Exchange    0\n",
       "dtype: int64"
      ]
     },
     "execution_count": 33,
     "metadata": {},
     "output_type": "execute_result"
    }
   ],
   "source": [
    "data_ER.isnull().sum()"
   ]
  },
  {
   "cell_type": "code",
   "execution_count": 47,
   "id": "3489646d-545b-4a97-8b9a-ebe7af149480",
   "metadata": {},
   "outputs": [
    {
     "data": {
      "text/plain": [
       "5607    AUD\n",
       "3622    AUD\n",
       "9402    AUD\n",
       "3627    AUD\n",
       "3632    AUD\n",
       "       ... \n",
       "4355    USD\n",
       "4350    USD\n",
       "9040    USD\n",
       "4375    USD\n",
       "0       USD\n",
       "Name: Currency, Length: 11215, dtype: object"
      ]
     },
     "execution_count": 47,
     "metadata": {},
     "output_type": "execute_result"
    }
   ],
   "source": [
    "data_ER['Currency'].sort_values(ascending = True)"
   ]
  },
  {
   "cell_type": "code",
   "execution_count": 39,
   "id": "c8428009-2ab2-4d4b-9c12-7e3807206b72",
   "metadata": {},
   "outputs": [
    {
     "data": {
      "text/plain": [
       "<Axes: xlabel='Exchange', ylabel='Density'>"
      ]
     },
     "execution_count": 39,
     "metadata": {},
     "output_type": "execute_result"
    },
    {
     "data": {
      "image/png": "[encoded data removed]",
      "text/plain": [
       "<Figure size 640x480 with 1 Axes>"
      ]
     },
     "metadata": {},
     "output_type": "display_data"
    }
   ],
   "source": [
    "sns.kdeplot(data_ER['Exchange'])"
   ]
  },
  {
   "cell_type": "code",
   "execution_count": 37,
   "id": "2fb86783-04a5-415f-9233-5f4db20e83ce",
   "metadata": {},
   "outputs": [
    {
     "data": {
      "text/html": [
       "<div>\n",
       "<style scoped>\n",
       "    .dataframe tbody tr th:only-of-type {\n",
       "        vertical-align: middle;\n",
       "    }\n",
       "\n",
       "    .dataframe tbody tr th {\n",
       "        vertical-align: top;\n",
       "    }\n",
       "\n",
       "    .dataframe thead th {\n",
       "        text-align: right;\n",
       "    }\n",
       "</style>\n",
       "<table border=\"1\" class=\"dataframe\">\n",
       "  <thead>\n",
       "    <tr style=\"text-align: right;\">\n",
       "      <th></th>\n",
       "      <th>Date</th>\n",
       "      <th>Currency</th>\n",
       "      <th>Exchange</th>\n",
       "    </tr>\n",
       "  </thead>\n",
       "  <tbody>\n",
       "    <tr>\n",
       "      <th>0</th>\n",
       "      <td>1/1/2015</td>\n",
       "      <td>USD</td>\n",
       "      <td>1.0000</td>\n",
       "    </tr>\n",
       "    <tr>\n",
       "      <th>1</th>\n",
       "      <td>1/1/2015</td>\n",
       "      <td>CAD</td>\n",
       "      <td>1.1583</td>\n",
       "    </tr>\n",
       "    <tr>\n",
       "      <th>2</th>\n",
       "      <td>1/1/2015</td>\n",
       "      <td>AUD</td>\n",
       "      <td>1.2214</td>\n",
       "    </tr>\n",
       "    <tr>\n",
       "      <th>3</th>\n",
       "      <td>1/1/2015</td>\n",
       "      <td>EUR</td>\n",
       "      <td>0.8237</td>\n",
       "    </tr>\n",
       "    <tr>\n",
       "      <th>4</th>\n",
       "      <td>1/1/2015</td>\n",
       "      <td>GBP</td>\n",
       "      <td>0.6415</td>\n",
       "    </tr>\n",
       "    <tr>\n",
       "      <th>5</th>\n",
       "      <td>1/2/2015</td>\n",
       "      <td>USD</td>\n",
       "      <td>1.0000</td>\n",
       "    </tr>\n",
       "    <tr>\n",
       "      <th>6</th>\n",
       "      <td>1/2/2015</td>\n",
       "      <td>CAD</td>\n",
       "      <td>1.1682</td>\n",
       "    </tr>\n",
       "    <tr>\n",
       "      <th>7</th>\n",
       "      <td>1/2/2015</td>\n",
       "      <td>AUD</td>\n",
       "      <td>1.2323</td>\n",
       "    </tr>\n",
       "    <tr>\n",
       "      <th>8</th>\n",
       "      <td>1/2/2015</td>\n",
       "      <td>EUR</td>\n",
       "      <td>0.8304</td>\n",
       "    </tr>\n",
       "    <tr>\n",
       "      <th>9</th>\n",
       "      <td>1/2/2015</td>\n",
       "      <td>GBP</td>\n",
       "      <td>0.6477</td>\n",
       "    </tr>\n",
       "  </tbody>\n",
       "</table>\n",
       "</div>"
      ],
      "text/plain": [
       "       Date Currency  Exchange\n",
       "0  1/1/2015      USD    1.0000\n",
       "1  1/1/2015      CAD    1.1583\n",
       "2  1/1/2015      AUD    1.2214\n",
       "3  1/1/2015      EUR    0.8237\n",
       "4  1/1/2015      GBP    0.6415\n",
       "5  1/2/2015      USD    1.0000\n",
       "6  1/2/2015      CAD    1.1682\n",
       "7  1/2/2015      AUD    1.2323\n",
       "8  1/2/2015      EUR    0.8304\n",
       "9  1/2/2015      GBP    0.6477"
      ]
     },
     "execution_count": 37,
     "metadata": {},
     "output_type": "execute_result"
    }
   ],
   "source": [
    "data_ER.head(10)"
   ]
  },
  {
   "cell_type": "code",
   "execution_count": 31,
   "id": "9d8aead8-e6e6-4f4a-8439-3405237429c4",
   "metadata": {},
   "outputs": [
    {
     "data": {
      "text/plain": [
       "Date\n",
       "1/1/2015     5\n",
       "2/7/2019     5\n",
       "2/1/2019     5\n",
       "2/2/2019     5\n",
       "2/3/2019     5\n",
       "            ..\n",
       "1/11/2017    5\n",
       "1/10/2017    5\n",
       "1/9/2017     5\n",
       "1/8/2017     5\n",
       "2/20/2021    5\n",
       "Name: count, Length: 2243, dtype: int64"
      ]
     },
     "execution_count": 31,
     "metadata": {},
     "output_type": "execute_result"
    }
   ],
   "source": [
    "data_ER['Date ].value_counts()"
   ]
  },
  {
   "cell_type": "markdown",
   "id": "99e7cefa-dd3f-4da0-8ab9-7ab44ff95cf4",
   "metadata": {},
   "source": [
    "data_sal.info()"
   ]
  },
  {
   "cell_type": "code",
   "execution_count": 21,
   "id": "51147e87-b850-4d2b-b33c-3d584f3e288f",
   "metadata": {},
   "outputs": [
    {
     "data": {
      "text/plain": [
       "['.ipynb_checkpoints',\n",
       " 'app1.py',\n",
       " 'Customers (2).csv',\n",
       " 'data.csv',\n",
       " 'data.json',\n",
       " 'Data_Dictionary.csv',\n",
       " 'data_vis.ipynb',\n",
       " 'example_csv.csv',\n",
       " 'example_json.json',\n",
       " 'exaple_json.json',\n",
       " 'Exchange_Rates (1).csv',\n",
       " 'file',\n",
       " 'health_data.csv',\n",
       " 'health_data_1.csv',\n",
       " 'Prob_Stat.pdf',\n",
       " 'Products.csv',\n",
       " 'project_2.ipynb',\n",
       " 'python c2.ipynb',\n",
       " 'python c3.ipynb',\n",
       " 'python c4.ipynb',\n",
       " 'python c5.ipynb',\n",
       " 'python c6.ipynb',\n",
       " 'python c8.ipynb',\n",
       " 'python07.ipynb',\n",
       " 'python_11 - DF -03.ipynb',\n",
       " 'r.jpeg',\n",
       " 'redbus_data_01-Copy1.csv',\n",
       " 'redbus_data_01.csv',\n",
       " 'redbus_data_01.xls',\n",
       " 'redbus_db_conn.ipynb',\n",
       " 'Sales.csv',\n",
       " 'scrappy.ipynb',\n",
       " 'Stats_02_dist_variance.pdf',\n",
       " 'Stores (1).csv',\n",
       " 'streamlit.ipynb',\n",
       " 'visu_01.ipynb']"
      ]
     },
     "execution_count": 21,
     "metadata": {},
     "output_type": "execute_result"
    }
   ],
   "source": [
    "os.listdir()"
   ]
  },
  {
   "cell_type": "code",
   "execution_count": 35,
   "id": "0b5782cb-67df-4ce9-9c5f-28012d0b01ed",
   "metadata": {},
   "outputs": [],
   "source": [
    "# plotting for exploration"
   ]
  },
  {
   "cell_type": "code",
   "execution_count": 54,
   "id": "327961df-0c41-48b2-b55f-1bfb95e97f3a",
   "metadata": {},
   "outputs": [],
   "source": [
    "sales = data_sal.select_dtypes(include='int64')"
   ]
  },
  {
   "cell_type": "code",
   "execution_count": 55,
   "id": "62e3d4c4-13d5-4b09-b85a-09b6dc6e5ab4",
   "metadata": {},
   "outputs": [
    {
     "name": "stdout",
     "output_type": "stream",
     "text": [
      "<class 'pandas.core.frame.DataFrame'>\n",
      "RangeIndex: 62884 entries, 0 to 62883\n",
      "Data columns (total 9 columns):\n",
      " #   Column         Non-Null Count  Dtype \n",
      "---  ------         --------------  ----- \n",
      " 0   Order Number   62884 non-null  int64 \n",
      " 1   Line Item      62884 non-null  int64 \n",
      " 2   Order Date     62884 non-null  object\n",
      " 3   Delivery Date  62884 non-null  object\n",
      " 4   CustomerKey    62884 non-null  int64 \n",
      " 5   StoreKey       62884 non-null  int64 \n",
      " 6   ProductKey     62884 non-null  int64 \n",
      " 7   Quantity       62884 non-null  int64 \n",
      " 8   Currency Code  62884 non-null  object\n",
      "dtypes: int64(6), object(3)\n",
      "memory usage: 4.3+ MB\n"
     ]
    }
   ],
   "source": [
    "data_sal.info()"
   ]
  },
  {
   "cell_type": "code",
   "execution_count": null,
   "id": "9d42256a-28a7-4282-9eb1-8cab7e190bad",
   "metadata": {},
   "outputs": [],
   "source": [
    "#find correlation between sales data"
   ]
  },
  {
   "cell_type": "code",
   "execution_count": 69,
   "id": "08f70820-f31f-4d49-b7b2-e4215db8bd2b",
   "metadata": {},
   "outputs": [
    {
     "data": {
      "image/png": "[encoded data removed]",
      "text/plain": [
       "<Figure size 1300x500 with 2 Axes>"
      ]
     },
     "metadata": {},
     "output_type": "display_data"
    }
   ],
   "source": [
    "corr = sales.corr()\n",
    "plt.figure(figsize=(13,5))\n",
    "sns.heatmap(corr,annot = True,fmt = \".2f\",cmap=\"coolwarm\")\n",
    "plt.show()"
   ]
  },
  {
   "cell_type": "code",
   "execution_count": 73,
   "id": "a9f860e6-72b0-4446-8e9f-64dbbae4d926",
   "metadata": {},
   "outputs": [
    {
     "name": "stdout",
     "output_type": "stream",
     "text": [
      "<class 'pandas.core.frame.DataFrame'>\n",
      "RangeIndex: 11215 entries, 0 to 11214\n",
      "Data columns (total 3 columns):\n",
      " #   Column    Non-Null Count  Dtype  \n",
      "---  ------    --------------  -----  \n",
      " 0   Date      11215 non-null  object \n",
      " 1   Currency  11215 non-null  object \n",
      " 2   Exchange  11215 non-null  float64\n",
      "dtypes: float64(1), object(2)\n",
      "memory usage: 263.0+ KB\n"
     ]
    }
   ],
   "source": [
    "data_ER.info()"
   ]
  },
  {
   "cell_type": "code",
   "execution_count": 75,
   "id": "6a05c118-8d8a-48ed-b40d-04da67286637",
   "metadata": {},
   "outputs": [
    {
     "data": {
      "text/html": [
       "<div>\n",
       "<style scoped>\n",
       "    .dataframe tbody tr th:only-of-type {\n",
       "        vertical-align: middle;\n",
       "    }\n",
       "\n",
       "    .dataframe tbody tr th {\n",
       "        vertical-align: top;\n",
       "    }\n",
       "\n",
       "    .dataframe thead th {\n",
       "        text-align: right;\n",
       "    }\n",
       "</style>\n",
       "<table border=\"1\" class=\"dataframe\">\n",
       "  <thead>\n",
       "    <tr style=\"text-align: right;\">\n",
       "      <th></th>\n",
       "      <th>Date</th>\n",
       "      <th>Currency</th>\n",
       "      <th>Exchange</th>\n",
       "    </tr>\n",
       "  </thead>\n",
       "  <tbody>\n",
       "    <tr>\n",
       "      <th>0</th>\n",
       "      <td>1/1/2015</td>\n",
       "      <td>USD</td>\n",
       "      <td>1.0000</td>\n",
       "    </tr>\n",
       "    <tr>\n",
       "      <th>1</th>\n",
       "      <td>1/1/2015</td>\n",
       "      <td>CAD</td>\n",
       "      <td>1.1583</td>\n",
       "    </tr>\n",
       "    <tr>\n",
       "      <th>2</th>\n",
       "      <td>1/1/2015</td>\n",
       "      <td>AUD</td>\n",
       "      <td>1.2214</td>\n",
       "    </tr>\n",
       "    <tr>\n",
       "      <th>3</th>\n",
       "      <td>1/1/2015</td>\n",
       "      <td>EUR</td>\n",
       "      <td>0.8237</td>\n",
       "    </tr>\n",
       "    <tr>\n",
       "      <th>4</th>\n",
       "      <td>1/1/2015</td>\n",
       "      <td>GBP</td>\n",
       "      <td>0.6415</td>\n",
       "    </tr>\n",
       "  </tbody>\n",
       "</table>\n",
       "</div>"
      ],
      "text/plain": [
       "       Date Currency  Exchange\n",
       "0  1/1/2015      USD    1.0000\n",
       "1  1/1/2015      CAD    1.1583\n",
       "2  1/1/2015      AUD    1.2214\n",
       "3  1/1/2015      EUR    0.8237\n",
       "4  1/1/2015      GBP    0.6415"
      ]
     },
     "execution_count": 75,
     "metadata": {},
     "output_type": "execute_result"
    }
   ],
   "source": [
    "data_ER.head()"
   ]
  },
  {
   "cell_type": "code",
   "execution_count": 115,
   "id": "774a5682-5e26-48ea-9ad2-5d12ed03f1b5",
   "metadata": {},
   "outputs": [
    {
     "data": {
      "text/html": [
       "<div>\n",
       "<style scoped>\n",
       "    .dataframe tbody tr th:only-of-type {\n",
       "        vertical-align: middle;\n",
       "    }\n",
       "\n",
       "    .dataframe tbody tr th {\n",
       "        vertical-align: top;\n",
       "    }\n",
       "\n",
       "    .dataframe thead th {\n",
       "        text-align: right;\n",
       "    }\n",
       "</style>\n",
       "<table border=\"1\" class=\"dataframe\">\n",
       "  <thead>\n",
       "    <tr style=\"text-align: right;\">\n",
       "      <th></th>\n",
       "      <th>CustomerKey</th>\n",
       "      <th>Gender</th>\n",
       "      <th>Name</th>\n",
       "      <th>City</th>\n",
       "      <th>State Code</th>\n",
       "      <th>State</th>\n",
       "      <th>Zip Code</th>\n",
       "      <th>Country</th>\n",
       "      <th>Continent</th>\n",
       "      <th>Birthday</th>\n",
       "    </tr>\n",
       "  </thead>\n",
       "  <tbody>\n",
       "    <tr>\n",
       "      <th>0</th>\n",
       "      <td>301</td>\n",
       "      <td>Female</td>\n",
       "      <td>Lilly Harding</td>\n",
       "      <td>WANDEARAH EAST</td>\n",
       "      <td>SA</td>\n",
       "      <td>South Australia</td>\n",
       "      <td>5523</td>\n",
       "      <td>Australia</td>\n",
       "      <td>Australia</td>\n",
       "      <td>1939-07-03</td>\n",
       "    </tr>\n",
       "    <tr>\n",
       "      <th>1</th>\n",
       "      <td>325</td>\n",
       "      <td>Female</td>\n",
       "      <td>Madison Hull</td>\n",
       "      <td>MOUNT BUDD</td>\n",
       "      <td>WA</td>\n",
       "      <td>Western Australia</td>\n",
       "      <td>6522</td>\n",
       "      <td>Australia</td>\n",
       "      <td>Australia</td>\n",
       "      <td>1979-09-27</td>\n",
       "    </tr>\n",
       "    <tr>\n",
       "      <th>2</th>\n",
       "      <td>554</td>\n",
       "      <td>Female</td>\n",
       "      <td>Claire Ferres</td>\n",
       "      <td>WINJALLOK</td>\n",
       "      <td>VIC</td>\n",
       "      <td>Victoria</td>\n",
       "      <td>3380</td>\n",
       "      <td>Australia</td>\n",
       "      <td>Australia</td>\n",
       "      <td>1947-05-26</td>\n",
       "    </tr>\n",
       "    <tr>\n",
       "      <th>3</th>\n",
       "      <td>786</td>\n",
       "      <td>Male</td>\n",
       "      <td>Jai Poltpalingada</td>\n",
       "      <td>MIDDLE RIVER</td>\n",
       "      <td>SA</td>\n",
       "      <td>South Australia</td>\n",
       "      <td>5223</td>\n",
       "      <td>Australia</td>\n",
       "      <td>Australia</td>\n",
       "      <td>1957-09-17</td>\n",
       "    </tr>\n",
       "    <tr>\n",
       "      <th>4</th>\n",
       "      <td>1042</td>\n",
       "      <td>Male</td>\n",
       "      <td>Aidan Pankhurst</td>\n",
       "      <td>TAWONGA SOUTH</td>\n",
       "      <td>VIC</td>\n",
       "      <td>Victoria</td>\n",
       "      <td>3698</td>\n",
       "      <td>Australia</td>\n",
       "      <td>Australia</td>\n",
       "      <td>1965-11-19</td>\n",
       "    </tr>\n",
       "    <tr>\n",
       "      <th>5</th>\n",
       "      <td>1086</td>\n",
       "      <td>Male</td>\n",
       "      <td>Hayden Clegg</td>\n",
       "      <td>TEMPLERS</td>\n",
       "      <td>SA</td>\n",
       "      <td>South Australia</td>\n",
       "      <td>5371</td>\n",
       "      <td>Australia</td>\n",
       "      <td>Australia</td>\n",
       "      <td>1954-01-20</td>\n",
       "    </tr>\n",
       "    <tr>\n",
       "      <th>6</th>\n",
       "      <td>1133</td>\n",
       "      <td>Male</td>\n",
       "      <td>Nicholas Caffyn</td>\n",
       "      <td>JUBILEE POCKET</td>\n",
       "      <td>QLD</td>\n",
       "      <td>Queensland</td>\n",
       "      <td>4802</td>\n",
       "      <td>Australia</td>\n",
       "      <td>Australia</td>\n",
       "      <td>1969-11-22</td>\n",
       "    </tr>\n",
       "    <tr>\n",
       "      <th>7</th>\n",
       "      <td>1256</td>\n",
       "      <td>Male</td>\n",
       "      <td>Lincoln Jenks</td>\n",
       "      <td>KULLOGUM</td>\n",
       "      <td>QLD</td>\n",
       "      <td>Queensland</td>\n",
       "      <td>4660</td>\n",
       "      <td>Australia</td>\n",
       "      <td>Australia</td>\n",
       "      <td>1950-03-12</td>\n",
       "    </tr>\n",
       "    <tr>\n",
       "      <th>8</th>\n",
       "      <td>1314</td>\n",
       "      <td>Male</td>\n",
       "      <td>Isaac Israel</td>\n",
       "      <td>EDITH RIVER</td>\n",
       "      <td>NT</td>\n",
       "      <td>Northern Territory</td>\n",
       "      <td>852</td>\n",
       "      <td>Australia</td>\n",
       "      <td>Australia</td>\n",
       "      <td>1965-12-21</td>\n",
       "    </tr>\n",
       "    <tr>\n",
       "      <th>9</th>\n",
       "      <td>1568</td>\n",
       "      <td>Male</td>\n",
       "      <td>Luke Virtue</td>\n",
       "      <td>KOTTA</td>\n",
       "      <td>VIC</td>\n",
       "      <td>Victoria</td>\n",
       "      <td>3565</td>\n",
       "      <td>Australia</td>\n",
       "      <td>Australia</td>\n",
       "      <td>1975-07-25</td>\n",
       "    </tr>\n",
       "  </tbody>\n",
       "</table>\n",
       "</div>"
      ],
      "text/plain": [
       "   CustomerKey  Gender               Name            City State Code  \\\n",
       "0          301  Female      Lilly Harding  WANDEARAH EAST         SA   \n",
       "1          325  Female       Madison Hull      MOUNT BUDD         WA   \n",
       "2          554  Female      Claire Ferres       WINJALLOK        VIC   \n",
       "3          786    Male  Jai Poltpalingada    MIDDLE RIVER         SA   \n",
       "4         1042    Male    Aidan Pankhurst   TAWONGA SOUTH        VIC   \n",
       "5         1086    Male       Hayden Clegg        TEMPLERS         SA   \n",
       "6         1133    Male    Nicholas Caffyn  JUBILEE POCKET        QLD   \n",
       "7         1256    Male      Lincoln Jenks        KULLOGUM        QLD   \n",
       "8         1314    Male       Isaac Israel     EDITH RIVER         NT   \n",
       "9         1568    Male        Luke Virtue           KOTTA        VIC   \n",
       "\n",
       "                State Zip Code    Country  Continent   Birthday  \n",
       "0     South Australia     5523  Australia  Australia 1939-07-03  \n",
       "1   Western Australia     6522  Australia  Australia 1979-09-27  \n",
       "2            Victoria     3380  Australia  Australia 1947-05-26  \n",
       "3     South Australia     5223  Australia  Australia 1957-09-17  \n",
       "4            Victoria     3698  Australia  Australia 1965-11-19  \n",
       "5     South Australia     5371  Australia  Australia 1954-01-20  \n",
       "6          Queensland     4802  Australia  Australia 1969-11-22  \n",
       "7          Queensland     4660  Australia  Australia 1950-03-12  \n",
       "8  Northern Territory      852  Australia  Australia 1965-12-21  \n",
       "9            Victoria     3565  Australia  Australia 1975-07-25  "
      ]
     },
     "execution_count": 115,
     "metadata": {},
     "output_type": "execute_result"
    }
   ],
   "source": [
    "data_cust.head(10)"
   ]
  },
  {
   "cell_type": "code",
   "execution_count": 119,
   "id": "16681fdb-e37c-4442-b552-d8e3c62e6a28",
   "metadata": {},
   "outputs": [],
   "source": [
    "data_cust.to_csv('data_cust.csv')"
   ]
  },
  {
   "cell_type": "code",
   "execution_count": 60,
   "id": "f9d48ba8-c6b8-4d81-b9c2-af7bc94270f1",
   "metadata": {},
   "outputs": [],
   "source": [
    "data_sal.to_csv('data_sal.csv')"
   ]
  },
  {
   "cell_type": "code",
   "execution_count": 61,
   "id": "e229d9e4-940f-4683-a1c1-00b42d523bd8",
   "metadata": {},
   "outputs": [
    {
     "ename": "NameError",
     "evalue": "name 'data_prod' is not defined",
     "output_type": "error",
     "traceback": [
      "\u001b[1;31m---------------------------------------------------------------------------\u001b[0m",
      "\u001b[1;31mNameError\u001b[0m                                 Traceback (most recent call last)",
      "Cell \u001b[1;32mIn[61], line 1\u001b[0m\n\u001b[1;32m----> 1\u001b[0m data_prod\u001b[38;5;241m.\u001b[39mto_csv(\u001b[38;5;124m'\u001b[39m\u001b[38;5;124mdata_prod.csv\u001b[39m\u001b[38;5;124m'\u001b[39m)\n",
      "\u001b[1;31mNameError\u001b[0m: name 'data_prod' is not defined"
     ]
    }
   ],
   "source": [
    "data_prod.to_csv('data_prod.csv')"
   ]
  },
  {
   "cell_type": "code",
   "execution_count": 135,
   "id": "03460993-2b7d-447c-8c7b-963aaca6d22e",
   "metadata": {},
   "outputs": [],
   "source": [
    "data_ER.to_csv('data_ER.csv')"
   ]
  },
  {
   "cell_type": "code",
   "execution_count": 145,
   "id": "2a2453ff-cc7b-4f62-a601-bd27d8b5a812",
   "metadata": {},
   "outputs": [],
   "source": [
    "data_st.to_csv('data_st.csv')"
   ]
  },
  {
   "cell_type": "code",
   "execution_count": 296,
   "id": "ef420f10-2e43-40a4-b93c-4e068414800c",
   "metadata": {},
   "outputs": [],
   "source": [
    "data['Open Date'] = data['Open Date'].astype('datetime64[ns]')"
   ]
  },
  {
   "cell_type": "code",
   "execution_count": 139,
   "id": "c0fcb5b1-53d5-4774-958e-52d85f0b655c",
   "metadata": {},
   "outputs": [
    {
     "name": "stdout",
     "output_type": "stream",
     "text": [
      "<class 'pandas.core.frame.DataFrame'>\n",
      "RangeIndex: 67 entries, 0 to 66\n",
      "Data columns (total 5 columns):\n",
      " #   Column         Non-Null Count  Dtype  \n",
      "---  ------         --------------  -----  \n",
      " 0   StoreKey       67 non-null     int64  \n",
      " 1   Country        67 non-null     object \n",
      " 2   State          67 non-null     object \n",
      " 3   Square Meters  66 non-null     float64\n",
      " 4   Open Date      67 non-null     object \n",
      "dtypes: float64(1), int64(1), object(3)\n",
      "memory usage: 2.7+ KB\n"
     ]
    }
   ],
   "source": [
    "data_st.info()"
   ]
  },
  {
   "cell_type": "code",
   "execution_count": 117,
   "id": "0b5fb874-7525-418e-b9fd-5a60adef7d53",
   "metadata": {},
   "outputs": [
    {
     "name": "stdout",
     "output_type": "stream",
     "text": [
      "<class 'pandas.core.frame.DataFrame'>\n",
      "RangeIndex: 15266 entries, 0 to 15265\n",
      "Data columns (total 10 columns):\n",
      " #   Column       Non-Null Count  Dtype         \n",
      "---  ------       --------------  -----         \n",
      " 0   CustomerKey  15266 non-null  int64         \n",
      " 1   Gender       15266 non-null  object        \n",
      " 2   Name         15266 non-null  object        \n",
      " 3   City         15266 non-null  object        \n",
      " 4   State Code   15266 non-null  object        \n",
      " 5   State        15266 non-null  object        \n",
      " 6   Zip Code     15266 non-null  object        \n",
      " 7   Country      15266 non-null  object        \n",
      " 8   Continent    15266 non-null  object        \n",
      " 9   Birthday     15266 non-null  datetime64[ns]\n",
      "dtypes: datetime64[ns](1), int64(1), object(8)\n",
      "memory usage: 1.2+ MB\n"
     ]
    }
   ],
   "source": [
    "data_cust.info()"
   ]
  },
  {
   "cell_type": "code",
   "execution_count": 47,
   "id": "403999f7-2078-4f93-ba21-5ca14d6946a3",
   "metadata": {},
   "outputs": [
    {
     "data": {
      "text/plain": [
       "State              \n",
       "California             715\n",
       "Ontario                644\n",
       "Texas                  522\n",
       "New South Wales        430\n",
       "New York               423\n",
       "                      ... \n",
       "Trapani                  1\n",
       "Chiltern                 1\n",
       "Nuneaton & Bedworth      1\n",
       "Chesterfield             1\n",
       "Haringey                 1\n",
       "Name: count, Length: 512, dtype: int64"
      ]
     },
     "execution_count": 47,
     "metadata": {},
     "output_type": "execute_result"
    }
   ],
   "source": [
    "data_cust[[\"State\"]].value_counts()"
   ]
  },
  {
   "cell_type": "code",
   "execution_count": 48,
   "id": "04d5e50d-75c1-4c71-86b2-3be1a7a7f36c",
   "metadata": {},
   "outputs": [
    {
     "data": {
      "text/plain": [
       "Country       \n",
       "United States     6828\n",
       "United Kingdom    1944\n",
       "Canada            1553\n",
       "Germany           1473\n",
       "Australia         1420\n",
       "Netherlands        733\n",
       "France             670\n",
       "Italy              645\n",
       "Name: count, dtype: int64"
      ]
     },
     "execution_count": 48,
     "metadata": {},
     "output_type": "execute_result"
    }
   ],
   "source": [
    "data_cust[[\"Country\"]].value_counts()"
   ]
  },
  {
   "cell_type": "code",
   "execution_count": 41,
   "id": "7bb42594-79f3-401c-b4bb-de8560356b88",
   "metadata": {},
   "outputs": [
    {
     "data": {
      "text/plain": [
       "<pandas.core.groupby.generic.DataFrameGroupBy object at 0x0000023DF0A77F50>"
      ]
     },
     "execution_count": 41,
     "metadata": {},
     "output_type": "execute_result"
    }
   ],
   "source": [
    "data_cust.groupby(data_cust['Gender'])"
   ]
  },
  {
   "cell_type": "code",
   "execution_count": 55,
   "id": "fde50f0b-4a28-4c59-8cf4-5f77de29b388",
   "metadata": {},
   "outputs": [
    {
     "data": {
      "text/plain": [
       "<Axes: xlabel='Country', ylabel='count'>"
      ]
     },
     "execution_count": 55,
     "metadata": {},
     "output_type": "execute_result"
    },
    {
     "data": {
      "image/png": "[encoded data removed]",
      "text/plain": [
       "<Figure size 1300x500 with 1 Axes>"
      ]
     },
     "metadata": {},
     "output_type": "display_data"
    }
   ],
   "source": [
    "plt.figure(figsize=(13,5))\n",
    "sns.countplot(data = data_cust,x = 'Country')"
   ]
  },
  {
   "cell_type": "code",
   "execution_count": 76,
   "id": "592b929d-e2fc-4af7-bc6f-32ee2f32b99c",
   "metadata": {},
   "outputs": [
    {
     "data": {
      "text/plain": [
       "Index(['CustomerKey', 'Gender', 'Name', 'City', 'State Code', 'State',\n",
       "       'Zip Code', 'Country', 'Continent', 'Birthday'],\n",
       "      dtype='object')"
      ]
     },
     "execution_count": 76,
     "metadata": {},
     "output_type": "execute_result"
    }
   ],
   "source": [
    "data_cust.columns"
   ]
  },
  {
   "cell_type": "raw",
   "id": "567e8e79-d57a-43dd-ba2d-b7e4048af188",
   "metadata": {},
   "source": [
    "data_gen[['Count']] = data_cust[['CustomerKey']]"
   ]
  },
  {
   "cell_type": "code",
   "execution_count": 86,
   "id": "485f8edb-72b1-4753-b3da-fc557a2b4d63",
   "metadata": {},
   "outputs": [],
   "source": [
    "data_gen.columns = ['Country','Gender','Counts']"
   ]
  },
  {
   "cell_type": "code",
   "execution_count": 90,
   "id": "1573fc98-a5a4-4ee3-89d3-846f7a0a6dc9",
   "metadata": {},
   "outputs": [
    {
     "data": {
      "text/html": [
       "<div>\n",
       "<style scoped>\n",
       "    .dataframe tbody tr th:only-of-type {\n",
       "        vertical-align: middle;\n",
       "    }\n",
       "\n",
       "    .dataframe tbody tr th {\n",
       "        vertical-align: top;\n",
       "    }\n",
       "\n",
       "    .dataframe thead th {\n",
       "        text-align: right;\n",
       "    }\n",
       "</style>\n",
       "<table border=\"1\" class=\"dataframe\">\n",
       "  <thead>\n",
       "    <tr style=\"text-align: right;\">\n",
       "      <th></th>\n",
       "      <th>Country</th>\n",
       "      <th>Gender</th>\n",
       "      <th>Counts</th>\n",
       "    </tr>\n",
       "  </thead>\n",
       "  <tbody>\n",
       "    <tr>\n",
       "      <th>0</th>\n",
       "      <td>Australia</td>\n",
       "      <td>Female</td>\n",
       "      <td>721</td>\n",
       "    </tr>\n",
       "    <tr>\n",
       "      <th>1</th>\n",
       "      <td>Australia</td>\n",
       "      <td>Male</td>\n",
       "      <td>699</td>\n",
       "    </tr>\n",
       "    <tr>\n",
       "      <th>2</th>\n",
       "      <td>Canada</td>\n",
       "      <td>Female</td>\n",
       "      <td>755</td>\n",
       "    </tr>\n",
       "    <tr>\n",
       "      <th>3</th>\n",
       "      <td>Canada</td>\n",
       "      <td>Male</td>\n",
       "      <td>798</td>\n",
       "    </tr>\n",
       "    <tr>\n",
       "      <th>4</th>\n",
       "      <td>France</td>\n",
       "      <td>Female</td>\n",
       "      <td>351</td>\n",
       "    </tr>\n",
       "    <tr>\n",
       "      <th>5</th>\n",
       "      <td>France</td>\n",
       "      <td>Male</td>\n",
       "      <td>319</td>\n",
       "    </tr>\n",
       "    <tr>\n",
       "      <th>6</th>\n",
       "      <td>Germany</td>\n",
       "      <td>Female</td>\n",
       "      <td>734</td>\n",
       "    </tr>\n",
       "    <tr>\n",
       "      <th>7</th>\n",
       "      <td>Germany</td>\n",
       "      <td>Male</td>\n",
       "      <td>739</td>\n",
       "    </tr>\n",
       "    <tr>\n",
       "      <th>8</th>\n",
       "      <td>Italy</td>\n",
       "      <td>Female</td>\n",
       "      <td>319</td>\n",
       "    </tr>\n",
       "    <tr>\n",
       "      <th>9</th>\n",
       "      <td>Italy</td>\n",
       "      <td>Male</td>\n",
       "      <td>326</td>\n",
       "    </tr>\n",
       "    <tr>\n",
       "      <th>10</th>\n",
       "      <td>Netherlands</td>\n",
       "      <td>Female</td>\n",
       "      <td>345</td>\n",
       "    </tr>\n",
       "    <tr>\n",
       "      <th>11</th>\n",
       "      <td>Netherlands</td>\n",
       "      <td>Male</td>\n",
       "      <td>388</td>\n",
       "    </tr>\n",
       "    <tr>\n",
       "      <th>12</th>\n",
       "      <td>United Kingdom</td>\n",
       "      <td>Female</td>\n",
       "      <td>938</td>\n",
       "    </tr>\n",
       "    <tr>\n",
       "      <th>13</th>\n",
       "      <td>United Kingdom</td>\n",
       "      <td>Male</td>\n",
       "      <td>1006</td>\n",
       "    </tr>\n",
       "    <tr>\n",
       "      <th>14</th>\n",
       "      <td>United States</td>\n",
       "      <td>Female</td>\n",
       "      <td>3355</td>\n",
       "    </tr>\n",
       "    <tr>\n",
       "      <th>15</th>\n",
       "      <td>United States</td>\n",
       "      <td>Male</td>\n",
       "      <td>3473</td>\n",
       "    </tr>\n",
       "  </tbody>\n",
       "</table>\n",
       "</div>"
      ],
      "text/plain": [
       "           Country  Gender  Counts\n",
       "0        Australia  Female     721\n",
       "1        Australia    Male     699\n",
       "2           Canada  Female     755\n",
       "3           Canada    Male     798\n",
       "4           France  Female     351\n",
       "5           France    Male     319\n",
       "6          Germany  Female     734\n",
       "7          Germany    Male     739\n",
       "8            Italy  Female     319\n",
       "9            Italy    Male     326\n",
       "10     Netherlands  Female     345\n",
       "11     Netherlands    Male     388\n",
       "12  United Kingdom  Female     938\n",
       "13  United Kingdom    Male    1006\n",
       "14   United States  Female    3355\n",
       "15   United States    Male    3473"
      ]
     },
     "execution_count": 90,
     "metadata": {},
     "output_type": "execute_result"
    }
   ],
   "source": [
    "data_gen"
   ]
  },
  {
   "cell_type": "code",
   "execution_count": 91,
   "id": "e0c97899-ad2f-4003-b001-d73766ace72c",
   "metadata": {},
   "outputs": [
    {
     "data": {
      "image/png": "[encoded data removed]",
      "text/plain": [
       "<Figure size 1300x500 with 1 Axes>"
      ]
     },
     "metadata": {},
     "output_type": "display_data"
    }
   ],
   "source": [
    "plt.figure(figsize=(13,5))\n",
    "sns.barplot(data=data_gen,x ='Country',y ='Counts',hue = 'Gender')\n",
    "plt.show()"
   ]
  },
  {
   "cell_type": "code",
   "execution_count": 102,
   "id": "90e40503-ed54-4469-9411-74ff248f0b82",
   "metadata": {},
   "outputs": [
    {
     "data": {
      "text/html": [
       "<div>\n",
       "<style scoped>\n",
       "    .dataframe tbody tr th:only-of-type {\n",
       "        vertical-align: middle;\n",
       "    }\n",
       "\n",
       "    .dataframe tbody tr th {\n",
       "        vertical-align: top;\n",
       "    }\n",
       "\n",
       "    .dataframe thead th {\n",
       "        text-align: right;\n",
       "    }\n",
       "</style>\n",
       "<table border=\"1\" class=\"dataframe\">\n",
       "  <thead>\n",
       "    <tr style=\"text-align: right;\">\n",
       "      <th></th>\n",
       "      <th>Order Number</th>\n",
       "      <th>Line Item</th>\n",
       "      <th>Order Date</th>\n",
       "      <th>Delivery Date</th>\n",
       "      <th>CustomerKey</th>\n",
       "      <th>StoreKey</th>\n",
       "      <th>ProductKey</th>\n",
       "      <th>Quantity</th>\n",
       "      <th>Currency Code</th>\n",
       "    </tr>\n",
       "  </thead>\n",
       "  <tbody>\n",
       "    <tr>\n",
       "      <th>0</th>\n",
       "      <td>366000</td>\n",
       "      <td>1</td>\n",
       "      <td>1/1/2016</td>\n",
       "      <td>yet to be</td>\n",
       "      <td>265598</td>\n",
       "      <td>10</td>\n",
       "      <td>1304</td>\n",
       "      <td>1</td>\n",
       "      <td>CAD</td>\n",
       "    </tr>\n",
       "    <tr>\n",
       "      <th>1</th>\n",
       "      <td>366001</td>\n",
       "      <td>1</td>\n",
       "      <td>1/1/2016</td>\n",
       "      <td>1/13/2016</td>\n",
       "      <td>1269051</td>\n",
       "      <td>0</td>\n",
       "      <td>1048</td>\n",
       "      <td>2</td>\n",
       "      <td>USD</td>\n",
       "    </tr>\n",
       "    <tr>\n",
       "      <th>2</th>\n",
       "      <td>366001</td>\n",
       "      <td>2</td>\n",
       "      <td>1/1/2016</td>\n",
       "      <td>1/13/2016</td>\n",
       "      <td>1269051</td>\n",
       "      <td>0</td>\n",
       "      <td>2007</td>\n",
       "      <td>1</td>\n",
       "      <td>USD</td>\n",
       "    </tr>\n",
       "    <tr>\n",
       "      <th>3</th>\n",
       "      <td>366002</td>\n",
       "      <td>1</td>\n",
       "      <td>1/1/2016</td>\n",
       "      <td>1/12/2016</td>\n",
       "      <td>266019</td>\n",
       "      <td>0</td>\n",
       "      <td>1106</td>\n",
       "      <td>7</td>\n",
       "      <td>CAD</td>\n",
       "    </tr>\n",
       "    <tr>\n",
       "      <th>4</th>\n",
       "      <td>366002</td>\n",
       "      <td>2</td>\n",
       "      <td>1/1/2016</td>\n",
       "      <td>1/12/2016</td>\n",
       "      <td>266019</td>\n",
       "      <td>0</td>\n",
       "      <td>373</td>\n",
       "      <td>1</td>\n",
       "      <td>CAD</td>\n",
       "    </tr>\n",
       "    <tr>\n",
       "      <th>...</th>\n",
       "      <td>...</td>\n",
       "      <td>...</td>\n",
       "      <td>...</td>\n",
       "      <td>...</td>\n",
       "      <td>...</td>\n",
       "      <td>...</td>\n",
       "      <td>...</td>\n",
       "      <td>...</td>\n",
       "      <td>...</td>\n",
       "    </tr>\n",
       "    <tr>\n",
       "      <th>62879</th>\n",
       "      <td>2243030</td>\n",
       "      <td>1</td>\n",
       "      <td>2/20/2021</td>\n",
       "      <td>yet to be</td>\n",
       "      <td>1216913</td>\n",
       "      <td>43</td>\n",
       "      <td>632</td>\n",
       "      <td>3</td>\n",
       "      <td>USD</td>\n",
       "    </tr>\n",
       "    <tr>\n",
       "      <th>62880</th>\n",
       "      <td>2243031</td>\n",
       "      <td>1</td>\n",
       "      <td>2/20/2021</td>\n",
       "      <td>2/24/2021</td>\n",
       "      <td>511229</td>\n",
       "      <td>0</td>\n",
       "      <td>98</td>\n",
       "      <td>4</td>\n",
       "      <td>EUR</td>\n",
       "    </tr>\n",
       "    <tr>\n",
       "      <th>62881</th>\n",
       "      <td>2243032</td>\n",
       "      <td>1</td>\n",
       "      <td>2/20/2021</td>\n",
       "      <td>2/23/2021</td>\n",
       "      <td>331277</td>\n",
       "      <td>0</td>\n",
       "      <td>1613</td>\n",
       "      <td>2</td>\n",
       "      <td>CAD</td>\n",
       "    </tr>\n",
       "    <tr>\n",
       "      <th>62882</th>\n",
       "      <td>2243032</td>\n",
       "      <td>2</td>\n",
       "      <td>2/20/2021</td>\n",
       "      <td>2/23/2021</td>\n",
       "      <td>331277</td>\n",
       "      <td>0</td>\n",
       "      <td>1717</td>\n",
       "      <td>2</td>\n",
       "      <td>CAD</td>\n",
       "    </tr>\n",
       "    <tr>\n",
       "      <th>62883</th>\n",
       "      <td>2243032</td>\n",
       "      <td>3</td>\n",
       "      <td>2/20/2021</td>\n",
       "      <td>2/23/2021</td>\n",
       "      <td>331277</td>\n",
       "      <td>0</td>\n",
       "      <td>464</td>\n",
       "      <td>7</td>\n",
       "      <td>CAD</td>\n",
       "    </tr>\n",
       "  </tbody>\n",
       "</table>\n",
       "<p>62884 rows × 9 columns</p>\n",
       "</div>"
      ],
      "text/plain": [
       "       Order Number  Line Item Order Date Delivery Date  CustomerKey  \\\n",
       "0            366000          1   1/1/2016     yet to be       265598   \n",
       "1            366001          1   1/1/2016     1/13/2016      1269051   \n",
       "2            366001          2   1/1/2016     1/13/2016      1269051   \n",
       "3            366002          1   1/1/2016     1/12/2016       266019   \n",
       "4            366002          2   1/1/2016     1/12/2016       266019   \n",
       "...             ...        ...        ...           ...          ...   \n",
       "62879       2243030          1  2/20/2021     yet to be      1216913   \n",
       "62880       2243031          1  2/20/2021     2/24/2021       511229   \n",
       "62881       2243032          1  2/20/2021     2/23/2021       331277   \n",
       "62882       2243032          2  2/20/2021     2/23/2021       331277   \n",
       "62883       2243032          3  2/20/2021     2/23/2021       331277   \n",
       "\n",
       "       StoreKey  ProductKey  Quantity Currency Code  \n",
       "0            10        1304         1           CAD  \n",
       "1             0        1048         2           USD  \n",
       "2             0        2007         1           USD  \n",
       "3             0        1106         7           CAD  \n",
       "4             0         373         1           CAD  \n",
       "...         ...         ...       ...           ...  \n",
       "62879        43         632         3           USD  \n",
       "62880         0          98         4           EUR  \n",
       "62881         0        1613         2           CAD  \n",
       "62882         0        1717         2           CAD  \n",
       "62883         0         464         7           CAD  \n",
       "\n",
       "[62884 rows x 9 columns]"
      ]
     },
     "execution_count": 102,
     "metadata": {},
     "output_type": "execute_result"
    }
   ],
   "source": [
    "data_sal"
   ]
  },
  {
   "cell_type": "code",
   "execution_count": 104,
   "id": "af167b84-892c-40f7-84e3-eec4a349a26d",
   "metadata": {},
   "outputs": [
    {
     "data": {
      "text/html": [
       "<div>\n",
       "<style scoped>\n",
       "    .dataframe tbody tr th:only-of-type {\n",
       "        vertical-align: middle;\n",
       "    }\n",
       "\n",
       "    .dataframe tbody tr th {\n",
       "        vertical-align: top;\n",
       "    }\n",
       "\n",
       "    .dataframe thead th {\n",
       "        text-align: right;\n",
       "    }\n",
       "</style>\n",
       "<table border=\"1\" class=\"dataframe\">\n",
       "  <thead>\n",
       "    <tr style=\"text-align: right;\">\n",
       "      <th></th>\n",
       "      <th>Order Number</th>\n",
       "      <th>Line Item</th>\n",
       "      <th>Order Date</th>\n",
       "      <th>Delivery Date</th>\n",
       "      <th>CustomerKey</th>\n",
       "      <th>StoreKey</th>\n",
       "      <th>ProductKey</th>\n",
       "      <th>Quantity</th>\n",
       "      <th>Currency Code</th>\n",
       "    </tr>\n",
       "  </thead>\n",
       "  <tbody>\n",
       "    <tr>\n",
       "      <th>0</th>\n",
       "      <td>366000</td>\n",
       "      <td>1</td>\n",
       "      <td>1/1/2016</td>\n",
       "      <td>yet to be</td>\n",
       "      <td>265598</td>\n",
       "      <td>10</td>\n",
       "      <td>1304</td>\n",
       "      <td>1</td>\n",
       "      <td>CAD</td>\n",
       "    </tr>\n",
       "    <tr>\n",
       "      <th>1</th>\n",
       "      <td>366001</td>\n",
       "      <td>1</td>\n",
       "      <td>1/1/2016</td>\n",
       "      <td>1/13/2016</td>\n",
       "      <td>1269051</td>\n",
       "      <td>0</td>\n",
       "      <td>1048</td>\n",
       "      <td>2</td>\n",
       "      <td>USD</td>\n",
       "    </tr>\n",
       "    <tr>\n",
       "      <th>2</th>\n",
       "      <td>366001</td>\n",
       "      <td>2</td>\n",
       "      <td>1/1/2016</td>\n",
       "      <td>1/13/2016</td>\n",
       "      <td>1269051</td>\n",
       "      <td>0</td>\n",
       "      <td>2007</td>\n",
       "      <td>1</td>\n",
       "      <td>USD</td>\n",
       "    </tr>\n",
       "    <tr>\n",
       "      <th>3</th>\n",
       "      <td>366002</td>\n",
       "      <td>1</td>\n",
       "      <td>1/1/2016</td>\n",
       "      <td>1/12/2016</td>\n",
       "      <td>266019</td>\n",
       "      <td>0</td>\n",
       "      <td>1106</td>\n",
       "      <td>7</td>\n",
       "      <td>CAD</td>\n",
       "    </tr>\n",
       "    <tr>\n",
       "      <th>4</th>\n",
       "      <td>366002</td>\n",
       "      <td>2</td>\n",
       "      <td>1/1/2016</td>\n",
       "      <td>1/12/2016</td>\n",
       "      <td>266019</td>\n",
       "      <td>0</td>\n",
       "      <td>373</td>\n",
       "      <td>1</td>\n",
       "      <td>CAD</td>\n",
       "    </tr>\n",
       "    <tr>\n",
       "      <th>5</th>\n",
       "      <td>366002</td>\n",
       "      <td>3</td>\n",
       "      <td>1/1/2016</td>\n",
       "      <td>1/12/2016</td>\n",
       "      <td>266019</td>\n",
       "      <td>0</td>\n",
       "      <td>1080</td>\n",
       "      <td>4</td>\n",
       "      <td>CAD</td>\n",
       "    </tr>\n",
       "    <tr>\n",
       "      <th>6</th>\n",
       "      <td>366004</td>\n",
       "      <td>1</td>\n",
       "      <td>1/1/2016</td>\n",
       "      <td>yet to be</td>\n",
       "      <td>1107461</td>\n",
       "      <td>38</td>\n",
       "      <td>163</td>\n",
       "      <td>6</td>\n",
       "      <td>GBP</td>\n",
       "    </tr>\n",
       "    <tr>\n",
       "      <th>7</th>\n",
       "      <td>366004</td>\n",
       "      <td>2</td>\n",
       "      <td>1/1/2016</td>\n",
       "      <td>yet to be</td>\n",
       "      <td>1107461</td>\n",
       "      <td>38</td>\n",
       "      <td>1529</td>\n",
       "      <td>2</td>\n",
       "      <td>GBP</td>\n",
       "    </tr>\n",
       "    <tr>\n",
       "      <th>8</th>\n",
       "      <td>366005</td>\n",
       "      <td>1</td>\n",
       "      <td>1/1/2016</td>\n",
       "      <td>yet to be</td>\n",
       "      <td>844003</td>\n",
       "      <td>33</td>\n",
       "      <td>421</td>\n",
       "      <td>4</td>\n",
       "      <td>EUR</td>\n",
       "    </tr>\n",
       "    <tr>\n",
       "      <th>9</th>\n",
       "      <td>366007</td>\n",
       "      <td>1</td>\n",
       "      <td>1/1/2016</td>\n",
       "      <td>yet to be</td>\n",
       "      <td>2035771</td>\n",
       "      <td>43</td>\n",
       "      <td>1617</td>\n",
       "      <td>1</td>\n",
       "      <td>USD</td>\n",
       "    </tr>\n",
       "    <tr>\n",
       "      <th>10</th>\n",
       "      <td>366007</td>\n",
       "      <td>2</td>\n",
       "      <td>1/1/2016</td>\n",
       "      <td>yet to be</td>\n",
       "      <td>2035771</td>\n",
       "      <td>43</td>\n",
       "      <td>666</td>\n",
       "      <td>5</td>\n",
       "      <td>USD</td>\n",
       "    </tr>\n",
       "    <tr>\n",
       "      <th>11</th>\n",
       "      <td>366008</td>\n",
       "      <td>1</td>\n",
       "      <td>1/1/2016</td>\n",
       "      <td>yet to be</td>\n",
       "      <td>759705</td>\n",
       "      <td>29</td>\n",
       "      <td>1154</td>\n",
       "      <td>9</td>\n",
       "      <td>EUR</td>\n",
       "    </tr>\n",
       "    <tr>\n",
       "      <th>12</th>\n",
       "      <td>366008</td>\n",
       "      <td>2</td>\n",
       "      <td>1/1/2016</td>\n",
       "      <td>yet to be</td>\n",
       "      <td>759705</td>\n",
       "      <td>29</td>\n",
       "      <td>2510</td>\n",
       "      <td>1</td>\n",
       "      <td>EUR</td>\n",
       "    </tr>\n",
       "    <tr>\n",
       "      <th>13</th>\n",
       "      <td>366008</td>\n",
       "      <td>3</td>\n",
       "      <td>1/1/2016</td>\n",
       "      <td>yet to be</td>\n",
       "      <td>759705</td>\n",
       "      <td>29</td>\n",
       "      <td>1060</td>\n",
       "      <td>5</td>\n",
       "      <td>EUR</td>\n",
       "    </tr>\n",
       "    <tr>\n",
       "      <th>14</th>\n",
       "      <td>366009</td>\n",
       "      <td>1</td>\n",
       "      <td>1/1/2016</td>\n",
       "      <td>yet to be</td>\n",
       "      <td>254540</td>\n",
       "      <td>9</td>\n",
       "      <td>1648</td>\n",
       "      <td>1</td>\n",
       "      <td>CAD</td>\n",
       "    </tr>\n",
       "    <tr>\n",
       "      <th>15</th>\n",
       "      <td>366010</td>\n",
       "      <td>1</td>\n",
       "      <td>1/1/2016</td>\n",
       "      <td>1/8/2016</td>\n",
       "      <td>370077</td>\n",
       "      <td>0</td>\n",
       "      <td>618</td>\n",
       "      <td>5</td>\n",
       "      <td>CAD</td>\n",
       "    </tr>\n",
       "    <tr>\n",
       "      <th>16</th>\n",
       "      <td>366011</td>\n",
       "      <td>1</td>\n",
       "      <td>1/1/2016</td>\n",
       "      <td>yet to be</td>\n",
       "      <td>1984985</td>\n",
       "      <td>66</td>\n",
       "      <td>128</td>\n",
       "      <td>7</td>\n",
       "      <td>USD</td>\n",
       "    </tr>\n",
       "    <tr>\n",
       "      <th>17</th>\n",
       "      <td>366011</td>\n",
       "      <td>2</td>\n",
       "      <td>1/1/2016</td>\n",
       "      <td>yet to be</td>\n",
       "      <td>1984985</td>\n",
       "      <td>66</td>\n",
       "      <td>1638</td>\n",
       "      <td>1</td>\n",
       "      <td>USD</td>\n",
       "    </tr>\n",
       "    <tr>\n",
       "      <th>18</th>\n",
       "      <td>366011</td>\n",
       "      <td>3</td>\n",
       "      <td>1/1/2016</td>\n",
       "      <td>yet to be</td>\n",
       "      <td>1984985</td>\n",
       "      <td>66</td>\n",
       "      <td>1634</td>\n",
       "      <td>1</td>\n",
       "      <td>USD</td>\n",
       "    </tr>\n",
       "    <tr>\n",
       "      <th>19</th>\n",
       "      <td>366011</td>\n",
       "      <td>4</td>\n",
       "      <td>1/1/2016</td>\n",
       "      <td>yet to be</td>\n",
       "      <td>1984985</td>\n",
       "      <td>66</td>\n",
       "      <td>2392</td>\n",
       "      <td>3</td>\n",
       "      <td>USD</td>\n",
       "    </tr>\n",
       "  </tbody>\n",
       "</table>\n",
       "</div>"
      ],
      "text/plain": [
       "    Order Number  Line Item Order Date Delivery Date  CustomerKey  StoreKey  \\\n",
       "0         366000          1   1/1/2016     yet to be       265598        10   \n",
       "1         366001          1   1/1/2016     1/13/2016      1269051         0   \n",
       "2         366001          2   1/1/2016     1/13/2016      1269051         0   \n",
       "3         366002          1   1/1/2016     1/12/2016       266019         0   \n",
       "4         366002          2   1/1/2016     1/12/2016       266019         0   \n",
       "5         366002          3   1/1/2016     1/12/2016       266019         0   \n",
       "6         366004          1   1/1/2016     yet to be      1107461        38   \n",
       "7         366004          2   1/1/2016     yet to be      1107461        38   \n",
       "8         366005          1   1/1/2016     yet to be       844003        33   \n",
       "9         366007          1   1/1/2016     yet to be      2035771        43   \n",
       "10        366007          2   1/1/2016     yet to be      2035771        43   \n",
       "11        366008          1   1/1/2016     yet to be       759705        29   \n",
       "12        366008          2   1/1/2016     yet to be       759705        29   \n",
       "13        366008          3   1/1/2016     yet to be       759705        29   \n",
       "14        366009          1   1/1/2016     yet to be       254540         9   \n",
       "15        366010          1   1/1/2016      1/8/2016       370077         0   \n",
       "16        366011          1   1/1/2016     yet to be      1984985        66   \n",
       "17        366011          2   1/1/2016     yet to be      1984985        66   \n",
       "18        366011          3   1/1/2016     yet to be      1984985        66   \n",
       "19        366011          4   1/1/2016     yet to be      1984985        66   \n",
       "\n",
       "    ProductKey  Quantity Currency Code  \n",
       "0         1304         1           CAD  \n",
       "1         1048         2           USD  \n",
       "2         2007         1           USD  \n",
       "3         1106         7           CAD  \n",
       "4          373         1           CAD  \n",
       "5         1080         4           CAD  \n",
       "6          163         6           GBP  \n",
       "7         1529         2           GBP  \n",
       "8          421         4           EUR  \n",
       "9         1617         1           USD  \n",
       "10         666         5           USD  \n",
       "11        1154         9           EUR  \n",
       "12        2510         1           EUR  \n",
       "13        1060         5           EUR  \n",
       "14        1648         1           CAD  \n",
       "15         618         5           CAD  \n",
       "16         128         7           USD  \n",
       "17        1638         1           USD  \n",
       "18        1634         1           USD  \n",
       "19        2392         3           USD  "
      ]
     },
     "execution_count": 104,
     "metadata": {},
     "output_type": "execute_result"
    }
   ],
   "source": [
    "data_sal.head(20)"
   ]
  },
  {
   "cell_type": "code",
   "execution_count": 49,
   "id": "7c56e9e3-db92-4976-bb5c-7aa246bf9e92",
   "metadata": {},
   "outputs": [
    {
     "data": {
      "text/html": [
       "<div>\n",
       "<style scoped>\n",
       "    .dataframe tbody tr th:only-of-type {\n",
       "        vertical-align: middle;\n",
       "    }\n",
       "\n",
       "    .dataframe tbody tr th {\n",
       "        vertical-align: top;\n",
       "    }\n",
       "\n",
       "    .dataframe thead th {\n",
       "        text-align: right;\n",
       "    }\n",
       "</style>\n",
       "<table border=\"1\" class=\"dataframe\">\n",
       "  <thead>\n",
       "    <tr style=\"text-align: right;\">\n",
       "      <th></th>\n",
       "      <th>ProductKey</th>\n",
       "      <th>Product Name</th>\n",
       "    </tr>\n",
       "  </thead>\n",
       "  <tbody>\n",
       "    <tr>\n",
       "      <th>0</th>\n",
       "      <td>1</td>\n",
       "      <td>Contoso 512MB MP3 Player E51 Silver</td>\n",
       "    </tr>\n",
       "    <tr>\n",
       "      <th>1</th>\n",
       "      <td>2</td>\n",
       "      <td>Contoso 512MB MP3 Player E51 Blue</td>\n",
       "    </tr>\n",
       "    <tr>\n",
       "      <th>2</th>\n",
       "      <td>3</td>\n",
       "      <td>Contoso 1G MP3 Player E100 White</td>\n",
       "    </tr>\n",
       "    <tr>\n",
       "      <th>3</th>\n",
       "      <td>4</td>\n",
       "      <td>Contoso 2G MP3 Player E200 Silver</td>\n",
       "    </tr>\n",
       "    <tr>\n",
       "      <th>4</th>\n",
       "      <td>5</td>\n",
       "      <td>Contoso 2G MP3 Player E200 Red</td>\n",
       "    </tr>\n",
       "    <tr>\n",
       "      <th>...</th>\n",
       "      <td>...</td>\n",
       "      <td>...</td>\n",
       "    </tr>\n",
       "    <tr>\n",
       "      <th>2512</th>\n",
       "      <td>2513</td>\n",
       "      <td>Contoso Bluetooth Active Headphones L15 Red</td>\n",
       "    </tr>\n",
       "    <tr>\n",
       "      <th>2513</th>\n",
       "      <td>2514</td>\n",
       "      <td>Contoso Bluetooth Active Headphones L15 White</td>\n",
       "    </tr>\n",
       "    <tr>\n",
       "      <th>2514</th>\n",
       "      <td>2515</td>\n",
       "      <td>Contoso In-Line Coupler E180 White</td>\n",
       "    </tr>\n",
       "    <tr>\n",
       "      <th>2515</th>\n",
       "      <td>2516</td>\n",
       "      <td>Contoso In-Line Coupler E180 Black</td>\n",
       "    </tr>\n",
       "    <tr>\n",
       "      <th>2516</th>\n",
       "      <td>2517</td>\n",
       "      <td>Contoso In-Line Coupler E180 Silver</td>\n",
       "    </tr>\n",
       "  </tbody>\n",
       "</table>\n",
       "<p>2517 rows × 2 columns</p>\n",
       "</div>"
      ],
      "text/plain": [
       "      ProductKey                                   Product Name\n",
       "0              1            Contoso 512MB MP3 Player E51 Silver\n",
       "1              2              Contoso 512MB MP3 Player E51 Blue\n",
       "2              3               Contoso 1G MP3 Player E100 White\n",
       "3              4              Contoso 2G MP3 Player E200 Silver\n",
       "4              5                 Contoso 2G MP3 Player E200 Red\n",
       "...          ...                                            ...\n",
       "2512        2513    Contoso Bluetooth Active Headphones L15 Red\n",
       "2513        2514  Contoso Bluetooth Active Headphones L15 White\n",
       "2514        2515             Contoso In-Line Coupler E180 White\n",
       "2515        2516             Contoso In-Line Coupler E180 Black\n",
       "2516        2517            Contoso In-Line Coupler E180 Silver\n",
       "\n",
       "[2517 rows x 2 columns]"
      ]
     },
     "execution_count": 49,
     "metadata": {},
     "output_type": "execute_result"
    }
   ],
   "source": [
    "prod"
   ]
  },
  {
   "cell_type": "code",
   "execution_count": 71,
   "id": "ac32cf64-7055-4487-8e58-05bb7e19c8e8",
   "metadata": {},
   "outputs": [
    {
     "data": {
      "text/plain": [
       "<Axes: xlabel='StoreKey', ylabel='count'>"
      ]
     },
     "execution_count": 71,
     "metadata": {},
     "output_type": "execute_result"
    },
    {
     "data": {
      "image/png": "[encoded data removed]",
      "text/plain": [
       "<Figure size 1500x500 with 1 Axes>"
      ]
     },
     "metadata": {},
     "output_type": "display_data"
    }
   ],
   "source": [
    "plt.figure(figsize=(15,5))\n",
    "sns.countplot(data=data_sal,x = 'StoreKey')"
   ]
  },
  {
   "cell_type": "code",
   "execution_count": 73,
   "id": "9fe9ceb8-86dd-4b87-a6e7-14722f04f982",
   "metadata": {},
   "outputs": [
    {
     "data": {
      "text/html": [
       "<div>\n",
       "<style scoped>\n",
       "    .dataframe tbody tr th:only-of-type {\n",
       "        vertical-align: middle;\n",
       "    }\n",
       "\n",
       "    .dataframe tbody tr th {\n",
       "        vertical-align: top;\n",
       "    }\n",
       "\n",
       "    .dataframe thead th {\n",
       "        text-align: right;\n",
       "    }\n",
       "</style>\n",
       "<table border=\"1\" class=\"dataframe\">\n",
       "  <thead>\n",
       "    <tr style=\"text-align: right;\">\n",
       "      <th></th>\n",
       "      <th>StoreKey</th>\n",
       "      <th>Country</th>\n",
       "      <th>State</th>\n",
       "      <th>Square Meters</th>\n",
       "      <th>Open Date</th>\n",
       "    </tr>\n",
       "  </thead>\n",
       "  <tbody>\n",
       "    <tr>\n",
       "      <th>0</th>\n",
       "      <td>1</td>\n",
       "      <td>Australia</td>\n",
       "      <td>Australian Capital Territory</td>\n",
       "      <td>595.0</td>\n",
       "      <td>2008-01-01</td>\n",
       "    </tr>\n",
       "    <tr>\n",
       "      <th>1</th>\n",
       "      <td>2</td>\n",
       "      <td>Australia</td>\n",
       "      <td>Northern Territory</td>\n",
       "      <td>665.0</td>\n",
       "      <td>2008-01-12</td>\n",
       "    </tr>\n",
       "    <tr>\n",
       "      <th>2</th>\n",
       "      <td>3</td>\n",
       "      <td>Australia</td>\n",
       "      <td>South Australia</td>\n",
       "      <td>2000.0</td>\n",
       "      <td>2012-01-07</td>\n",
       "    </tr>\n",
       "    <tr>\n",
       "      <th>3</th>\n",
       "      <td>4</td>\n",
       "      <td>Australia</td>\n",
       "      <td>Tasmania</td>\n",
       "      <td>2000.0</td>\n",
       "      <td>2010-01-01</td>\n",
       "    </tr>\n",
       "    <tr>\n",
       "      <th>4</th>\n",
       "      <td>5</td>\n",
       "      <td>Australia</td>\n",
       "      <td>Victoria</td>\n",
       "      <td>2000.0</td>\n",
       "      <td>2015-12-09</td>\n",
       "    </tr>\n",
       "    <tr>\n",
       "      <th>...</th>\n",
       "      <td>...</td>\n",
       "      <td>...</td>\n",
       "      <td>...</td>\n",
       "      <td>...</td>\n",
       "      <td>...</td>\n",
       "    </tr>\n",
       "    <tr>\n",
       "      <th>62</th>\n",
       "      <td>63</td>\n",
       "      <td>United States</td>\n",
       "      <td>Utah</td>\n",
       "      <td>2000.0</td>\n",
       "      <td>2008-03-06</td>\n",
       "    </tr>\n",
       "    <tr>\n",
       "      <th>63</th>\n",
       "      <td>64</td>\n",
       "      <td>United States</td>\n",
       "      <td>Washington DC</td>\n",
       "      <td>1330.0</td>\n",
       "      <td>2010-01-01</td>\n",
       "    </tr>\n",
       "    <tr>\n",
       "      <th>64</th>\n",
       "      <td>65</td>\n",
       "      <td>United States</td>\n",
       "      <td>West Virginia</td>\n",
       "      <td>1785.0</td>\n",
       "      <td>2012-01-01</td>\n",
       "    </tr>\n",
       "    <tr>\n",
       "      <th>65</th>\n",
       "      <td>66</td>\n",
       "      <td>United States</td>\n",
       "      <td>Wyoming</td>\n",
       "      <td>840.0</td>\n",
       "      <td>2014-01-01</td>\n",
       "    </tr>\n",
       "    <tr>\n",
       "      <th>66</th>\n",
       "      <td>0</td>\n",
       "      <td>Online</td>\n",
       "      <td>Online</td>\n",
       "      <td>NaN</td>\n",
       "      <td>2010-01-01</td>\n",
       "    </tr>\n",
       "  </tbody>\n",
       "</table>\n",
       "<p>67 rows × 5 columns</p>\n",
       "</div>"
      ],
      "text/plain": [
       "    StoreKey        Country                         State  Square Meters  \\\n",
       "0          1      Australia  Australian Capital Territory          595.0   \n",
       "1          2      Australia            Northern Territory          665.0   \n",
       "2          3      Australia               South Australia         2000.0   \n",
       "3          4      Australia                      Tasmania         2000.0   \n",
       "4          5      Australia                      Victoria         2000.0   \n",
       "..       ...            ...                           ...            ...   \n",
       "62        63  United States                          Utah         2000.0   \n",
       "63        64  United States                 Washington DC         1330.0   \n",
       "64        65  United States                 West Virginia         1785.0   \n",
       "65        66  United States                       Wyoming          840.0   \n",
       "66         0         Online                        Online            NaN   \n",
       "\n",
       "    Open Date  \n",
       "0  2008-01-01  \n",
       "1  2008-01-12  \n",
       "2  2012-01-07  \n",
       "3  2010-01-01  \n",
       "4  2015-12-09  \n",
       "..        ...  \n",
       "62 2008-03-06  \n",
       "63 2010-01-01  \n",
       "64 2012-01-01  \n",
       "65 2014-01-01  \n",
       "66 2010-01-01  \n",
       "\n",
       "[67 rows x 5 columns]"
      ]
     },
     "execution_count": 73,
     "metadata": {},
     "output_type": "execute_result"
    }
   ],
   "source": [
    "data_st"
   ]
  },
  {
   "cell_type": "code",
   "execution_count": 47,
   "id": "8176e9b7-dfce-4dcb-ae6d-8f28a2c4c1bd",
   "metadata": {},
   "outputs": [],
   "source": [
    "prod = data_prod[['ProductKey','Product Name']]"
   ]
  },
  {
   "cell_type": "code",
   "execution_count": 23,
   "id": "2a2925c0-fc50-4a73-b14c-b7d61f014b38",
   "metadata": {},
   "outputs": [
    {
     "data": {
      "text/plain": [
       "(62884, 9)"
      ]
     },
     "execution_count": 23,
     "metadata": {},
     "output_type": "execute_result"
    }
   ],
   "source": [
    "data_sal.shape"
   ]
  },
  {
   "cell_type": "code",
   "execution_count": 99,
   "id": "221e9319-22eb-4493-b10f-1ed624d7555e",
   "metadata": {},
   "outputs": [
    {
     "data": {
      "text/plain": [
       "CustomerKey\n",
       "723572     36\n",
       "1579183    32\n",
       "1925694    32\n",
       "1942072    29\n",
       "1972249    29\n",
       "           ..\n",
       "974784      1\n",
       "1068351     1\n",
       "315725      1\n",
       "1520217     1\n",
       "1237927     1\n",
       "Name: count, Length: 11887, dtype: int64"
      ]
     },
     "execution_count": 99,
     "metadata": {},
     "output_type": "execute_result"
    }
   ],
   "source": [
    "data_sal['CustomerKey'].value_counts()"
   ]
  },
  {
   "cell_type": "code",
   "execution_count": 53,
   "id": "107635d7-9e2d-405f-af04-09c9581d2484",
   "metadata": {},
   "outputs": [
    {
     "data": {
      "text/plain": [
       "ProductKey\n",
       "423     162\n",
       "446     158\n",
       "434     158\n",
       "458     158\n",
       "448     157\n",
       "       ... \n",
       "2306      1\n",
       "2346      1\n",
       "2232      1\n",
       "2243      1\n",
       "193       1\n",
       "Name: count, Length: 2492, dtype: int64"
      ]
     },
     "execution_count": 53,
     "metadata": {},
     "output_type": "execute_result"
    }
   ],
   "source": [
    "data_sal['ProductKey'].value_counts()"
   ]
  },
  {
   "cell_type": "code",
   "execution_count": 19,
   "id": "4c5ff35d-0ec7-4164-a129-0ff2296950ee",
   "metadata": {},
   "outputs": [
    {
     "data": {
      "text/plain": [
       "<Axes: xlabel='ProductKey', ylabel='count'>"
      ]
     },
     "execution_count": 19,
     "metadata": {},
     "output_type": "execute_result"
    },
    {
     "data": {
      "image/png": "[encoded data removed]",
      "text/plain": [
       "<Figure size 640x480 with 1 Axes>"
      ]
     },
     "metadata": {},
     "output_type": "display_data"
    }
   ],
   "source": [
    "sns.lineplot(data=data_sal, x='ProductKey')"
   ]
  },
  {
   "cell_type": "code",
   "execution_count": 106,
   "id": "857d7a64-d76d-4d2e-9925-f75f17f28333",
   "metadata": {},
   "outputs": [
    {
     "data": {
      "text/html": [
       "<div>\n",
       "<style scoped>\n",
       "    .dataframe tbody tr th:only-of-type {\n",
       "        vertical-align: middle;\n",
       "    }\n",
       "\n",
       "    .dataframe tbody tr th {\n",
       "        vertical-align: top;\n",
       "    }\n",
       "\n",
       "    .dataframe thead th {\n",
       "        text-align: right;\n",
       "    }\n",
       "</style>\n",
       "<table border=\"1\" class=\"dataframe\">\n",
       "  <thead>\n",
       "    <tr style=\"text-align: right;\">\n",
       "      <th></th>\n",
       "      <th>ProductKey</th>\n",
       "      <th>Product Name</th>\n",
       "      <th>Brand</th>\n",
       "      <th>Color</th>\n",
       "      <th>Unit Cost USD</th>\n",
       "      <th>Unit Price USD</th>\n",
       "      <th>SubcategoryKey</th>\n",
       "      <th>Subcategory</th>\n",
       "      <th>CategoryKey</th>\n",
       "      <th>Category</th>\n",
       "    </tr>\n",
       "  </thead>\n",
       "  <tbody>\n",
       "    <tr>\n",
       "      <th>0</th>\n",
       "      <td>1</td>\n",
       "      <td>Contoso 512MB MP3 Player E51 Silver</td>\n",
       "      <td>Contoso</td>\n",
       "      <td>Silver</td>\n",
       "      <td>$6.62</td>\n",
       "      <td>$12.99</td>\n",
       "      <td>101</td>\n",
       "      <td>MP4&amp;MP3</td>\n",
       "      <td>1</td>\n",
       "      <td>Audio</td>\n",
       "    </tr>\n",
       "    <tr>\n",
       "      <th>1</th>\n",
       "      <td>2</td>\n",
       "      <td>Contoso 512MB MP3 Player E51 Blue</td>\n",
       "      <td>Contoso</td>\n",
       "      <td>Blue</td>\n",
       "      <td>$6.62</td>\n",
       "      <td>$12.99</td>\n",
       "      <td>101</td>\n",
       "      <td>MP4&amp;MP3</td>\n",
       "      <td>1</td>\n",
       "      <td>Audio</td>\n",
       "    </tr>\n",
       "    <tr>\n",
       "      <th>2</th>\n",
       "      <td>3</td>\n",
       "      <td>Contoso 1G MP3 Player E100 White</td>\n",
       "      <td>Contoso</td>\n",
       "      <td>White</td>\n",
       "      <td>$7.40</td>\n",
       "      <td>$14.52</td>\n",
       "      <td>101</td>\n",
       "      <td>MP4&amp;MP3</td>\n",
       "      <td>1</td>\n",
       "      <td>Audio</td>\n",
       "    </tr>\n",
       "    <tr>\n",
       "      <th>3</th>\n",
       "      <td>4</td>\n",
       "      <td>Contoso 2G MP3 Player E200 Silver</td>\n",
       "      <td>Contoso</td>\n",
       "      <td>Silver</td>\n",
       "      <td>$11.00</td>\n",
       "      <td>$21.57</td>\n",
       "      <td>101</td>\n",
       "      <td>MP4&amp;MP3</td>\n",
       "      <td>1</td>\n",
       "      <td>Audio</td>\n",
       "    </tr>\n",
       "    <tr>\n",
       "      <th>4</th>\n",
       "      <td>5</td>\n",
       "      <td>Contoso 2G MP3 Player E200 Red</td>\n",
       "      <td>Contoso</td>\n",
       "      <td>Red</td>\n",
       "      <td>$11.00</td>\n",
       "      <td>$21.57</td>\n",
       "      <td>101</td>\n",
       "      <td>MP4&amp;MP3</td>\n",
       "      <td>1</td>\n",
       "      <td>Audio</td>\n",
       "    </tr>\n",
       "    <tr>\n",
       "      <th>...</th>\n",
       "      <td>...</td>\n",
       "      <td>...</td>\n",
       "      <td>...</td>\n",
       "      <td>...</td>\n",
       "      <td>...</td>\n",
       "      <td>...</td>\n",
       "      <td>...</td>\n",
       "      <td>...</td>\n",
       "      <td>...</td>\n",
       "      <td>...</td>\n",
       "    </tr>\n",
       "    <tr>\n",
       "      <th>2512</th>\n",
       "      <td>2513</td>\n",
       "      <td>Contoso Bluetooth Active Headphones L15 Red</td>\n",
       "      <td>Contoso</td>\n",
       "      <td>Red</td>\n",
       "      <td>$43.07</td>\n",
       "      <td>$129.99</td>\n",
       "      <td>505</td>\n",
       "      <td>Cell phones Accessories</td>\n",
       "      <td>5</td>\n",
       "      <td>Cell phones</td>\n",
       "    </tr>\n",
       "    <tr>\n",
       "      <th>2513</th>\n",
       "      <td>2514</td>\n",
       "      <td>Contoso Bluetooth Active Headphones L15 White</td>\n",
       "      <td>Contoso</td>\n",
       "      <td>White</td>\n",
       "      <td>$43.07</td>\n",
       "      <td>$129.99</td>\n",
       "      <td>505</td>\n",
       "      <td>Cell phones Accessories</td>\n",
       "      <td>5</td>\n",
       "      <td>Cell phones</td>\n",
       "    </tr>\n",
       "    <tr>\n",
       "      <th>2514</th>\n",
       "      <td>2515</td>\n",
       "      <td>Contoso In-Line Coupler E180 White</td>\n",
       "      <td>Contoso</td>\n",
       "      <td>White</td>\n",
       "      <td>$1.71</td>\n",
       "      <td>$3.35</td>\n",
       "      <td>505</td>\n",
       "      <td>Cell phones Accessories</td>\n",
       "      <td>5</td>\n",
       "      <td>Cell phones</td>\n",
       "    </tr>\n",
       "    <tr>\n",
       "      <th>2515</th>\n",
       "      <td>2516</td>\n",
       "      <td>Contoso In-Line Coupler E180 Black</td>\n",
       "      <td>Contoso</td>\n",
       "      <td>Black</td>\n",
       "      <td>$1.71</td>\n",
       "      <td>$3.35</td>\n",
       "      <td>505</td>\n",
       "      <td>Cell phones Accessories</td>\n",
       "      <td>5</td>\n",
       "      <td>Cell phones</td>\n",
       "    </tr>\n",
       "    <tr>\n",
       "      <th>2516</th>\n",
       "      <td>2517</td>\n",
       "      <td>Contoso In-Line Coupler E180 Silver</td>\n",
       "      <td>Contoso</td>\n",
       "      <td>Silver</td>\n",
       "      <td>$1.71</td>\n",
       "      <td>$3.35</td>\n",
       "      <td>505</td>\n",
       "      <td>Cell phones Accessories</td>\n",
       "      <td>5</td>\n",
       "      <td>Cell phones</td>\n",
       "    </tr>\n",
       "  </tbody>\n",
       "</table>\n",
       "<p>2517 rows × 10 columns</p>\n",
       "</div>"
      ],
      "text/plain": [
       "      ProductKey                                   Product Name    Brand  \\\n",
       "0              1            Contoso 512MB MP3 Player E51 Silver  Contoso   \n",
       "1              2              Contoso 512MB MP3 Player E51 Blue  Contoso   \n",
       "2              3               Contoso 1G MP3 Player E100 White  Contoso   \n",
       "3              4              Contoso 2G MP3 Player E200 Silver  Contoso   \n",
       "4              5                 Contoso 2G MP3 Player E200 Red  Contoso   \n",
       "...          ...                                            ...      ...   \n",
       "2512        2513    Contoso Bluetooth Active Headphones L15 Red  Contoso   \n",
       "2513        2514  Contoso Bluetooth Active Headphones L15 White  Contoso   \n",
       "2514        2515             Contoso In-Line Coupler E180 White  Contoso   \n",
       "2515        2516             Contoso In-Line Coupler E180 Black  Contoso   \n",
       "2516        2517            Contoso In-Line Coupler E180 Silver  Contoso   \n",
       "\n",
       "       Color Unit Cost USD Unit Price USD  SubcategoryKey  \\\n",
       "0     Silver        $6.62         $12.99              101   \n",
       "1       Blue        $6.62         $12.99              101   \n",
       "2      White        $7.40         $14.52              101   \n",
       "3     Silver       $11.00         $21.57              101   \n",
       "4        Red       $11.00         $21.57              101   \n",
       "...      ...           ...            ...             ...   \n",
       "2512     Red       $43.07        $129.99              505   \n",
       "2513   White       $43.07        $129.99              505   \n",
       "2514   White        $1.71          $3.35              505   \n",
       "2515   Black        $1.71          $3.35              505   \n",
       "2516  Silver        $1.71          $3.35              505   \n",
       "\n",
       "                  Subcategory  CategoryKey     Category  \n",
       "0                     MP4&MP3            1        Audio  \n",
       "1                     MP4&MP3            1        Audio  \n",
       "2                     MP4&MP3            1        Audio  \n",
       "3                     MP4&MP3            1        Audio  \n",
       "4                     MP4&MP3            1        Audio  \n",
       "...                       ...          ...          ...  \n",
       "2512  Cell phones Accessories            5  Cell phones  \n",
       "2513  Cell phones Accessories            5  Cell phones  \n",
       "2514  Cell phones Accessories            5  Cell phones  \n",
       "2515  Cell phones Accessories            5  Cell phones  \n",
       "2516  Cell phones Accessories            5  Cell phones  \n",
       "\n",
       "[2517 rows x 10 columns]"
      ]
     },
     "execution_count": 106,
     "metadata": {},
     "output_type": "execute_result"
    }
   ],
   "source": [
    " data_prod"
   ]
  },
  {
   "cell_type": "markdown",
   "id": "85177c7e-4c88-43ae-803c-653e304fa6ae",
   "metadata": {},
   "source": [
    "#database connection with csv"
   ]
  },
  {
   "cell_type": "markdown",
   "id": "79f8b8b4-3976-4c0b-a0dc-8c65553b09c1",
   "metadata": {},
   "source": [
    "### Connect sql with csv files"
   ]
  },
  {
   "cell_type": "code",
   "execution_count": 19,
   "id": "703e5185-13cb-4061-b07f-edf9c3a617d3",
   "metadata": {},
   "outputs": [],
   "source": [
    "conn = db.connect(\n",
    "    host = \"localhost\",\n",
    "    user = \"root\",\n",
    "    password = \"root\",\n",
    "    database = \"data_spark\"\n",
    "        )"
   ]
  },
  {
   "cell_type": "code",
   "execution_count": 21,
   "id": "f254b87f-3f92-4e69-9366-ce39aeb9e96d",
   "metadata": {},
   "outputs": [],
   "source": [
    "curr = conn.cursor()"
   ]
  },
  {
   "cell_type": "code",
   "execution_count": 21,
   "id": "a3266b1f-376b-46f8-899d-304390eac04d",
   "metadata": {},
   "outputs": [
    {
     "data": {
      "text/plain": [
       "Index(['CustomerKey', 'Gender', 'Name', 'City', 'State Code', 'State',\n",
       "       'Zip Code', 'Country', 'Continent', 'Birthday'],\n",
       "      dtype='object')"
      ]
     },
     "execution_count": 21,
     "metadata": {},
     "output_type": "execute_result"
    }
   ],
   "source": [
    "data_cust.columns"
   ]
  },
  {
   "cell_type": "code",
   "execution_count": 5,
   "id": "68bfe55e-89a6-4798-b67c-32d5da9ab303",
   "metadata": {},
   "outputs": [],
   "source": [
    "curr.execute(\"\"\"create table cust_tab (\n",
    " CustomerKey int primary Key, Gender text,Name text, City text,StateCode text,State text,\n",
    " ZipCode text, Country text,Continent text,Birthday text)\"\"\"\n",
    " )\n"
   ]
  },
  {
   "cell_type": "code",
   "execution_count": 110,
   "id": "99b6e02d-7fa3-4f0a-842a-ac62511112e9",
   "metadata": {},
   "outputs": [
    {
     "data": {
      "text/plain": [
       "0"
      ]
     },
     "execution_count": 110,
     "metadata": {},
     "output_type": "execute_result"
    }
   ],
   "source": [
    "data.duplicated().sum()"
   ]
  },
  {
   "cell_type": "code",
   "execution_count": 6,
   "id": "c11091bb-b90e-4fd0-8834-341bcf762b46",
   "metadata": {},
   "outputs": [],
   "source": [
    "with open('data_cust.csv', 'r',encoding='utf-8') as csvfile:\n",
    "    d1= csv.DictReader(csvfile)\n",
    "    for i in d1:\n",
    "        q1 = \"\"\"INSERT INTO cust_tab (CustomerKey ,Gender,Name, City,StateCode,State ,\n",
    "   ZipCode , Country ,Continent,Birthday) values ( %s,%s,%s, %s, %s,%s,%s,%s,%s,%s)\"\"\"\n",
    "        v1 = (i['CustomerKey'], i['Gender'],i['Name'], i['City'],i['State Code'],i['State'] ,\n",
    "   i['Zip Code'] ,i['Country'] ,i['Continent'],i['Birthday'])\n",
    "        curr.execute(q1,v1)\n",
    "    conn.commit()"
   ]
  },
  {
   "cell_type": "code",
   "execution_count": 148,
   "id": "d3d14858-469d-4d5a-9f9d-1ae4d3478259",
   "metadata": {},
   "outputs": [],
   "source": [
    "curr.execute(\"\"\"select * from customer_info\"\"\")"
   ]
  },
  {
   "cell_type": "code",
   "execution_count": 25,
   "id": "171d293b-e9e0-4609-b9b3-3d2cd4b6d224",
   "metadata": {},
   "outputs": [
    {
     "data": {
      "text/plain": [
       "(15266, 10)"
      ]
     },
     "execution_count": 25,
     "metadata": {},
     "output_type": "execute_result"
    }
   ],
   "source": [
    "data_cust.shape"
   ]
  },
  {
   "cell_type": "code",
   "execution_count": 88,
   "id": "e7315753-c45c-4bd1-a886-207338915b62",
   "metadata": {},
   "outputs": [
    {
     "data": {
      "text/plain": [
       "CustomerKey              209922\n",
       "Gender                     Male\n",
       "Name                Lee Compton\n",
       "City                   Kamloops\n",
       "State Code                   BC\n",
       "State          British Columbia\n",
       "Zip Code                V2B 3J5\n",
       "Country                  Canada\n",
       "Continent         North America\n",
       "Birthday             1957-02-16\n",
       "Name: 1500, dtype: object"
      ]
     },
     "execution_count": 88,
     "metadata": {},
     "output_type": "execute_result"
    }
   ],
   "source": [
    "data.iloc[1500,::]"
   ]
  },
  {
   "cell_type": "code",
   "execution_count": null,
   "id": "c8598a4b-b7c5-48ff-9a62-2564f0ea2df1",
   "metadata": {},
   "outputs": [],
   "source": [
    "data.loc[data['CustomerKey']=327037,''\n",
    "]"
   ]
  },
  {
   "cell_type": "code",
   "execution_count": 26,
   "id": "b06ba2d1-befd-43fa-85b1-805180a635f9",
   "metadata": {},
   "outputs": [],
   "source": [
    "data = pd.read_csv('data_cust.csv',encoding='ISO-8859-1')"
   ]
  },
  {
   "cell_type": "code",
   "execution_count": 104,
   "id": "d4928a89-8f8f-41fd-a353-a0ad9687340c",
   "metadata": {},
   "outputs": [],
   "source": [
    "data = data.drop_duplicates()"
   ]
  },
  {
   "cell_type": "code",
   "execution_count": 27,
   "id": "23d4818d-4eef-441f-a31e-d4f7baa7ca26",
   "metadata": {},
   "outputs": [
    {
     "data": {
      "text/plain": [
       "Index(['Unnamed: 0', 'CustomerKey', 'Gender', 'Name', 'City', 'State Code',\n",
       "       'State', 'Zip Code', 'Country', 'Continent', 'Birthday'],\n",
       "      dtype='object')"
      ]
     },
     "execution_count": 27,
     "metadata": {},
     "output_type": "execute_result"
    }
   ],
   "source": [
    "data.columns"
   ]
  },
  {
   "cell_type": "code",
   "execution_count": 36,
   "id": "d11582b5-a10e-4ba7-a6a5-fc2efc59516c",
   "metadata": {},
   "outputs": [],
   "source": [
    "data.to_csv('data.cust.csv')"
   ]
  },
  {
   "cell_type": "code",
   "execution_count": 98,
   "id": "18da1dcc-1ccd-4217-b0a0-eb5474a477ba",
   "metadata": {},
   "outputs": [
    {
     "data": {
      "text/html": [
       "<div>\n",
       "<style scoped>\n",
       "    .dataframe tbody tr th:only-of-type {\n",
       "        vertical-align: middle;\n",
       "    }\n",
       "\n",
       "    .dataframe tbody tr th {\n",
       "        vertical-align: top;\n",
       "    }\n",
       "\n",
       "    .dataframe thead th {\n",
       "        text-align: right;\n",
       "    }\n",
       "</style>\n",
       "<table border=\"1\" class=\"dataframe\">\n",
       "  <thead>\n",
       "    <tr style=\"text-align: right;\">\n",
       "      <th></th>\n",
       "      <th>CustomerKey</th>\n",
       "      <th>Gender</th>\n",
       "      <th>Name</th>\n",
       "      <th>City</th>\n",
       "      <th>State Code</th>\n",
       "      <th>State</th>\n",
       "      <th>Zip Code</th>\n",
       "      <th>Country</th>\n",
       "      <th>Continent</th>\n",
       "      <th>Birthday</th>\n",
       "    </tr>\n",
       "  </thead>\n",
       "  <tbody>\n",
       "    <tr>\n",
       "      <th>0</th>\n",
       "      <td>301</td>\n",
       "      <td>Female</td>\n",
       "      <td>Lilly Harding</td>\n",
       "      <td>WANDEARAH EAST</td>\n",
       "      <td>SA</td>\n",
       "      <td>South Australia</td>\n",
       "      <td>5523</td>\n",
       "      <td>Australia</td>\n",
       "      <td>Australia</td>\n",
       "      <td>1939-07-03</td>\n",
       "    </tr>\n",
       "    <tr>\n",
       "      <th>1</th>\n",
       "      <td>325</td>\n",
       "      <td>Female</td>\n",
       "      <td>Madison Hull</td>\n",
       "      <td>MOUNT BUDD</td>\n",
       "      <td>WA</td>\n",
       "      <td>Western Australia</td>\n",
       "      <td>6522</td>\n",
       "      <td>Australia</td>\n",
       "      <td>Australia</td>\n",
       "      <td>1979-09-27</td>\n",
       "    </tr>\n",
       "    <tr>\n",
       "      <th>2</th>\n",
       "      <td>554</td>\n",
       "      <td>Female</td>\n",
       "      <td>Claire Ferres</td>\n",
       "      <td>WINJALLOK</td>\n",
       "      <td>VIC</td>\n",
       "      <td>Victoria</td>\n",
       "      <td>3380</td>\n",
       "      <td>Australia</td>\n",
       "      <td>Australia</td>\n",
       "      <td>1947-05-26</td>\n",
       "    </tr>\n",
       "    <tr>\n",
       "      <th>3</th>\n",
       "      <td>786</td>\n",
       "      <td>Male</td>\n",
       "      <td>Jai Poltpalingada</td>\n",
       "      <td>MIDDLE RIVER</td>\n",
       "      <td>SA</td>\n",
       "      <td>South Australia</td>\n",
       "      <td>5223</td>\n",
       "      <td>Australia</td>\n",
       "      <td>Australia</td>\n",
       "      <td>1957-09-17</td>\n",
       "    </tr>\n",
       "    <tr>\n",
       "      <th>4</th>\n",
       "      <td>1042</td>\n",
       "      <td>Male</td>\n",
       "      <td>Aidan Pankhurst</td>\n",
       "      <td>TAWONGA SOUTH</td>\n",
       "      <td>VIC</td>\n",
       "      <td>Victoria</td>\n",
       "      <td>3698</td>\n",
       "      <td>Australia</td>\n",
       "      <td>Australia</td>\n",
       "      <td>1965-11-19</td>\n",
       "    </tr>\n",
       "    <tr>\n",
       "      <th>...</th>\n",
       "      <td>...</td>\n",
       "      <td>...</td>\n",
       "      <td>...</td>\n",
       "      <td>...</td>\n",
       "      <td>...</td>\n",
       "      <td>...</td>\n",
       "      <td>...</td>\n",
       "      <td>...</td>\n",
       "      <td>...</td>\n",
       "      <td>...</td>\n",
       "    </tr>\n",
       "    <tr>\n",
       "      <th>15261</th>\n",
       "      <td>2099600</td>\n",
       "      <td>Female</td>\n",
       "      <td>Denisa DuÂkovÃ¡</td>\n",
       "      <td>Houston</td>\n",
       "      <td>TX</td>\n",
       "      <td>Texas</td>\n",
       "      <td>77017</td>\n",
       "      <td>United States</td>\n",
       "      <td>North America</td>\n",
       "      <td>1936-03-25</td>\n",
       "    </tr>\n",
       "    <tr>\n",
       "      <th>15262</th>\n",
       "      <td>2099618</td>\n",
       "      <td>Male</td>\n",
       "      <td>Justin SolÃ³rzano</td>\n",
       "      <td>Mclean</td>\n",
       "      <td>VA</td>\n",
       "      <td>Virginia</td>\n",
       "      <td>22101</td>\n",
       "      <td>United States</td>\n",
       "      <td>North America</td>\n",
       "      <td>1992-02-16</td>\n",
       "    </tr>\n",
       "    <tr>\n",
       "      <th>15263</th>\n",
       "      <td>2099758</td>\n",
       "      <td>Male</td>\n",
       "      <td>Svend Petrussen</td>\n",
       "      <td>Wilmington</td>\n",
       "      <td>NC</td>\n",
       "      <td>North Carolina</td>\n",
       "      <td>28405</td>\n",
       "      <td>United States</td>\n",
       "      <td>North America</td>\n",
       "      <td>1937-11-09</td>\n",
       "    </tr>\n",
       "    <tr>\n",
       "      <th>15264</th>\n",
       "      <td>2099862</td>\n",
       "      <td>Female</td>\n",
       "      <td>Lorenza Rush</td>\n",
       "      <td>Riverside</td>\n",
       "      <td>CA</td>\n",
       "      <td>California</td>\n",
       "      <td>92501</td>\n",
       "      <td>United States</td>\n",
       "      <td>North America</td>\n",
       "      <td>1937-10-12</td>\n",
       "    </tr>\n",
       "    <tr>\n",
       "      <th>15265</th>\n",
       "      <td>2099937</td>\n",
       "      <td>Male</td>\n",
       "      <td>Zygmunt Kaminski</td>\n",
       "      <td>Bloomfield Township</td>\n",
       "      <td>MI</td>\n",
       "      <td>Michigan</td>\n",
       "      <td>48302</td>\n",
       "      <td>United States</td>\n",
       "      <td>North America</td>\n",
       "      <td>1965-08-18</td>\n",
       "    </tr>\n",
       "  </tbody>\n",
       "</table>\n",
       "<p>15266 rows × 10 columns</p>\n",
       "</div>"
      ],
      "text/plain": [
       "       CustomerKey  Gender               Name                 City State Code  \\\n",
       "0              301  Female      Lilly Harding       WANDEARAH EAST         SA   \n",
       "1              325  Female       Madison Hull           MOUNT BUDD         WA   \n",
       "2              554  Female      Claire Ferres            WINJALLOK        VIC   \n",
       "3              786    Male  Jai Poltpalingada         MIDDLE RIVER         SA   \n",
       "4             1042    Male    Aidan Pankhurst        TAWONGA SOUTH        VIC   \n",
       "...            ...     ...                ...                  ...        ...   \n",
       "15261      2099600  Female   Denisa DuÂkovÃ¡              Houston         TX   \n",
       "15262      2099618    Male  Justin SolÃ³rzano               Mclean         VA   \n",
       "15263      2099758    Male    Svend Petrussen           Wilmington         NC   \n",
       "15264      2099862  Female       Lorenza Rush            Riverside         CA   \n",
       "15265      2099937    Male   Zygmunt Kaminski  Bloomfield Township         MI   \n",
       "\n",
       "                   State Zip Code        Country      Continent    Birthday  \n",
       "0        South Australia     5523      Australia      Australia  1939-07-03  \n",
       "1      Western Australia     6522      Australia      Australia  1979-09-27  \n",
       "2               Victoria     3380      Australia      Australia  1947-05-26  \n",
       "3        South Australia     5223      Australia      Australia  1957-09-17  \n",
       "4               Victoria     3698      Australia      Australia  1965-11-19  \n",
       "...                  ...      ...            ...            ...         ...  \n",
       "15261              Texas    77017  United States  North America  1936-03-25  \n",
       "15262           Virginia    22101  United States  North America  1992-02-16  \n",
       "15263     North Carolina    28405  United States  North America  1937-11-09  \n",
       "15264         California    92501  United States  North America  1937-10-12  \n",
       "15265           Michigan    48302  United States  North America  1965-08-18  \n",
       "\n",
       "[15266 rows x 10 columns]"
      ]
     },
     "execution_count": 98,
     "metadata": {},
     "output_type": "execute_result"
    }
   ],
   "source": [
    "data"
   ]
  },
  {
   "cell_type": "code",
   "execution_count": 7,
   "id": "65468edd-98cc-4e24-b6ce-f0e673b2f120",
   "metadata": {},
   "outputs": [],
   "source": [
    "data=pd.read_csv('data_sal.csv',encoding='ISO-8859-1')"
   ]
  },
  {
   "cell_type": "code",
   "execution_count": 65,
   "id": "920adc43-64de-4245-ac5b-df3ea6d4b38a",
   "metadata": {},
   "outputs": [
    {
     "data": {
      "text/plain": [
       "Index(['Unnamed: 0', 'Order Number', 'Line Item', 'Order Date',\n",
       "       'Delivery Date', 'CustomerKey', 'StoreKey', 'ProductKey', 'Quantity',\n",
       "       'Currency Code'],\n",
       "      dtype='object')"
      ]
     },
     "execution_count": 65,
     "metadata": {},
     "output_type": "execute_result"
    }
   ],
   "source": [
    "data.columns"
   ]
  },
  {
   "cell_type": "code",
   "execution_count": 66,
   "id": "ae0c6213-7af8-4581-b842-702dac4d02e1",
   "metadata": {},
   "outputs": [],
   "source": [
    "data.drop('Unnamed: 0',axis=1,inplace=True)"
   ]
  },
  {
   "cell_type": "code",
   "execution_count": 67,
   "id": "d7430bbe-e91b-4702-8cf6-5b9faf8a842f",
   "metadata": {},
   "outputs": [
    {
     "data": {
      "text/plain": [
       "0"
      ]
     },
     "execution_count": 67,
     "metadata": {},
     "output_type": "execute_result"
    }
   ],
   "source": [
    "data.duplicated().sum()"
   ]
  },
  {
   "cell_type": "code",
   "execution_count": 68,
   "id": "c0f413f9-61ce-4c46-b3e1-9d39e15539af",
   "metadata": {},
   "outputs": [
    {
     "data": {
      "text/plain": [
       "Index(['Order Number', 'Line Item', 'Order Date', 'Delivery Date',\n",
       "       'CustomerKey', 'StoreKey', 'ProductKey', 'Quantity', 'Currency Code'],\n",
       "      dtype='object')"
      ]
     },
     "execution_count": 68,
     "metadata": {},
     "output_type": "execute_result"
    }
   ],
   "source": [
    "data.columns"
   ]
  },
  {
   "cell_type": "code",
   "execution_count": 43,
   "id": "977f6d77-8ca4-4801-b1df-d760247008d7",
   "metadata": {},
   "outputs": [],
   "source": [
    "sal=pd.read_csv('data_sal.csv',encoding='ISO-8859-1')"
   ]
  },
  {
   "cell_type": "code",
   "execution_count": 44,
   "id": "39a6efd7-93c4-4579-933b-ca57b3a48b0e",
   "metadata": {},
   "outputs": [
    {
     "data": {
      "text/html": [
       "<div>\n",
       "<style scoped>\n",
       "    .dataframe tbody tr th:only-of-type {\n",
       "        vertical-align: middle;\n",
       "    }\n",
       "\n",
       "    .dataframe tbody tr th {\n",
       "        vertical-align: top;\n",
       "    }\n",
       "\n",
       "    .dataframe thead th {\n",
       "        text-align: right;\n",
       "    }\n",
       "</style>\n",
       "<table border=\"1\" class=\"dataframe\">\n",
       "  <thead>\n",
       "    <tr style=\"text-align: right;\">\n",
       "      <th></th>\n",
       "      <th>Unnamed: 0</th>\n",
       "      <th>CustomerKey</th>\n",
       "      <th>Gender</th>\n",
       "      <th>Name</th>\n",
       "      <th>City</th>\n",
       "      <th>State Code</th>\n",
       "      <th>State</th>\n",
       "      <th>Zip Code</th>\n",
       "      <th>Country</th>\n",
       "      <th>Continent</th>\n",
       "      <th>Birthday</th>\n",
       "    </tr>\n",
       "  </thead>\n",
       "  <tbody>\n",
       "    <tr>\n",
       "      <th>0</th>\n",
       "      <td>0</td>\n",
       "      <td>301</td>\n",
       "      <td>Female</td>\n",
       "      <td>Lilly Harding</td>\n",
       "      <td>WANDEARAH EAST</td>\n",
       "      <td>SA</td>\n",
       "      <td>South Australia</td>\n",
       "      <td>5523</td>\n",
       "      <td>Australia</td>\n",
       "      <td>Australia</td>\n",
       "      <td>1939-07-03</td>\n",
       "    </tr>\n",
       "    <tr>\n",
       "      <th>1</th>\n",
       "      <td>1</td>\n",
       "      <td>325</td>\n",
       "      <td>Female</td>\n",
       "      <td>Madison Hull</td>\n",
       "      <td>MOUNT BUDD</td>\n",
       "      <td>WA</td>\n",
       "      <td>Western Australia</td>\n",
       "      <td>6522</td>\n",
       "      <td>Australia</td>\n",
       "      <td>Australia</td>\n",
       "      <td>1979-09-27</td>\n",
       "    </tr>\n",
       "    <tr>\n",
       "      <th>2</th>\n",
       "      <td>2</td>\n",
       "      <td>554</td>\n",
       "      <td>Female</td>\n",
       "      <td>Claire Ferres</td>\n",
       "      <td>WINJALLOK</td>\n",
       "      <td>VIC</td>\n",
       "      <td>Victoria</td>\n",
       "      <td>3380</td>\n",
       "      <td>Australia</td>\n",
       "      <td>Australia</td>\n",
       "      <td>1947-05-26</td>\n",
       "    </tr>\n",
       "    <tr>\n",
       "      <th>3</th>\n",
       "      <td>3</td>\n",
       "      <td>786</td>\n",
       "      <td>Male</td>\n",
       "      <td>Jai Poltpalingada</td>\n",
       "      <td>MIDDLE RIVER</td>\n",
       "      <td>SA</td>\n",
       "      <td>South Australia</td>\n",
       "      <td>5223</td>\n",
       "      <td>Australia</td>\n",
       "      <td>Australia</td>\n",
       "      <td>1957-09-17</td>\n",
       "    </tr>\n",
       "    <tr>\n",
       "      <th>4</th>\n",
       "      <td>4</td>\n",
       "      <td>1042</td>\n",
       "      <td>Male</td>\n",
       "      <td>Aidan Pankhurst</td>\n",
       "      <td>TAWONGA SOUTH</td>\n",
       "      <td>VIC</td>\n",
       "      <td>Victoria</td>\n",
       "      <td>3698</td>\n",
       "      <td>Australia</td>\n",
       "      <td>Australia</td>\n",
       "      <td>1965-11-19</td>\n",
       "    </tr>\n",
       "  </tbody>\n",
       "</table>\n",
       "</div>"
      ],
      "text/plain": [
       "   Unnamed: 0  CustomerKey  Gender               Name            City  \\\n",
       "0           0          301  Female      Lilly Harding  WANDEARAH EAST   \n",
       "1           1          325  Female       Madison Hull      MOUNT BUDD   \n",
       "2           2          554  Female      Claire Ferres       WINJALLOK   \n",
       "3           3          786    Male  Jai Poltpalingada    MIDDLE RIVER   \n",
       "4           4         1042    Male    Aidan Pankhurst   TAWONGA SOUTH   \n",
       "\n",
       "  State Code              State Zip Code    Country  Continent    Birthday  \n",
       "0         SA    South Australia     5523  Australia  Australia  1939-07-03  \n",
       "1         WA  Western Australia     6522  Australia  Australia  1979-09-27  \n",
       "2        VIC           Victoria     3380  Australia  Australia  1947-05-26  \n",
       "3         SA    South Australia     5223  Australia  Australia  1957-09-17  \n",
       "4        VIC           Victoria     3698  Australia  Australia  1965-11-19  "
      ]
     },
     "execution_count": 44,
     "metadata": {},
     "output_type": "execute_result"
    }
   ],
   "source": [
    "sal.head()"
   ]
  },
  {
   "cell_type": "code",
   "execution_count": 69,
   "id": "ecabca93-b015-4a80-afd4-c770fa31c6a9",
   "metadata": {},
   "outputs": [],
   "source": [
    "data.to_csv('data_sal.csv')"
   ]
  },
  {
   "cell_type": "code",
   "execution_count": 41,
   "id": "49018734-53ed-495c-95f8-733cbd778e38",
   "metadata": {},
   "outputs": [],
   "source": [
    "with open('data_sal.csv', 'r',encoding='ISO-8859-1') as csvfile:\n",
    "    d1= csv.DictReader(csvfile)\n",
    "    for i in d1:\n",
    "        q1 = \"\"\"INSERT INTO sales_table (Order_Number, Line_Item,Order_Date,\n",
    "       Delivery_Date ,Customer_Key,Store_Key,Product_Key,Quantity,\n",
    "       Currency_code) values ( %s,%s,%s, %s, %s,%s,%s,%s,%s)\"\"\"\n",
    "        v1 = (i['Order Number'], i['Line Item'],i['Order Date'], i['Delivery Date'],i['CustomerKey'],i['StoreKey'] ,\n",
    "   i['ProductKey'] ,i['Quantity'] ,i['Currency Code'])\n",
    "        curr.execute(q1,v1)\n",
    "    conn.commit()"
   ]
  },
  {
   "cell_type": "code",
   "execution_count": 72,
   "id": "ebc9eb9c-0401-462e-995f-3b6b461c0cbe",
   "metadata": {},
   "outputs": [],
   "source": [
    "data=pd.read_csv('data_prod.csv')"
   ]
  },
  {
   "cell_type": "code",
   "execution_count": 73,
   "id": "b8fd9f82-b91b-40b1-8c98-e31d631d1472",
   "metadata": {},
   "outputs": [
    {
     "data": {
      "text/plain": [
       "Index(['Unnamed: 0', 'ProductKey', 'Product Name', 'Brand', 'Color',\n",
       "       'Unit Cost USD', 'Unit Price USD', 'SubcategoryKey', 'Subcategory',\n",
       "       'CategoryKey', 'Category'],\n",
       "      dtype='object')"
      ]
     },
     "execution_count": 73,
     "metadata": {},
     "output_type": "execute_result"
    }
   ],
   "source": [
    "data.columns"
   ]
  },
  {
   "cell_type": "code",
   "execution_count": 74,
   "id": "48eb6a77-04ec-4706-83f4-0c2c33f77492",
   "metadata": {},
   "outputs": [],
   "source": [
    "data.drop('Unnamed: 0',axis=1,inplace=True)"
   ]
  },
  {
   "cell_type": "code",
   "execution_count": 226,
   "id": "def5aa31-6243-4fed-8a2a-943da927a477",
   "metadata": {},
   "outputs": [
    {
     "data": {
      "text/plain": [
       "0"
      ]
     },
     "execution_count": 226,
     "metadata": {},
     "output_type": "execute_result"
    }
   ],
   "source": [
    "data.duplicated().sum()"
   ]
  },
  {
   "cell_type": "code",
   "execution_count": 75,
   "id": "08e93c7f-9a98-49d3-8146-fdc4d3953752",
   "metadata": {},
   "outputs": [],
   "source": [
    "data.to_csv('data_prod.csv')"
   ]
  },
  {
   "cell_type": "code",
   "execution_count": null,
   "id": "41d155ab-f22b-44af-8200-a8006689a7ec",
   "metadata": {},
   "outputs": [],
   "source": []
  },
  {
   "cell_type": "code",
   "execution_count": 8,
   "id": "567d6fbf-d245-43c3-8f84-c88eb4c46de5",
   "metadata": {},
   "outputs": [],
   "source": [
    "curr.execute(\"\"\"create table prod_table (ProductKey text,Product_Name text,Brand text,Color text,Unit_Cost_USD text,\n",
    "       Unit_Price_USD text,SubcategoryKey text,Subcategory text,CategoryKey text,\n",
    "       Category text)\"\"\"\n",
    " )"
   ]
  },
  {
   "cell_type": "code",
   "execution_count": 9,
   "id": "57010e30-7058-4d76-97cc-a08254c379a7",
   "metadata": {},
   "outputs": [],
   "source": [
    "with open('data_prod.csv', 'r',encoding='ISO-8859-1') as csvfile:\n",
    "    d1= csv.DictReader(csvfile)\n",
    "    for i in d1:\n",
    "        q1 = \"\"\"INSERT INTO prod_table (ProductKey,Product_Name,Brand,Color,Unit_Cost_USD,\n",
    "       Unit_Price_USD,SubcategoryKey,Subcategory,CategoryKey ,Category ) values ( %s,%s,%s, %s, %s,%s,%s,%s,%s,%s)\"\"\"\n",
    "        v1 = (i['ProductKey'], i['Product Name'],i['Brand'], i['Color'],i['Unit Cost USD'],i['Unit Price USD'] ,\n",
    "      i['SubcategoryKey'] ,i['Subcategory'] ,i['CategoryKey'],i['Category'])\n",
    "        curr.execute(q1,v1)\n",
    "    conn.commit()"
   ]
  },
  {
   "cell_type": "code",
   "execution_count": 78,
   "id": "7a1c1c2b-306c-4f76-9d1e-fd7babadf123",
   "metadata": {},
   "outputs": [],
   "source": [
    "data=pd.read_csv('data_ER.csv')"
   ]
  },
  {
   "cell_type": "code",
   "execution_count": 81,
   "id": "880e82db-6d19-4347-bd27-b273e38692e2",
   "metadata": {},
   "outputs": [
    {
     "data": {
      "text/html": [
       "<div>\n",
       "<style scoped>\n",
       "    .dataframe tbody tr th:only-of-type {\n",
       "        vertical-align: middle;\n",
       "    }\n",
       "\n",
       "    .dataframe tbody tr th {\n",
       "        vertical-align: top;\n",
       "    }\n",
       "\n",
       "    .dataframe thead th {\n",
       "        text-align: right;\n",
       "    }\n",
       "</style>\n",
       "<table border=\"1\" class=\"dataframe\">\n",
       "  <thead>\n",
       "    <tr style=\"text-align: right;\">\n",
       "      <th></th>\n",
       "      <th>Date</th>\n",
       "      <th>Currency</th>\n",
       "      <th>Exchange</th>\n",
       "    </tr>\n",
       "  </thead>\n",
       "  <tbody>\n",
       "    <tr>\n",
       "      <th>0</th>\n",
       "      <td>2015-01-01</td>\n",
       "      <td>USD</td>\n",
       "      <td>1.0000</td>\n",
       "    </tr>\n",
       "    <tr>\n",
       "      <th>1</th>\n",
       "      <td>2015-01-01</td>\n",
       "      <td>CAD</td>\n",
       "      <td>1.1583</td>\n",
       "    </tr>\n",
       "    <tr>\n",
       "      <th>2</th>\n",
       "      <td>2015-01-01</td>\n",
       "      <td>AUD</td>\n",
       "      <td>1.2214</td>\n",
       "    </tr>\n",
       "    <tr>\n",
       "      <th>3</th>\n",
       "      <td>2015-01-01</td>\n",
       "      <td>EUR</td>\n",
       "      <td>0.8237</td>\n",
       "    </tr>\n",
       "    <tr>\n",
       "      <th>4</th>\n",
       "      <td>2015-01-01</td>\n",
       "      <td>GBP</td>\n",
       "      <td>0.6415</td>\n",
       "    </tr>\n",
       "  </tbody>\n",
       "</table>\n",
       "</div>"
      ],
      "text/plain": [
       "         Date Currency  Exchange\n",
       "0  2015-01-01      USD    1.0000\n",
       "1  2015-01-01      CAD    1.1583\n",
       "2  2015-01-01      AUD    1.2214\n",
       "3  2015-01-01      EUR    0.8237\n",
       "4  2015-01-01      GBP    0.6415"
      ]
     },
     "execution_count": 81,
     "metadata": {},
     "output_type": "execute_result"
    }
   ],
   "source": [
    "data.head()"
   ]
  },
  {
   "cell_type": "code",
   "execution_count": null,
   "id": "ca148125-c862-4a76-8b78-9ac77608ef20",
   "metadata": {},
   "outputs": [],
   "source": [
    "data['Date']=data['Date'].astype('datetime64[ns]')"
   ]
  },
  {
   "cell_type": "code",
   "execution_count": null,
   "id": "92a13cbd-e7f1-4afe-b7a6-1cbbb218f665",
   "metadata": {},
   "outputs": [],
   "source": [
    "data.isnull().sum()"
   ]
  },
  {
   "cell_type": "code",
   "execution_count": 258,
   "id": "c949dc87-a621-4435-a050-3f9485d6c0a7",
   "metadata": {},
   "outputs": [],
   "source": [
    "data.to_csv('data_ER.csv')"
   ]
  },
  {
   "cell_type": "code",
   "execution_count": 260,
   "id": "51f9feba-4831-47a2-849d-df491c051d65",
   "metadata": {},
   "outputs": [
    {
     "data": {
      "text/plain": [
       "Index(['Date', 'Currency', 'Exchange'], dtype='object')"
      ]
     },
     "execution_count": 260,
     "metadata": {},
     "output_type": "execute_result"
    }
   ],
   "source": [
    "data.columns"
   ]
  },
  {
   "cell_type": "code",
   "execution_count": 10,
   "id": "ba799e64-3d36-408f-a56e-f096e4beaf62",
   "metadata": {},
   "outputs": [],
   "source": [
    "curr.execute(\n",
    "    \"\"\"create table ER_table (Date text,Currency text,Exchange text)\"\"\"\n",
    " )"
   ]
  },
  {
   "cell_type": "code",
   "execution_count": 11,
   "id": "66900fde-4e51-44d2-9ee0-2e913e8a1c44",
   "metadata": {},
   "outputs": [],
   "source": [
    "with open('data_ER.csv', 'r',encoding='ISO-8859-1') as csvfile:\n",
    "    d1= csv.DictReader(csvfile)\n",
    "    for i in d1:\n",
    "        q1 = \"\"\"INSERT INTO ER_table (Date,Currency,Exchange) values ( %s,%s,%s)\"\"\"\n",
    "        v1 = (i['Date'], i['Currency'],i['Exchange'])\n",
    "        curr.execute(q1,v1)\n",
    "    conn.commit()"
   ]
  },
  {
   "cell_type": "code",
   "execution_count": 84,
   "id": "f7c457aa-3448-4db0-9f0a-9787aed0f93d",
   "metadata": {},
   "outputs": [],
   "source": [
    "data=pd.read_csv('data_st.csv')"
   ]
  },
  {
   "cell_type": "code",
   "execution_count": 85,
   "id": "d32a8418-96e7-476a-a23f-494a7f87f427",
   "metadata": {},
   "outputs": [],
   "source": [
    "data.drop('Unnamed: 0',axis=1,inplace=True)"
   ]
  },
  {
   "cell_type": "code",
   "execution_count": 86,
   "id": "9fded1db-d653-42a1-a5bd-223a8bf9fbc4",
   "metadata": {},
   "outputs": [
    {
     "data": {
      "text/plain": [
       "StoreKey         0\n",
       "Country          0\n",
       "State            0\n",
       "Square Meters    0\n",
       "Open Date        0\n",
       "dtype: int64"
      ]
     },
     "execution_count": 86,
     "metadata": {},
     "output_type": "execute_result"
    }
   ],
   "source": [
    "data.isnull().sum()"
   ]
  },
  {
   "cell_type": "code",
   "execution_count": 87,
   "id": "a710fca2-26fb-49ac-8afd-eec7e6e642fb",
   "metadata": {},
   "outputs": [],
   "source": [
    "data.to_csv('data_st.csv')"
   ]
  },
  {
   "cell_type": "code",
   "execution_count": 88,
   "id": "bd38405d-be71-4d36-8cd4-1d612b181720",
   "metadata": {},
   "outputs": [
    {
     "data": {
      "text/plain": [
       "Index(['StoreKey', 'Country', 'State', 'Square Meters', 'Open Date'], dtype='object')"
      ]
     },
     "execution_count": 88,
     "metadata": {},
     "output_type": "execute_result"
    }
   ],
   "source": [
    "data.columns"
   ]
  },
  {
   "cell_type": "code",
   "execution_count": 37,
   "id": "4692b24a-aaa8-4410-845a-b21cce9995ba",
   "metadata": {},
   "outputs": [],
   "source": [
    "curr.execute(\n",
    "    \"\"\"create table stor_table (StoreKey text,Country text,State text,Square_Meters float,Open_Date text)\"\"\"\n",
    " )"
   ]
  },
  {
   "cell_type": "code",
   "execution_count": 41,
   "id": "8068f087-15da-4e0a-a4ab-097452320486",
   "metadata": {},
   "outputs": [],
   "source": [
    "with open('data_st.csv', 'r',encoding='ISO-8859-1') as csvfile:\n",
    "    d1= csv.DictReader(csvfile)\n",
    "    for i in d1:\n",
    "        q1 = \"\"\"INSERT INTO stor_table(StoreKey,Country,State,Square_Meters,Open_Date) values ( %s,%s,%s, %s, %s)\"\"\"\n",
    "        v1 = (i['StoreKey'], i['Country'],i['State'], i['Square Meters'],i['Open Date'])\n",
    "        curr.execute(q1,v1)\n",
    "    conn.commit()"
   ]
  },
  {
   "cell_type": "code",
   "execution_count": 8,
   "id": "4e7db0e7-ceb2-446c-ad8b-8bdc15dfa8ed",
   "metadata": {},
   "outputs": [],
   "source": [
    "data=pd.read_csv('data_sal.csv')"
   ]
  },
  {
   "cell_type": "code",
   "execution_count": 19,
   "id": "2fe69a3b-db6d-41ee-bbc5-d2428dd7230b",
   "metadata": {},
   "outputs": [
    {
     "data": {
      "text/plain": [
       "Index(['Unnamed: 0', 'Order Number', 'Line Item', 'Order Date',\n",
       "       'Delivery Date', 'CustomerKey', 'StoreKey', 'ProductKey', 'Quantity',\n",
       "       'Currency Code'],\n",
       "      dtype='object')"
      ]
     },
     "execution_count": 19,
     "metadata": {},
     "output_type": "execute_result"
    }
   ],
   "source": [
    "data.columns"
   ]
  },
  {
   "cell_type": "code",
   "execution_count": 21,
   "id": "0f19ac86-7967-468b-9341-82128ae4d417",
   "metadata": {},
   "outputs": [
    {
     "data": {
      "text/plain": [
       "ProductKey\n",
       "423     162\n",
       "446     158\n",
       "434     158\n",
       "458     158\n",
       "448     157\n",
       "       ... \n",
       "2306      1\n",
       "2346      1\n",
       "2232      1\n",
       "2243      1\n",
       "193       1\n",
       "Name: count, Length: 2492, dtype: int64"
      ]
     },
     "execution_count": 21,
     "metadata": {},
     "output_type": "execute_result"
    }
   ],
   "source": [
    "data['ProductKey']"
   ]
  },
  {
   "cell_type": "code",
   "execution_count": 27,
   "id": "16196897-45c9-4b03-b2a6-c43a7f643a3e",
   "metadata": {},
   "outputs": [],
   "source": [
    "prod=pd.read_csv('data_prod.csv')"
   ]
  },
  {
   "cell_type": "code",
   "execution_count": 41,
   "id": "10c624cc-5d15-41a3-83a5-b67bb1e59426",
   "metadata": {},
   "outputs": [],
   "source": [
    "val=data['ProductKey'].value_counts()"
   ]
  },
  {
   "cell_type": "code",
   "execution_count": 53,
   "id": "18cfd50d-e8e3-4d5f-97bb-2224f0677efa",
   "metadata": {},
   "outputs": [
    {
     "data": {
      "text/html": [
       "<div>\n",
       "<style scoped>\n",
       "    .dataframe tbody tr th:only-of-type {\n",
       "        vertical-align: middle;\n",
       "    }\n",
       "\n",
       "    .dataframe tbody tr th {\n",
       "        vertical-align: top;\n",
       "    }\n",
       "\n",
       "    .dataframe thead th {\n",
       "        text-align: right;\n",
       "    }\n",
       "</style>\n",
       "<table border=\"1\" class=\"dataframe\">\n",
       "  <thead>\n",
       "    <tr style=\"text-align: right;\">\n",
       "      <th></th>\n",
       "      <th>Unnamed: 0</th>\n",
       "      <th>ProductKey</th>\n",
       "      <th>Product Name</th>\n",
       "      <th>Brand</th>\n",
       "      <th>Color</th>\n",
       "      <th>Unit Cost USD</th>\n",
       "      <th>Unit Price USD</th>\n",
       "      <th>SubcategoryKey</th>\n",
       "      <th>Subcategory</th>\n",
       "      <th>CategoryKey</th>\n",
       "      <th>Category</th>\n",
       "    </tr>\n",
       "  </thead>\n",
       "  <tbody>\n",
       "    <tr>\n",
       "      <th>422</th>\n",
       "      <td>422</td>\n",
       "      <td>423</td>\n",
       "      <td>Adventure Works Desktop PC2.30 MD230 Black</td>\n",
       "      <td>Adventure Works</td>\n",
       "      <td>Black</td>\n",
       "      <td>$275.46</td>\n",
       "      <td>$599.00</td>\n",
       "      <td>303</td>\n",
       "      <td>Desktops</td>\n",
       "      <td>3</td>\n",
       "      <td>Computers</td>\n",
       "    </tr>\n",
       "  </tbody>\n",
       "</table>\n",
       "</div>"
      ],
      "text/plain": [
       "     Unnamed: 0  ProductKey                                Product Name  \\\n",
       "422         422         423  Adventure Works Desktop PC2.30 MD230 Black   \n",
       "\n",
       "               Brand  Color Unit Cost USD Unit Price USD  SubcategoryKey  \\\n",
       "422  Adventure Works  Black      $275.46        $599.00              303   \n",
       "\n",
       "    Subcategory  CategoryKey   Category  \n",
       "422    Desktops            3  Computers  "
      ]
     },
     "execution_count": 53,
     "metadata": {},
     "output_type": "execute_result"
    }
   ],
   "source": [
    "prod[prod['ProductKey']==423]"
   ]
  },
  {
   "cell_type": "code",
   "execution_count": 55,
   "id": "f74744ff-77a4-4215-94d8-d1c12a87e4aa",
   "metadata": {},
   "outputs": [
    {
     "data": {
      "text/html": [
       "<div>\n",
       "<style scoped>\n",
       "    .dataframe tbody tr th:only-of-type {\n",
       "        vertical-align: middle;\n",
       "    }\n",
       "\n",
       "    .dataframe tbody tr th {\n",
       "        vertical-align: top;\n",
       "    }\n",
       "\n",
       "    .dataframe thead th {\n",
       "        text-align: right;\n",
       "    }\n",
       "</style>\n",
       "<table border=\"1\" class=\"dataframe\">\n",
       "  <thead>\n",
       "    <tr style=\"text-align: right;\">\n",
       "      <th></th>\n",
       "      <th>Unnamed: 0</th>\n",
       "      <th>Order Number</th>\n",
       "      <th>Line Item</th>\n",
       "      <th>Order Date</th>\n",
       "      <th>Delivery Date</th>\n",
       "      <th>CustomerKey</th>\n",
       "      <th>StoreKey</th>\n",
       "      <th>ProductKey</th>\n",
       "      <th>Quantity</th>\n",
       "      <th>Currency Code</th>\n",
       "    </tr>\n",
       "  </thead>\n",
       "  <tbody>\n",
       "    <tr>\n",
       "      <th>458</th>\n",
       "      <td>458</td>\n",
       "      <td>386006</td>\n",
       "      <td>5</td>\n",
       "      <td>2016-01-21</td>\n",
       "      <td>yet to be</td>\n",
       "      <td>348548</td>\n",
       "      <td>10</td>\n",
       "      <td>423</td>\n",
       "      <td>1</td>\n",
       "      <td>CAD</td>\n",
       "    </tr>\n",
       "    <tr>\n",
       "      <th>1302</th>\n",
       "      <td>1302</td>\n",
       "      <td>420003</td>\n",
       "      <td>6</td>\n",
       "      <td>2016-02-24</td>\n",
       "      <td>3/3/2016</td>\n",
       "      <td>424546</td>\n",
       "      <td>0</td>\n",
       "      <td>423</td>\n",
       "      <td>7</td>\n",
       "      <td>EUR</td>\n",
       "    </tr>\n",
       "    <tr>\n",
       "      <th>1499</th>\n",
       "      <td>1499</td>\n",
       "      <td>427001</td>\n",
       "      <td>1</td>\n",
       "      <td>2016-03-02</td>\n",
       "      <td>yet to be</td>\n",
       "      <td>285421</td>\n",
       "      <td>8</td>\n",
       "      <td>423</td>\n",
       "      <td>1</td>\n",
       "      <td>CAD</td>\n",
       "    </tr>\n",
       "    <tr>\n",
       "      <th>3067</th>\n",
       "      <td>3067</td>\n",
       "      <td>554006</td>\n",
       "      <td>2</td>\n",
       "      <td>2016-07-07</td>\n",
       "      <td>yet to be</td>\n",
       "      <td>1972624</td>\n",
       "      <td>54</td>\n",
       "      <td>423</td>\n",
       "      <td>1</td>\n",
       "      <td>USD</td>\n",
       "    </tr>\n",
       "    <tr>\n",
       "      <th>3332</th>\n",
       "      <td>3332</td>\n",
       "      <td>567008</td>\n",
       "      <td>1</td>\n",
       "      <td>2016-07-20</td>\n",
       "      <td>yet to be</td>\n",
       "      <td>1916770</td>\n",
       "      <td>59</td>\n",
       "      <td>423</td>\n",
       "      <td>2</td>\n",
       "      <td>USD</td>\n",
       "    </tr>\n",
       "    <tr>\n",
       "      <th>...</th>\n",
       "      <td>...</td>\n",
       "      <td>...</td>\n",
       "      <td>...</td>\n",
       "      <td>...</td>\n",
       "      <td>...</td>\n",
       "      <td>...</td>\n",
       "      <td>...</td>\n",
       "      <td>...</td>\n",
       "      <td>...</td>\n",
       "      <td>...</td>\n",
       "    </tr>\n",
       "    <tr>\n",
       "      <th>62073</th>\n",
       "      <td>62073</td>\n",
       "      <td>2211006</td>\n",
       "      <td>2</td>\n",
       "      <td>2021-01-19</td>\n",
       "      <td>yet to be</td>\n",
       "      <td>801780</td>\n",
       "      <td>34</td>\n",
       "      <td>423</td>\n",
       "      <td>7</td>\n",
       "      <td>EUR</td>\n",
       "    </tr>\n",
       "    <tr>\n",
       "      <th>62483</th>\n",
       "      <td>62483</td>\n",
       "      <td>2234007</td>\n",
       "      <td>1</td>\n",
       "      <td>2021-02-11</td>\n",
       "      <td>yet to be</td>\n",
       "      <td>1711599</td>\n",
       "      <td>56</td>\n",
       "      <td>423</td>\n",
       "      <td>2</td>\n",
       "      <td>USD</td>\n",
       "    </tr>\n",
       "    <tr>\n",
       "      <th>62593</th>\n",
       "      <td>62593</td>\n",
       "      <td>2239000</td>\n",
       "      <td>1</td>\n",
       "      <td>2021-02-16</td>\n",
       "      <td>2/20/2021</td>\n",
       "      <td>37585</td>\n",
       "      <td>0</td>\n",
       "      <td>423</td>\n",
       "      <td>5</td>\n",
       "      <td>AUD</td>\n",
       "    </tr>\n",
       "    <tr>\n",
       "      <th>62673</th>\n",
       "      <td>62673</td>\n",
       "      <td>2240011</td>\n",
       "      <td>4</td>\n",
       "      <td>2021-02-17</td>\n",
       "      <td>yet to be</td>\n",
       "      <td>1632235</td>\n",
       "      <td>53</td>\n",
       "      <td>423</td>\n",
       "      <td>4</td>\n",
       "      <td>USD</td>\n",
       "    </tr>\n",
       "    <tr>\n",
       "      <th>62843</th>\n",
       "      <td>62843</td>\n",
       "      <td>2243014</td>\n",
       "      <td>1</td>\n",
       "      <td>2021-02-20</td>\n",
       "      <td>yet to be</td>\n",
       "      <td>1453427</td>\n",
       "      <td>50</td>\n",
       "      <td>423</td>\n",
       "      <td>1</td>\n",
       "      <td>USD</td>\n",
       "    </tr>\n",
       "  </tbody>\n",
       "</table>\n",
       "<p>162 rows × 10 columns</p>\n",
       "</div>"
      ],
      "text/plain": [
       "       Unnamed: 0  Order Number  Line Item  Order Date Delivery Date  \\\n",
       "458           458        386006          5  2016-01-21     yet to be   \n",
       "1302         1302        420003          6  2016-02-24      3/3/2016   \n",
       "1499         1499        427001          1  2016-03-02     yet to be   \n",
       "3067         3067        554006          2  2016-07-07     yet to be   \n",
       "3332         3332        567008          1  2016-07-20     yet to be   \n",
       "...           ...           ...        ...         ...           ...   \n",
       "62073       62073       2211006          2  2021-01-19     yet to be   \n",
       "62483       62483       2234007          1  2021-02-11     yet to be   \n",
       "62593       62593       2239000          1  2021-02-16     2/20/2021   \n",
       "62673       62673       2240011          4  2021-02-17     yet to be   \n",
       "62843       62843       2243014          1  2021-02-20     yet to be   \n",
       "\n",
       "       CustomerKey  StoreKey  ProductKey  Quantity Currency Code  \n",
       "458         348548        10         423         1           CAD  \n",
       "1302        424546         0         423         7           EUR  \n",
       "1499        285421         8         423         1           CAD  \n",
       "3067       1972624        54         423         1           USD  \n",
       "3332       1916770        59         423         2           USD  \n",
       "...            ...       ...         ...       ...           ...  \n",
       "62073       801780        34         423         7           EUR  \n",
       "62483      1711599        56         423         2           USD  \n",
       "62593        37585         0         423         5           AUD  \n",
       "62673      1632235        53         423         4           USD  \n",
       "62843      1453427        50         423         1           USD  \n",
       "\n",
       "[162 rows x 10 columns]"
      ]
     },
     "execution_count": 55,
     "metadata": {},
     "output_type": "execute_result"
    }
   ],
   "source": [
    "data[data['ProductKey']==423]"
   ]
  },
  {
   "cell_type": "code",
   "execution_count": 15,
   "id": "a438d119-6ed4-4caa-bbe8-02b2b29fc7a1",
   "metadata": {},
   "outputs": [],
   "source": [
    "data=pd.read_csv('data_sal.csv')"
   ]
  },
  {
   "cell_type": "code",
   "execution_count": 17,
   "id": "8111d33f-b0fb-4cfc-80fe-e99a3df3e60c",
   "metadata": {},
   "outputs": [
    {
     "data": {
      "text/html": [
       "<div>\n",
       "<style scoped>\n",
       "    .dataframe tbody tr th:only-of-type {\n",
       "        vertical-align: middle;\n",
       "    }\n",
       "\n",
       "    .dataframe tbody tr th {\n",
       "        vertical-align: top;\n",
       "    }\n",
       "\n",
       "    .dataframe thead th {\n",
       "        text-align: right;\n",
       "    }\n",
       "</style>\n",
       "<table border=\"1\" class=\"dataframe\">\n",
       "  <thead>\n",
       "    <tr style=\"text-align: right;\">\n",
       "      <th></th>\n",
       "      <th>Unnamed: 0</th>\n",
       "      <th>Order Number</th>\n",
       "      <th>Line Item</th>\n",
       "      <th>Order Date</th>\n",
       "      <th>Delivery Date</th>\n",
       "      <th>CustomerKey</th>\n",
       "      <th>StoreKey</th>\n",
       "      <th>ProductKey</th>\n",
       "      <th>Quantity</th>\n",
       "      <th>Currency Code</th>\n",
       "    </tr>\n",
       "  </thead>\n",
       "  <tbody>\n",
       "    <tr>\n",
       "      <th>0</th>\n",
       "      <td>0</td>\n",
       "      <td>366000</td>\n",
       "      <td>1</td>\n",
       "      <td>2016-01-01</td>\n",
       "      <td>yet to be</td>\n",
       "      <td>265598</td>\n",
       "      <td>10</td>\n",
       "      <td>1304</td>\n",
       "      <td>1</td>\n",
       "      <td>CAD</td>\n",
       "    </tr>\n",
       "    <tr>\n",
       "      <th>1</th>\n",
       "      <td>1</td>\n",
       "      <td>366001</td>\n",
       "      <td>1</td>\n",
       "      <td>2016-01-01</td>\n",
       "      <td>1/13/2016</td>\n",
       "      <td>1269051</td>\n",
       "      <td>0</td>\n",
       "      <td>1048</td>\n",
       "      <td>2</td>\n",
       "      <td>USD</td>\n",
       "    </tr>\n",
       "    <tr>\n",
       "      <th>2</th>\n",
       "      <td>2</td>\n",
       "      <td>366001</td>\n",
       "      <td>2</td>\n",
       "      <td>2016-01-01</td>\n",
       "      <td>1/13/2016</td>\n",
       "      <td>1269051</td>\n",
       "      <td>0</td>\n",
       "      <td>2007</td>\n",
       "      <td>1</td>\n",
       "      <td>USD</td>\n",
       "    </tr>\n",
       "    <tr>\n",
       "      <th>3</th>\n",
       "      <td>3</td>\n",
       "      <td>366002</td>\n",
       "      <td>1</td>\n",
       "      <td>2016-01-01</td>\n",
       "      <td>1/12/2016</td>\n",
       "      <td>266019</td>\n",
       "      <td>0</td>\n",
       "      <td>1106</td>\n",
       "      <td>7</td>\n",
       "      <td>CAD</td>\n",
       "    </tr>\n",
       "    <tr>\n",
       "      <th>4</th>\n",
       "      <td>4</td>\n",
       "      <td>366002</td>\n",
       "      <td>2</td>\n",
       "      <td>2016-01-01</td>\n",
       "      <td>1/12/2016</td>\n",
       "      <td>266019</td>\n",
       "      <td>0</td>\n",
       "      <td>373</td>\n",
       "      <td>1</td>\n",
       "      <td>CAD</td>\n",
       "    </tr>\n",
       "  </tbody>\n",
       "</table>\n",
       "</div>"
      ],
      "text/plain": [
       "   Unnamed: 0  Order Number  Line Item  Order Date Delivery Date  CustomerKey  \\\n",
       "0           0        366000          1  2016-01-01     yet to be       265598   \n",
       "1           1        366001          1  2016-01-01     1/13/2016      1269051   \n",
       "2           2        366001          2  2016-01-01     1/13/2016      1269051   \n",
       "3           3        366002          1  2016-01-01     1/12/2016       266019   \n",
       "4           4        366002          2  2016-01-01     1/12/2016       266019   \n",
       "\n",
       "   StoreKey  ProductKey  Quantity Currency Code  \n",
       "0        10        1304         1           CAD  \n",
       "1         0        1048         2           USD  \n",
       "2         0        2007         1           USD  \n",
       "3         0        1106         7           CAD  \n",
       "4         0         373         1           CAD  "
      ]
     },
     "execution_count": 17,
     "metadata": {},
     "output_type": "execute_result"
    }
   ],
   "source": [
    "data.head()"
   ]
  },
  {
   "cell_type": "code",
   "execution_count": 19,
   "id": "af2e9894-0d15-4831-b71e-a64da189ff41",
   "metadata": {},
   "outputs": [
    {
     "data": {
      "text/plain": [
       "'2016-01-01'"
      ]
     },
     "execution_count": 19,
     "metadata": {},
     "output_type": "execute_result"
    }
   ],
   "source": [
    "data['Order Date'].min()"
   ]
  },
  {
   "cell_type": "code",
   "execution_count": 21,
   "id": "cfc3bc2d-728e-40f0-9bcc-3829a59f79af",
   "metadata": {},
   "outputs": [
    {
     "data": {
      "text/plain": [
       "'2021-02-20'"
      ]
     },
     "execution_count": 21,
     "metadata": {},
     "output_type": "execute_result"
    }
   ],
   "source": [
    "data['Order Date'].max()"
   ]
  },
  {
   "cell_type": "code",
   "execution_count": 25,
   "id": "ee7be82b-11da-4046-b8fa-c2f50242c3a6",
   "metadata": {},
   "outputs": [],
   "source": [
    "cust=data['CustomerKey'].value_counts()"
   ]
  },
  {
   "cell_type": "code",
   "execution_count": 35,
   "id": "3c645d73-369f-48d7-868e-b84a593fb106",
   "metadata": {},
   "outputs": [
    {
     "data": {
      "text/plain": [
       "CustomerKey\n",
       "723572     36\n",
       "1579183    32\n",
       "1925694    32\n",
       "1942072    29\n",
       "1972249    29\n",
       "           ..\n",
       "370810     11\n",
       "505288     11\n",
       "1471397    11\n",
       "59159      11\n",
       "452209     11\n",
       "Name: count, Length: 1000, dtype: int64"
      ]
     },
     "execution_count": 35,
     "metadata": {},
     "output_type": "execute_result"
    }
   ],
   "source": [
    "cust.head(1000)"
   ]
  },
  {
   "cell_type": "code",
   "execution_count": 37,
   "id": "ea35c03d-7003-4d71-8fe7-10022010f7c5",
   "metadata": {},
   "outputs": [
    {
     "data": {
      "text/plain": [
       "Index(['Unnamed: 0', 'Order Number', 'Line Item', 'Order Date',\n",
       "       'Delivery Date', 'CustomerKey', 'StoreKey', 'ProductKey', 'Quantity',\n",
       "       'Currency Code'],\n",
       "      dtype='object')"
      ]
     },
     "execution_count": 37,
     "metadata": {},
     "output_type": "execute_result"
    }
   ],
   "source": [
    "data.columns"
   ]
  },
  {
   "cell_type": "code",
   "execution_count": 43,
   "id": "fd5f5c4d-f44e-494b-af48-ed066fda119f",
   "metadata": {},
   "outputs": [],
   "source": [
    "df=data[['CustomerKey','ProductKey']]"
   ]
  },
  {
   "cell_type": "code",
   "execution_count": 71,
   "id": "049ebc21-826b-447c-8e11-64aed9152d3c",
   "metadata": {},
   "outputs": [],
   "source": [
    "prod=data['ProductKey'].value_counts()"
   ]
  },
  {
   "cell_type": "code",
   "execution_count": null,
   "id": "0370ec04-eee6-4014-a447-1a1a91baf923",
   "metadata": {},
   "outputs": [],
   "source": []
  },
  {
   "cell_type": "code",
   "execution_count": 49,
   "id": "0ab2fcef-87bb-427f-9fd5-3f54929a4b50",
   "metadata": {},
   "outputs": [],
   "source": [
    "data_1=pd.read_csv('data_prod.csv')"
   ]
  },
  {
   "cell_type": "code",
   "execution_count": 15,
   "id": "a02a211c-d73e-4949-b0a4-f3d1eb6b320e",
   "metadata": {},
   "outputs": [],
   "source": [
    "cust=pd.read_csv('data_cust.csv')"
   ]
  },
  {
   "cell_type": "code",
   "execution_count": 25,
   "id": "1d0581ce-8847-4a42-92ed-d753455ef587",
   "metadata": {},
   "outputs": [
    {
     "data": {
      "text/plain": [
       "Index(['Unnamed: 0', 'CustomerKey', 'Gender', 'Name', 'City', 'State Code',\n",
       "       'State', 'Zip Code', 'Country', 'Continent', 'Birthday'],\n",
       "      dtype='object')"
      ]
     },
     "execution_count": 25,
     "metadata": {},
     "output_type": "execute_result"
    }
   ],
   "source": [
    "cust.columns"
   ]
  },
  {
   "cell_type": "code",
   "execution_count": 19,
   "id": "2306024e-60d4-442a-b25b-ea86a122fb88",
   "metadata": {},
   "outputs": [],
   "source": [
    "prod=pd.read_csv('data_prod.csv')"
   ]
  },
  {
   "cell_type": "code",
   "execution_count": 31,
   "id": "45f1be7a-e95e-4fa5-acb1-5af5ce7856a5",
   "metadata": {},
   "outputs": [
    {
     "data": {
      "text/plain": [
       "Index(['Unnamed: 0', 'ProductKey', 'Product Name', 'Brand', 'Color',\n",
       "       'Unit Cost USD', 'Unit Price USD', 'SubcategoryKey', 'Subcategory',\n",
       "       'CategoryKey', 'Category'],\n",
       "      dtype='object')"
      ]
     },
     "execution_count": 31,
     "metadata": {},
     "output_type": "execute_result"
    }
   ],
   "source": [
    "prod.columns"
   ]
  },
  {
   "cell_type": "code",
   "execution_count": 9,
   "id": "4f7a139b-d6a0-41d3-8a06-1ecbb7cf64a4",
   "metadata": {},
   "outputs": [],
   "source": [
    "sal=pd.read_csv('data_sal.csv')"
   ]
  },
  {
   "cell_type": "code",
   "execution_count": 27,
   "id": "aa24a70b-b50f-4034-926c-cff541385cde",
   "metadata": {},
   "outputs": [
    {
     "data": {
      "text/plain": [
       "Index(['Unnamed: 0', 'Order Number', 'Line Item', 'Order Date',\n",
       "       'Delivery Date', 'CustomerKey', 'StoreKey', 'ProductKey', 'Quantity',\n",
       "       'Currency Code'],\n",
       "      dtype='object')"
      ]
     },
     "execution_count": 27,
     "metadata": {},
     "output_type": "execute_result"
    }
   ],
   "source": [
    "sal.columns"
   ]
  },
  {
   "cell_type": "code",
   "execution_count": 10,
   "id": "bb825c23-8b8a-41c0-b2e0-330015bb9d35",
   "metadata": {},
   "outputs": [],
   "source": [
    "st=pd.read_csv('data_st.csv')"
   ]
  },
  {
   "cell_type": "code",
   "execution_count": 29,
   "id": "6c93319e-073f-48ba-ae09-3284483fc8ae",
   "metadata": {},
   "outputs": [],
   "source": [
    "key=sal[['CustomerKey', 'StoreKey', 'ProductKey']]"
   ]
  },
  {
   "cell_type": "code",
   "execution_count": 33,
   "id": "81f257d3-d154-49bd-9f91-ad787876ad23",
   "metadata": {},
   "outputs": [
    {
     "name": "stderr",
     "output_type": "stream",
     "text": [
      "C:\\Users\\Asin\\AppData\\Local\\Temp\\ipykernel_2704\\2351897281.py:1: SettingWithCopyWarning: \n",
      "A value is trying to be set on a copy of a slice from a DataFrame.\n",
      "Try using .loc[row_indexer,col_indexer] = value instead\n",
      "\n",
      "See the caveats in the documentation: https://pandas.pydata.org/pandas-docs/stable/user_guide/indexing.html#returning-a-view-versus-a-copy\n",
      "  key[['SubcategoryKey','CategoryKey']]=prod[['SubcategoryKey','CategoryKey']]\n",
      "C:\\Users\\Asin\\AppData\\Local\\Temp\\ipykernel_2704\\2351897281.py:1: SettingWithCopyWarning: \n",
      "A value is trying to be set on a copy of a slice from a DataFrame.\n",
      "Try using .loc[row_indexer,col_indexer] = value instead\n",
      "\n",
      "See the caveats in the documentation: https://pandas.pydata.org/pandas-docs/stable/user_guide/indexing.html#returning-a-view-versus-a-copy\n",
      "  key[['SubcategoryKey','CategoryKey']]=prod[['SubcategoryKey','CategoryKey']]\n"
     ]
    }
   ],
   "source": [
    "key[['SubcategoryKey','CategoryKey']]=prod[['SubcategoryKey','CategoryKey']]"
   ]
  },
  {
   "cell_type": "code",
   "execution_count": 16,
   "id": "4b49c575-fb7e-40a1-8eda-06d9f51d457d",
   "metadata": {},
   "outputs": [
    {
     "data": {
      "text/plain": [
       "Index(['Unnamed: 0', 'Order Number', 'Line Item', 'Order Date',\n",
       "       'Delivery Date', 'CustomerKey', 'StoreKey', 'ProductKey', 'Quantity',\n",
       "       'Currency Code'],\n",
       "      dtype='object')"
      ]
     },
     "execution_count": 16,
     "metadata": {},
     "output_type": "execute_result"
    }
   ],
   "source": [
    "data.columns"
   ]
  },
  {
   "cell_type": "code",
   "execution_count": 40,
   "id": "b5915fc2-f109-449b-b406-efcbc4503635",
   "metadata": {},
   "outputs": [],
   "source": [
    "sal=data.groupby('ProductKey').count()[['Line Item']]"
   ]
  },
  {
   "cell_type": "code",
   "execution_count": 39,
   "id": "08926672-982a-4522-a0de-2786011ab71c",
   "metadata": {},
   "outputs": [
    {
     "data": {
      "text/plain": [
       "Line Item    0\n",
       "dtype: int64"
      ]
     },
     "execution_count": 39,
     "metadata": {},
     "output_type": "execute_result"
    }
   ],
   "source": [
    "sal_group.isnull().sum()"
   ]
  },
  {
   "cell_type": "code",
   "execution_count": 11,
   "id": "c1293b9f-d0ae-4791-83a3-5556f4fa46ab",
   "metadata": {},
   "outputs": [],
   "source": [
    "prod=pd.read_csv('data_prod.csv')"
   ]
  },
  {
   "cell_type": "code",
   "execution_count": 22,
   "id": "b20009ea-7989-46d8-bd08-f37767c47ed9",
   "metadata": {},
   "outputs": [
    {
     "data": {
      "text/plain": [
       "Index(['Unnamed: 0', 'ProductKey', 'Product Name', 'Brand', 'Color',\n",
       "       'Unit Cost USD', 'Unit Price USD', 'SubcategoryKey', 'Subcategory',\n",
       "       'CategoryKey', 'Category'],\n",
       "      dtype='object')"
      ]
     },
     "execution_count": 22,
     "metadata": {},
     "output_type": "execute_result"
    }
   ],
   "source": [
    "prod.columns"
   ]
  },
  {
   "cell_type": "code",
   "execution_count": 24,
   "id": "61fec2d1-3ba8-4432-b4e4-82207e388874",
   "metadata": {},
   "outputs": [
    {
     "data": {
      "text/plain": [
       "(2517, 11)"
      ]
     },
     "execution_count": 24,
     "metadata": {},
     "output_type": "execute_result"
    }
   ],
   "source": [
    "prod.shape"
   ]
  },
  {
   "cell_type": "code",
   "execution_count": 13,
   "id": "0e5bf227-a75d-435e-b05f-bbb38c761bbc",
   "metadata": {},
   "outputs": [
    {
     "ename": "NameError",
     "evalue": "name 'sal_group' is not defined",
     "output_type": "error",
     "traceback": [
      "\u001b[1;31m---------------------------------------------------------------------------\u001b[0m",
      "\u001b[1;31mNameError\u001b[0m                                 Traceback (most recent call last)",
      "Cell \u001b[1;32mIn[13], line 1\u001b[0m\n\u001b[1;32m----> 1\u001b[0m sal_group[[\u001b[38;5;124m'\u001b[39m\u001b[38;5;124mProduct Name\u001b[39m\u001b[38;5;124m'\u001b[39m, \u001b[38;5;124m'\u001b[39m\u001b[38;5;124mBrand\u001b[39m\u001b[38;5;124m'\u001b[39m, \u001b[38;5;124m'\u001b[39m\u001b[38;5;124mColor\u001b[39m\u001b[38;5;124m'\u001b[39m,\n\u001b[0;32m      2\u001b[0m        \u001b[38;5;124m'\u001b[39m\u001b[38;5;124mUnit Cost USD\u001b[39m\u001b[38;5;124m'\u001b[39m, \u001b[38;5;124m'\u001b[39m\u001b[38;5;124mUnit Price USD\u001b[39m\u001b[38;5;124m'\u001b[39m, \u001b[38;5;124m'\u001b[39m\u001b[38;5;124mSubcategoryKey\u001b[39m\u001b[38;5;124m'\u001b[39m, \u001b[38;5;124m'\u001b[39m\u001b[38;5;124mSubcategory\u001b[39m\u001b[38;5;124m'\u001b[39m,\n\u001b[0;32m      3\u001b[0m        \u001b[38;5;124m'\u001b[39m\u001b[38;5;124mCategoryKey\u001b[39m\u001b[38;5;124m'\u001b[39m, \u001b[38;5;124m'\u001b[39m\u001b[38;5;124mCategory\u001b[39m\u001b[38;5;124m'\u001b[39m]]\u001b[38;5;241m=\u001b[39mprod[[\u001b[38;5;124m'\u001b[39m\u001b[38;5;124mProduct Name\u001b[39m\u001b[38;5;124m'\u001b[39m, \u001b[38;5;124m'\u001b[39m\u001b[38;5;124mBrand\u001b[39m\u001b[38;5;124m'\u001b[39m, \u001b[38;5;124m'\u001b[39m\u001b[38;5;124mColor\u001b[39m\u001b[38;5;124m'\u001b[39m,\n\u001b[0;32m      4\u001b[0m        \u001b[38;5;124m'\u001b[39m\u001b[38;5;124mUnit Cost USD\u001b[39m\u001b[38;5;124m'\u001b[39m, \u001b[38;5;124m'\u001b[39m\u001b[38;5;124mUnit Price USD\u001b[39m\u001b[38;5;124m'\u001b[39m, \u001b[38;5;124m'\u001b[39m\u001b[38;5;124mSubcategoryKey\u001b[39m\u001b[38;5;124m'\u001b[39m, \u001b[38;5;124m'\u001b[39m\u001b[38;5;124mSubcategory\u001b[39m\u001b[38;5;124m'\u001b[39m,\n\u001b[0;32m      5\u001b[0m        \u001b[38;5;124m'\u001b[39m\u001b[38;5;124mCategoryKey\u001b[39m\u001b[38;5;124m'\u001b[39m, \u001b[38;5;124m'\u001b[39m\u001b[38;5;124mCategory\u001b[39m\u001b[38;5;124m'\u001b[39m]]\n",
      "\u001b[1;31mNameError\u001b[0m: name 'sal_group' is not defined"
     ]
    }
   ],
   "source": [
    "sal_group[['Product Name', 'Brand', 'Color',\n",
    "       'Unit Cost USD', 'Unit Price USD', 'SubcategoryKey', 'Subcategory',\n",
    "       'CategoryKey', 'Category']]=prod[['Product Name', 'Brand', 'Color',\n",
    "       'Unit Cost USD', 'Unit Price USD', 'SubcategoryKey', 'Subcategory',\n",
    "       'CategoryKey', 'Category']]"
   ]
  },
  {
   "cell_type": "code",
   "execution_count": 54,
   "id": "f1eb89da-8fe5-4c27-8dd9-b83583df1fdd",
   "metadata": {},
   "outputs": [],
   "source": [
    "sal_group=sal_group.reset_index()"
   ]
  },
  {
   "cell_type": "code",
   "execution_count": 59,
   "id": "5565629a-7206-4b84-93dc-ad9c708d3785",
   "metadata": {},
   "outputs": [],
   "source": [
    "sal_group['Product Counts'] = sal_group['Line Item']"
   ]
  },
  {
   "cell_type": "code",
   "execution_count": 70,
   "id": "bdf6fbd8-3260-4e6f-b54f-6537a192df25",
   "metadata": {},
   "outputs": [
    {
     "data": {
      "text/plain": [
       "Index(['ProductKey', 'Product Name', 'Brand', 'Color', 'Unit Cost USD',\n",
       "       'Unit Price USD', 'SubcategoryKey', 'Subcategory', 'CategoryKey',\n",
       "       'Category', 'Product Counts'],\n",
       "      dtype='object')"
      ]
     },
     "execution_count": 70,
     "metadata": {},
     "output_type": "execute_result"
    }
   ],
   "source": [
    "sal_group.columns"
   ]
  },
  {
   "cell_type": "code",
   "execution_count": 67,
   "id": "cead3961-16be-4223-99b3-6eee5ba816e7",
   "metadata": {},
   "outputs": [],
   "source": [
    "sal_group.drop('Line Item',axis=1,inplace=True)"
   ]
  },
  {
   "cell_type": "code",
   "execution_count": 12,
   "id": "643c6964-0fae-48ab-9cc0-cd29921aca96",
   "metadata": {},
   "outputs": [
    {
     "ename": "NameError",
     "evalue": "name 'sal_group' is not defined",
     "output_type": "error",
     "traceback": [
      "\u001b[1;31m---------------------------------------------------------------------------\u001b[0m",
      "\u001b[1;31mNameError\u001b[0m                                 Traceback (most recent call last)",
      "Cell \u001b[1;32mIn[12], line 1\u001b[0m\n\u001b[1;32m----> 1\u001b[0m sales_info\u001b[38;5;241m=\u001b[39msal_group\u001b[38;5;241m.\u001b[39mto_csv(\u001b[38;5;124m'\u001b[39m\u001b[38;5;124msal_group.csv\u001b[39m\u001b[38;5;124m'\u001b[39m)\n",
      "\u001b[1;31mNameError\u001b[0m: name 'sal_group' is not defined"
     ]
    }
   ],
   "source": [
    "sal_group.to_csv('sal_group.csv')"
   ]
  },
  {
   "cell_type": "code",
   "execution_count": 14,
   "id": "f28410d9-5711-47fc-8e19-08026e5b5b6b",
   "metadata": {},
   "outputs": [],
   "source": [
    "curr.execute(\"\"\"create table sal_group_table (ProductKey text,Product_Name text,Brand text,Color text,Unit_Cost_USD text,\n",
    "       Unit_Price_USD text,SubcategoryKey text,Subcategory text,CategoryKey text,\n",
    "       Category text,Product_Counts text)\"\"\"\n",
    " )"
   ]
  },
  {
   "cell_type": "code",
   "execution_count": 16,
   "id": "e76c5146-2e88-42f2-99aa-143176e1758f",
   "metadata": {},
   "outputs": [],
   "source": [
    "with open('sal_group.csv', 'r',encoding='ISO-8859-1') as csvfile:\n",
    "    d1= csv.DictReader(csvfile)\n",
    "    for i in d1:\n",
    "        q1 = \"\"\"INSERT INTO sal_group_table (ProductKey,Product_Name,Brand,Color,Unit_Cost_USD,\n",
    "       Unit_Price_USD,SubcategoryKey,Subcategory,CategoryKey ,Category,Product_Counts ) values ( %s,%s,%s, %s, %s,%s,%s,%s,%s,%s,%s)\"\"\"\n",
    "        v1 = (i['ProductKey'], i['Product Name'],i['Brand'], i['Color'],i['Unit Cost USD'],i['Unit Price USD'] ,\n",
    "      i['SubcategoryKey'] ,i['Subcategory'] ,i['CategoryKey'],i['Category'],i['Product Counts'])\n",
    "        curr.execute(q1,v1)\n",
    "    conn.commit()"
   ]
  },
  {
   "cell_type": "code",
   "execution_count": 18,
   "id": "11238875-f934-4a82-9082-cdf711c83f0b",
   "metadata": {},
   "outputs": [],
   "source": [
    "data=pd.read_csv('sal_group.csv')"
   ]
  },
  {
   "cell_type": "code",
   "execution_count": 20,
   "id": "fd878e3d-d1a8-49ab-b7c5-36bbfc75efcc",
   "metadata": {},
   "outputs": [
    {
     "data": {
      "text/plain": [
       "Index(['Unnamed: 0', 'ProductKey', 'Product Name', 'Brand', 'Color',\n",
       "       'Unit Cost USD', 'Unit Price USD', 'SubcategoryKey', 'Subcategory',\n",
       "       'CategoryKey', 'Category', 'Product Counts'],\n",
       "      dtype='object')"
      ]
     },
     "execution_count": 20,
     "metadata": {},
     "output_type": "execute_result"
    }
   ],
   "source": [
    "data.columns"
   ]
  },
  {
   "cell_type": "code",
   "execution_count": 24,
   "id": "155287af-227d-4b68-a477-6efa3597f4d6",
   "metadata": {},
   "outputs": [],
   "source": [
    "data.sort_values('Product Counts',ascending=False,inplace=True)"
   ]
  },
  {
   "cell_type": "code",
   "execution_count": 33,
   "id": "a93123a5-7c84-4762-beca-82826c5c629d",
   "metadata": {},
   "outputs": [],
   "source": [
    "new_sal=data.head(20)"
   ]
  },
  {
   "cell_type": "code",
   "execution_count": 28,
   "id": "c39c4d70-bb37-49c6-94b5-6958c094b43a",
   "metadata": {},
   "outputs": [],
   "source": [
    "data.drop(['Unnamed: 0', 'ProductKey',\n",
    "        'SubcategoryKey'],axis=1,inplace=True)"
   ]
  },
  {
   "cell_type": "code",
   "execution_count": 30,
   "id": "0a23fe15-729f-40ea-a54c-9a2fea3a5256",
   "metadata": {},
   "outputs": [],
   "source": [
    "data.to_csv('sal_group.csv')"
   ]
  },
  {
   "cell_type": "code",
   "execution_count": 34,
   "id": "08789ccf-90ce-47a7-9fd7-141201ab5dfc",
   "metadata": {},
   "outputs": [],
   "source": [
    "new_sal.to_csv('new_sal.csv')"
   ]
  },
  {
   "cell_type": "code",
   "execution_count": 31,
   "id": "2bad4208-e4d5-42ef-8a01-207c1c9f4d64",
   "metadata": {},
   "outputs": [],
   "source": [
    "curr.execute(\"\"\"create table sol_table (Product_Name text,Brand text,Color text,Subcategory text,\n",
    "       Category text,Product_Counts int,Unit_cost float(32),Unit_prize float(32))\"\"\"\n",
    " )"
   ]
  },
  {
   "cell_type": "code",
   "execution_count": 33,
   "id": "fb8d4164-7c1f-41fe-8155-1b231cdd80f2",
   "metadata": {},
   "outputs": [
    {
     "ename": "DatabaseError",
     "evalue": "1265 (01000): Data truncated for column 'Unit_prize' at row 1",
     "output_type": "error",
     "traceback": [
      "\u001b[1;31m---------------------------------------------------------------------------\u001b[0m",
      "\u001b[1;31mMySQLInterfaceError\u001b[0m                       Traceback (most recent call last)",
      "File \u001b[1;32m~\\anaconda3\\Lib\\site-packages\\mysql\\connector\\connection_cext.py:697\u001b[0m, in \u001b[0;36mCMySQLConnection.cmd_query\u001b[1;34m(self, query, raw, buffered, raw_as_string)\u001b[0m\n\u001b[0;32m    696\u001b[0m         query \u001b[38;5;241m=\u001b[39m query\u001b[38;5;241m.\u001b[39mencode(\u001b[38;5;124m\"\u001b[39m\u001b[38;5;124mutf-8\u001b[39m\u001b[38;5;124m\"\u001b[39m)\n\u001b[1;32m--> 697\u001b[0m     \u001b[38;5;28mself\u001b[39m\u001b[38;5;241m.\u001b[39m_cmysql\u001b[38;5;241m.\u001b[39mquery(\n\u001b[0;32m    698\u001b[0m         query,\n\u001b[0;32m    699\u001b[0m         raw\u001b[38;5;241m=\u001b[39mraw,\n\u001b[0;32m    700\u001b[0m         buffered\u001b[38;5;241m=\u001b[39mbuffered,\n\u001b[0;32m    701\u001b[0m         raw_as_string\u001b[38;5;241m=\u001b[39mraw_as_string,\n\u001b[0;32m    702\u001b[0m         query_attrs\u001b[38;5;241m=\u001b[39m\u001b[38;5;28mself\u001b[39m\u001b[38;5;241m.\u001b[39mquery_attrs,\n\u001b[0;32m    703\u001b[0m     )\n\u001b[0;32m    704\u001b[0m \u001b[38;5;28;01mexcept\u001b[39;00m MySQLInterfaceError \u001b[38;5;28;01mas\u001b[39;00m err:\n",
      "\u001b[1;31mMySQLInterfaceError\u001b[0m: Data truncated for column 'Unit_prize' at row 1",
      "\nThe above exception was the direct cause of the following exception:\n",
      "\u001b[1;31mDatabaseError\u001b[0m                             Traceback (most recent call last)",
      "Cell \u001b[1;32mIn[33], line 8\u001b[0m\n\u001b[0;32m      4\u001b[0m     q1 \u001b[38;5;241m=\u001b[39m \u001b[38;5;124m\"\"\"\u001b[39m\u001b[38;5;124mINSERT INTO sol_table (Product_Name,Brand,Color,\u001b[39m\n\u001b[0;32m      5\u001b[0m \u001b[38;5;124m    Subcategory,Category,Product_Counts,Unit_cost,Unit_prize) values ( \u001b[39m\u001b[38;5;132;01m%s\u001b[39;00m\u001b[38;5;124m,\u001b[39m\u001b[38;5;132;01m%s\u001b[39;00m\u001b[38;5;124m,\u001b[39m\u001b[38;5;132;01m%s\u001b[39;00m\u001b[38;5;124m, \u001b[39m\u001b[38;5;132;01m%s\u001b[39;00m\u001b[38;5;124m, \u001b[39m\u001b[38;5;132;01m%s\u001b[39;00m\u001b[38;5;124m,\u001b[39m\u001b[38;5;132;01m%s\u001b[39;00m\u001b[38;5;124m,\u001b[39m\u001b[38;5;132;01m%s\u001b[39;00m\u001b[38;5;124m,\u001b[39m\u001b[38;5;132;01m%s\u001b[39;00m\u001b[38;5;124m)\u001b[39m\u001b[38;5;124m\"\"\"\u001b[39m\n\u001b[0;32m      6\u001b[0m     v1 \u001b[38;5;241m=\u001b[39m ( i[\u001b[38;5;124m'\u001b[39m\u001b[38;5;124mProduct Name\u001b[39m\u001b[38;5;124m'\u001b[39m],i[\u001b[38;5;124m'\u001b[39m\u001b[38;5;124mBrand\u001b[39m\u001b[38;5;124m'\u001b[39m], i[\u001b[38;5;124m'\u001b[39m\u001b[38;5;124mColor\u001b[39m\u001b[38;5;124m'\u001b[39m],i[\u001b[38;5;124m'\u001b[39m\u001b[38;5;124mSubcategory\u001b[39m\u001b[38;5;124m'\u001b[39m],i[\u001b[38;5;124m'\u001b[39m\u001b[38;5;124mCategory\u001b[39m\u001b[38;5;124m'\u001b[39m],i[\u001b[38;5;124m'\u001b[39m\u001b[38;5;124mProduct Counts\u001b[39m\u001b[38;5;124m'\u001b[39m],\n\u001b[0;32m      7\u001b[0m          i[\u001b[38;5;124m'\u001b[39m\u001b[38;5;124munit_cost\u001b[39m\u001b[38;5;124m'\u001b[39m],i[\u001b[38;5;124m'\u001b[39m\u001b[38;5;124munit_prize\u001b[39m\u001b[38;5;124m'\u001b[39m] )\n\u001b[1;32m----> 8\u001b[0m     curr\u001b[38;5;241m.\u001b[39mexecute(q1,v1)\n\u001b[0;32m      9\u001b[0m conn\u001b[38;5;241m.\u001b[39mcommit()\n",
      "File \u001b[1;32m~\\anaconda3\\Lib\\site-packages\\mysql\\connector\\cursor_cext.py:372\u001b[0m, in \u001b[0;36mCMySQLCursor.execute\u001b[1;34m(self, operation, params, multi)\u001b[0m\n\u001b[0;32m    367\u001b[0m             \u001b[38;5;28;01mraise\u001b[39;00m ProgrammingError(\n\u001b[0;32m    368\u001b[0m                 \u001b[38;5;124m\"\u001b[39m\u001b[38;5;124mNot all parameters were used in the SQL statement\u001b[39m\u001b[38;5;124m\"\u001b[39m\n\u001b[0;32m    369\u001b[0m             )\n\u001b[0;32m    371\u001b[0m \u001b[38;5;28;01mtry\u001b[39;00m:\n\u001b[1;32m--> 372\u001b[0m     result \u001b[38;5;241m=\u001b[39m \u001b[38;5;28mself\u001b[39m\u001b[38;5;241m.\u001b[39m_cnx\u001b[38;5;241m.\u001b[39mcmd_query(\n\u001b[0;32m    373\u001b[0m         stmt,\n\u001b[0;32m    374\u001b[0m         raw\u001b[38;5;241m=\u001b[39m\u001b[38;5;28mself\u001b[39m\u001b[38;5;241m.\u001b[39m_raw,\n\u001b[0;32m    375\u001b[0m         buffered\u001b[38;5;241m=\u001b[39m\u001b[38;5;28mself\u001b[39m\u001b[38;5;241m.\u001b[39m_buffered,\n\u001b[0;32m    376\u001b[0m         raw_as_string\u001b[38;5;241m=\u001b[39m\u001b[38;5;28mself\u001b[39m\u001b[38;5;241m.\u001b[39m_raw_as_string,\n\u001b[0;32m    377\u001b[0m     )\n\u001b[0;32m    378\u001b[0m \u001b[38;5;28;01mexcept\u001b[39;00m MySQLInterfaceError \u001b[38;5;28;01mas\u001b[39;00m err:\n\u001b[0;32m    379\u001b[0m     \u001b[38;5;28;01mraise\u001b[39;00m get_mysql_exception(\n\u001b[0;32m    380\u001b[0m         msg\u001b[38;5;241m=\u001b[39merr\u001b[38;5;241m.\u001b[39mmsg, errno\u001b[38;5;241m=\u001b[39merr\u001b[38;5;241m.\u001b[39merrno, sqlstate\u001b[38;5;241m=\u001b[39merr\u001b[38;5;241m.\u001b[39msqlstate\n\u001b[0;32m    381\u001b[0m     ) \u001b[38;5;28;01mfrom\u001b[39;00m \u001b[38;5;21;01merr\u001b[39;00m\n",
      "File \u001b[1;32m~\\anaconda3\\Lib\\site-packages\\mysql\\connector\\opentelemetry\\context_propagation.py:102\u001b[0m, in \u001b[0;36mwith_context_propagation.<locals>.wrapper\u001b[1;34m(cnx, *args, **kwargs)\u001b[0m\n\u001b[0;32m    100\u001b[0m \u001b[38;5;250m\u001b[39m\u001b[38;5;124;03m\"\"\"Context propagation decorator.\"\"\"\u001b[39;00m\n\u001b[0;32m    101\u001b[0m \u001b[38;5;28;01mif\u001b[39;00m \u001b[38;5;129;01mnot\u001b[39;00m OTEL_ENABLED \u001b[38;5;129;01mor\u001b[39;00m \u001b[38;5;129;01mnot\u001b[39;00m cnx\u001b[38;5;241m.\u001b[39motel_context_propagation:\n\u001b[1;32m--> 102\u001b[0m     \u001b[38;5;28;01mreturn\u001b[39;00m method(cnx, \u001b[38;5;241m*\u001b[39margs, \u001b[38;5;241m*\u001b[39m\u001b[38;5;241m*\u001b[39mkwargs)\n\u001b[0;32m    104\u001b[0m current_span \u001b[38;5;241m=\u001b[39m trace\u001b[38;5;241m.\u001b[39mget_current_span()\n\u001b[0;32m    105\u001b[0m tp_header \u001b[38;5;241m=\u001b[39m \u001b[38;5;28;01mNone\u001b[39;00m\n",
      "File \u001b[1;32m~\\anaconda3\\Lib\\site-packages\\mysql\\connector\\connection_cext.py:705\u001b[0m, in \u001b[0;36mCMySQLConnection.cmd_query\u001b[1;34m(self, query, raw, buffered, raw_as_string)\u001b[0m\n\u001b[0;32m    697\u001b[0m     \u001b[38;5;28mself\u001b[39m\u001b[38;5;241m.\u001b[39m_cmysql\u001b[38;5;241m.\u001b[39mquery(\n\u001b[0;32m    698\u001b[0m         query,\n\u001b[0;32m    699\u001b[0m         raw\u001b[38;5;241m=\u001b[39mraw,\n\u001b[1;32m   (...)\u001b[0m\n\u001b[0;32m    702\u001b[0m         query_attrs\u001b[38;5;241m=\u001b[39m\u001b[38;5;28mself\u001b[39m\u001b[38;5;241m.\u001b[39mquery_attrs,\n\u001b[0;32m    703\u001b[0m     )\n\u001b[0;32m    704\u001b[0m \u001b[38;5;28;01mexcept\u001b[39;00m MySQLInterfaceError \u001b[38;5;28;01mas\u001b[39;00m err:\n\u001b[1;32m--> 705\u001b[0m     \u001b[38;5;28;01mraise\u001b[39;00m get_mysql_exception(\n\u001b[0;32m    706\u001b[0m         err\u001b[38;5;241m.\u001b[39merrno, msg\u001b[38;5;241m=\u001b[39merr\u001b[38;5;241m.\u001b[39mmsg, sqlstate\u001b[38;5;241m=\u001b[39merr\u001b[38;5;241m.\u001b[39msqlstate\n\u001b[0;32m    707\u001b[0m     ) \u001b[38;5;28;01mfrom\u001b[39;00m \u001b[38;5;21;01merr\u001b[39;00m\n\u001b[0;32m    708\u001b[0m \u001b[38;5;28;01mexcept\u001b[39;00m \u001b[38;5;167;01mAttributeError\u001b[39;00m \u001b[38;5;28;01mas\u001b[39;00m err:\n\u001b[0;32m    709\u001b[0m     addr \u001b[38;5;241m=\u001b[39m (\n\u001b[0;32m    710\u001b[0m         \u001b[38;5;28mself\u001b[39m\u001b[38;5;241m.\u001b[39m_unix_socket \u001b[38;5;28;01mif\u001b[39;00m \u001b[38;5;28mself\u001b[39m\u001b[38;5;241m.\u001b[39m_unix_socket \u001b[38;5;28;01melse\u001b[39;00m \u001b[38;5;124mf\u001b[39m\u001b[38;5;124m\"\u001b[39m\u001b[38;5;132;01m{\u001b[39;00m\u001b[38;5;28mself\u001b[39m\u001b[38;5;241m.\u001b[39m_host\u001b[38;5;132;01m}\u001b[39;00m\u001b[38;5;124m:\u001b[39m\u001b[38;5;132;01m{\u001b[39;00m\u001b[38;5;28mself\u001b[39m\u001b[38;5;241m.\u001b[39m_port\u001b[38;5;132;01m}\u001b[39;00m\u001b[38;5;124m\"\u001b[39m\n\u001b[0;32m    711\u001b[0m     )\n",
      "\u001b[1;31mDatabaseError\u001b[0m: 1265 (01000): Data truncated for column 'Unit_prize' at row 1"
     ]
    }
   ],
   "source": [
    "with open('sales.csv', 'r',encoding='ISO-8859-1') as csvfile:\n",
    "    d1= csv.DictReader(csvfile)\n",
    "    for i in d1:\n",
    "        q1 = \"\"\"INSERT INTO sol_table (Product_Name,Brand,Color,\n",
    "        Subcategory,Category,Product_Counts,Unit_cost,Unit_prize) values ( %s,%s,%s, %s, %s,%s,%s,%s)\"\"\"\n",
    "        v1 = ( i['Product Name'],i['Brand'], i['Color'],i['Subcategory'],i['Category'],i['Product Counts'],\n",
    "             i['unit_cost'],i['unit_prize'] )\n",
    "        curr.execute(q1,v1)\n",
    "    conn.commit()"
   ]
  },
  {
   "cell_type": "code",
   "execution_count": 9,
   "id": "db284419-581c-4524-b6b7-fed97fbfbdd0",
   "metadata": {},
   "outputs": [
    {
     "data": {
      "text/plain": [
       "Index(['Unnamed: 0.1', 'Unnamed: 0', 'Product Name', 'Brand', 'Color',\n",
       "       'Subcategory', 'CategoryKey', 'Category', 'Product Counts',\n",
       "       'unit_prize', 'unit_cost'],\n",
       "      dtype='object')"
      ]
     },
     "execution_count": 9,
     "metadata": {},
     "output_type": "execute_result"
    }
   ],
   "source": [
    "data.columns"
   ]
  },
  {
   "cell_type": "code",
   "execution_count": 114,
   "id": "607b96d8-b3fc-407f-a9eb-b9652d1f880c",
   "metadata": {},
   "outputs": [],
   "source": [
    "df=pd.read_csv('data_sal.csv')"
   ]
  },
  {
   "cell_type": "code",
   "execution_count": 45,
   "id": "6cf764bf-16b9-4c95-b8f2-ede4c6488fc0",
   "metadata": {},
   "outputs": [
    {
     "data": {
      "text/plain": [
       "Index(['Unnamed: 0', 'Order Number', 'Line Item', 'Order Date',\n",
       "       'Delivery Date', 'CustomerKey', 'StoreKey', 'ProductKey', 'Quantity',\n",
       "       'Currency Code'],\n",
       "      dtype='object')"
      ]
     },
     "execution_count": 45,
     "metadata": {},
     "output_type": "execute_result"
    }
   ],
   "source": [
    "df.columns"
   ]
  },
  {
   "cell_type": "code",
   "execution_count": 115,
   "id": "9b511a6d-ecdb-4bbd-8c5c-5ecc1e022deb",
   "metadata": {},
   "outputs": [],
   "source": [
    " df = df.groupby('CustomerKey').count() [['Line Item']].reset_index()"
   ]
  },
  {
   "cell_type": "code",
   "execution_count": 116,
   "id": "2dfb331d-5c6c-4163-9a60-95a542a0af4c",
   "metadata": {},
   "outputs": [
    {
     "data": {
      "text/html": [
       "<div>\n",
       "<style scoped>\n",
       "    .dataframe tbody tr th:only-of-type {\n",
       "        vertical-align: middle;\n",
       "    }\n",
       "\n",
       "    .dataframe tbody tr th {\n",
       "        vertical-align: top;\n",
       "    }\n",
       "\n",
       "    .dataframe thead th {\n",
       "        text-align: right;\n",
       "    }\n",
       "</style>\n",
       "<table border=\"1\" class=\"dataframe\">\n",
       "  <thead>\n",
       "    <tr style=\"text-align: right;\">\n",
       "      <th></th>\n",
       "      <th>CustomerKey</th>\n",
       "      <th>Line Item</th>\n",
       "    </tr>\n",
       "  </thead>\n",
       "  <tbody>\n",
       "    <tr>\n",
       "      <th>0</th>\n",
       "      <td>301</td>\n",
       "      <td>1</td>\n",
       "    </tr>\n",
       "    <tr>\n",
       "      <th>1</th>\n",
       "      <td>325</td>\n",
       "      <td>10</td>\n",
       "    </tr>\n",
       "    <tr>\n",
       "      <th>2</th>\n",
       "      <td>554</td>\n",
       "      <td>4</td>\n",
       "    </tr>\n",
       "    <tr>\n",
       "      <th>3</th>\n",
       "      <td>1042</td>\n",
       "      <td>3</td>\n",
       "    </tr>\n",
       "    <tr>\n",
       "      <th>4</th>\n",
       "      <td>1314</td>\n",
       "      <td>5</td>\n",
       "    </tr>\n",
       "    <tr>\n",
       "      <th>...</th>\n",
       "      <td>...</td>\n",
       "      <td>...</td>\n",
       "    </tr>\n",
       "    <tr>\n",
       "      <th>11882</th>\n",
       "      <td>2099383</td>\n",
       "      <td>6</td>\n",
       "    </tr>\n",
       "    <tr>\n",
       "      <th>11883</th>\n",
       "      <td>2099600</td>\n",
       "      <td>3</td>\n",
       "    </tr>\n",
       "    <tr>\n",
       "      <th>11884</th>\n",
       "      <td>2099758</td>\n",
       "      <td>4</td>\n",
       "    </tr>\n",
       "    <tr>\n",
       "      <th>11885</th>\n",
       "      <td>2099862</td>\n",
       "      <td>3</td>\n",
       "    </tr>\n",
       "    <tr>\n",
       "      <th>11886</th>\n",
       "      <td>2099937</td>\n",
       "      <td>6</td>\n",
       "    </tr>\n",
       "  </tbody>\n",
       "</table>\n",
       "<p>11887 rows × 2 columns</p>\n",
       "</div>"
      ],
      "text/plain": [
       "       CustomerKey  Line Item\n",
       "0              301          1\n",
       "1              325         10\n",
       "2              554          4\n",
       "3             1042          3\n",
       "4             1314          5\n",
       "...            ...        ...\n",
       "11882      2099383          6\n",
       "11883      2099600          3\n",
       "11884      2099758          4\n",
       "11885      2099862          3\n",
       "11886      2099937          6\n",
       "\n",
       "[11887 rows x 2 columns]"
      ]
     },
     "execution_count": 116,
     "metadata": {},
     "output_type": "execute_result"
    }
   ],
   "source": [
    "df"
   ]
  },
  {
   "cell_type": "code",
   "execution_count": 117,
   "id": "f438093a-3ea1-4d75-9422-6a1ac3354f18",
   "metadata": {},
   "outputs": [],
   "source": [
    "df.rename(columns={'CustomerKey':'Prime Customers'},inplace=True)"
   ]
  },
  {
   "cell_type": "code",
   "execution_count": 120,
   "id": "1d375535-8fb1-4e6c-9765-6454f6732515",
   "metadata": {},
   "outputs": [],
   "source": [
    "df.rename(columns={'Line Item':'count of products'},inplace=True)"
   ]
  },
  {
   "cell_type": "code",
   "execution_count": 121,
   "id": "75d07b9b-7624-4ba1-8a23-2bb202dcad0a",
   "metadata": {},
   "outputs": [
    {
     "data": {
      "text/plain": [
       "Index(['Prime Customers', 'count of products'], dtype='object')"
      ]
     },
     "execution_count": 121,
     "metadata": {},
     "output_type": "execute_result"
    }
   ],
   "source": [
    "df.columns"
   ]
  },
  {
   "cell_type": "code",
   "execution_count": 95,
   "id": "614831df-4201-41b4-9423-6675aefdc225",
   "metadata": {},
   "outputs": [],
   "source": [
    "data=pd.read_csv('data_cust.csv')"
   ]
  },
  {
   "cell_type": "code",
   "execution_count": 98,
   "id": "4f1fa899-b244-4494-a5a8-60d36258266c",
   "metadata": {},
   "outputs": [
    {
     "data": {
      "text/plain": [
       "Index(['Unnamed: 0', 'CustomerKey', 'Gender', 'Name', 'City', 'State Code',\n",
       "       'State', 'Zip Code', 'Country', 'Continent', 'Birthday'],\n",
       "      dtype='object')"
      ]
     },
     "execution_count": 98,
     "metadata": {},
     "output_type": "execute_result"
    }
   ],
   "source": [
    "data.columns"
   ]
  },
  {
   "cell_type": "code",
   "execution_count": 122,
   "id": "9fc0f319-d5f5-4fb6-94f8-c42177376470",
   "metadata": {},
   "outputs": [],
   "source": [
    "df[['Gender', 'Name', 'City', 'State Code',\n",
    "       'State', 'Country', 'Continent', 'Birthday']] = data[[ 'Gender', 'Name', 'City', 'State Code','State',  'Country', 'Continent', 'Birthday']]"
   ]
  },
  {
   "cell_type": "code",
   "execution_count": 125,
   "id": "ce6cfb92-daaf-4c3c-96c1-8216dd4048c7",
   "metadata": {},
   "outputs": [],
   "source": [
    "prime_cust = df.sort_values('count of products',ascending=False)"
   ]
  },
  {
   "cell_type": "code",
   "execution_count": 128,
   "id": "954156c0-e2b4-4879-8011-9ffda7dc2d1c",
   "metadata": {},
   "outputs": [
    {
     "data": {
      "text/plain": [
       "Index(['Prime Customers', 'count of products', 'Gender', 'Name', 'City',\n",
       "       'State Code', 'State', 'Country', 'Continent', 'Birthday'],\n",
       "      dtype='object')"
      ]
     },
     "execution_count": 128,
     "metadata": {},
     "output_type": "execute_result"
    }
   ],
   "source": [
    "prime_cust.columns"
   ]
  },
  {
   "cell_type": "code",
   "execution_count": 127,
   "id": "8f13b00b-4b3b-4bc4-8130-1386ac2bf873",
   "metadata": {},
   "outputs": [],
   "source": [
    "prime_cust.to_csv('prime_cust.csv')"
   ]
  },
  {
   "cell_type": "code",
   "execution_count": 131,
   "id": "26d5c2e6-5156-4390-9215-a21ec19b1a97",
   "metadata": {},
   "outputs": [],
   "source": [
    "curr.execute(\"\"\"create table prime_tab (Prime_Customers text,count_of_products int, \n",
    "  Gender text,Name text, City text,StateCode text,State text,\n",
    "  Country text,Continent text,Birthday text)\"\"\"\n",
    " )\n"
   ]
  },
  {
   "cell_type": "code",
   "execution_count": 132,
   "id": "fbb1b7ee-be0d-4348-9f99-1204046a85b5",
   "metadata": {},
   "outputs": [],
   "source": [
    "with open('prime_cust.csv', 'r',encoding='utf-8') as csvfile:\n",
    "    d1= csv.DictReader(csvfile)\n",
    "    for i in d1:\n",
    "        q1 = \"\"\"INSERT INTO prime_tab ( Prime_Customers,count_of_products,Gender,Name, City,StateCode,State ,\n",
    "       Country ,Continent,Birthday) values ( %s,%s,%s, %s, %s,%s,%s,%s,%s,%s)\"\"\"\n",
    "        v1 = (i['Prime Customers'],i['count of products'], i['Gender'],i['Name'], i['City'],i['State Code'],i['State'] ,\n",
    "           i['Country'] ,i['Continent'],i['Birthday'])\n",
    "        curr.execute(q1,v1)\n",
    "    conn.commit()"
   ]
  },
  {
   "cell_type": "code",
   "execution_count": 27,
   "id": "e93762e7-d41e-4365-b9a5-c03468f80d90",
   "metadata": {},
   "outputs": [],
   "source": [
    "data = pd.read_csv('sal_group.csv')"
   ]
  },
  {
   "cell_type": "code",
   "execution_count": 7,
   "id": "c1fe548e-5a47-4ba0-a89c-5d63926a1857",
   "metadata": {},
   "outputs": [
    {
     "data": {
      "text/html": [
       "<div>\n",
       "<style scoped>\n",
       "    .dataframe tbody tr th:only-of-type {\n",
       "        vertical-align: middle;\n",
       "    }\n",
       "\n",
       "    .dataframe tbody tr th {\n",
       "        vertical-align: top;\n",
       "    }\n",
       "\n",
       "    .dataframe thead th {\n",
       "        text-align: right;\n",
       "    }\n",
       "</style>\n",
       "<table border=\"1\" class=\"dataframe\">\n",
       "  <thead>\n",
       "    <tr style=\"text-align: right;\">\n",
       "      <th></th>\n",
       "      <th>Unnamed: 0</th>\n",
       "      <th>Product Name</th>\n",
       "      <th>Brand</th>\n",
       "      <th>Color</th>\n",
       "      <th>Unit Cost USD</th>\n",
       "      <th>Unit Price USD</th>\n",
       "      <th>Subcategory</th>\n",
       "      <th>CategoryKey</th>\n",
       "      <th>Category</th>\n",
       "      <th>Product Counts</th>\n",
       "    </tr>\n",
       "  </thead>\n",
       "  <tbody>\n",
       "    <tr>\n",
       "      <th>0</th>\n",
       "      <td>421</td>\n",
       "      <td>Adventure Works Desktop PC2.33 XD233 Black</td>\n",
       "      <td>Adventure Works</td>\n",
       "      <td>Black</td>\n",
       "      <td>$321.05</td>\n",
       "      <td>$969.00</td>\n",
       "      <td>Desktops</td>\n",
       "      <td>3</td>\n",
       "      <td>Computers</td>\n",
       "      <td>162</td>\n",
       "    </tr>\n",
       "    <tr>\n",
       "      <th>1</th>\n",
       "      <td>432</td>\n",
       "      <td>Adventure Works Desktop PC2.33 XD233 White</td>\n",
       "      <td>Adventure Works</td>\n",
       "      <td>White</td>\n",
       "      <td>$321.05</td>\n",
       "      <td>$969.00</td>\n",
       "      <td>Desktops</td>\n",
       "      <td>3</td>\n",
       "      <td>Computers</td>\n",
       "      <td>158</td>\n",
       "    </tr>\n",
       "    <tr>\n",
       "      <th>2</th>\n",
       "      <td>456</td>\n",
       "      <td>WWI Desktop PC1.60 E1600 White</td>\n",
       "      <td>Wide World Importers</td>\n",
       "      <td>White</td>\n",
       "      <td>$112.14</td>\n",
       "      <td>$219.95</td>\n",
       "      <td>Desktops</td>\n",
       "      <td>3</td>\n",
       "      <td>Computers</td>\n",
       "      <td>158</td>\n",
       "    </tr>\n",
       "    <tr>\n",
       "      <th>3</th>\n",
       "      <td>444</td>\n",
       "      <td>WWI Desktop PC2.30 M2300 Black</td>\n",
       "      <td>Wide World Importers</td>\n",
       "      <td>Black</td>\n",
       "      <td>$257.06</td>\n",
       "      <td>$559.00</td>\n",
       "      <td>Desktops</td>\n",
       "      <td>3</td>\n",
       "      <td>Computers</td>\n",
       "      <td>158</td>\n",
       "    </tr>\n",
       "    <tr>\n",
       "      <th>4</th>\n",
       "      <td>446</td>\n",
       "      <td>WWI Desktop PC1.80 E1800 Black</td>\n",
       "      <td>Wide World Importers</td>\n",
       "      <td>Black</td>\n",
       "      <td>$117.21</td>\n",
       "      <td>$229.90</td>\n",
       "      <td>Desktops</td>\n",
       "      <td>3</td>\n",
       "      <td>Computers</td>\n",
       "      <td>157</td>\n",
       "    </tr>\n",
       "  </tbody>\n",
       "</table>\n",
       "</div>"
      ],
      "text/plain": [
       "   Unnamed: 0                                Product Name  \\\n",
       "0         421  Adventure Works Desktop PC2.33 XD233 Black   \n",
       "1         432  Adventure Works Desktop PC2.33 XD233 White   \n",
       "2         456              WWI Desktop PC1.60 E1600 White   \n",
       "3         444              WWI Desktop PC2.30 M2300 Black   \n",
       "4         446              WWI Desktop PC1.80 E1800 Black   \n",
       "\n",
       "                  Brand  Color Unit Cost USD Unit Price USD Subcategory  \\\n",
       "0       Adventure Works  Black      $321.05        $969.00     Desktops   \n",
       "1       Adventure Works  White      $321.05        $969.00     Desktops   \n",
       "2  Wide World Importers  White      $112.14        $219.95     Desktops   \n",
       "3  Wide World Importers  Black      $257.06        $559.00     Desktops   \n",
       "4  Wide World Importers  Black      $117.21        $229.90     Desktops   \n",
       "\n",
       "   CategoryKey   Category  Product Counts  \n",
       "0            3  Computers             162  \n",
       "1            3  Computers             158  \n",
       "2            3  Computers             158  \n",
       "3            3  Computers             158  \n",
       "4            3  Computers             157  "
      ]
     },
     "execution_count": 7,
     "metadata": {},
     "output_type": "execute_result"
    }
   ],
   "source": [
    "data.head()"
   ]
  },
  {
   "cell_type": "code",
   "execution_count": 9,
   "id": "ef83d3e4-16d6-41db-ab8c-e76e653604e5",
   "metadata": {},
   "outputs": [
    {
     "data": {
      "text/plain": [
       "(2492, 10)"
      ]
     },
     "execution_count": 9,
     "metadata": {},
     "output_type": "execute_result"
    }
   ],
   "source": [
    "data.shape"
   ]
  },
  {
   "cell_type": "code",
   "execution_count": 22,
   "id": "c83c0145-2708-40f5-9532-3b74b5107a48",
   "metadata": {},
   "outputs": [
    {
     "data": {
      "text/html": [
       "<div>\n",
       "<style scoped>\n",
       "    .dataframe tbody tr th:only-of-type {\n",
       "        vertical-align: middle;\n",
       "    }\n",
       "\n",
       "    .dataframe tbody tr th {\n",
       "        vertical-align: top;\n",
       "    }\n",
       "\n",
       "    .dataframe thead th {\n",
       "        text-align: right;\n",
       "    }\n",
       "</style>\n",
       "<table border=\"1\" class=\"dataframe\">\n",
       "  <thead>\n",
       "    <tr style=\"text-align: right;\">\n",
       "      <th></th>\n",
       "      <th>Unnamed: 0</th>\n",
       "      <th>Product Name</th>\n",
       "      <th>Brand</th>\n",
       "      <th>Color</th>\n",
       "      <th>Unit Cost USD</th>\n",
       "      <th>Unit Price USD</th>\n",
       "      <th>Subcategory</th>\n",
       "      <th>CategoryKey</th>\n",
       "      <th>Category</th>\n",
       "      <th>Product Counts</th>\n",
       "    </tr>\n",
       "  </thead>\n",
       "  <tbody>\n",
       "    <tr>\n",
       "      <th>0</th>\n",
       "      <td>421</td>\n",
       "      <td>Adventure Works Desktop PC2.33 XD233 Black</td>\n",
       "      <td>Adventure Works</td>\n",
       "      <td>Black</td>\n",
       "      <td>$321.05</td>\n",
       "      <td>$969.00</td>\n",
       "      <td>Desktops</td>\n",
       "      <td>3</td>\n",
       "      <td>Computers</td>\n",
       "      <td>162</td>\n",
       "    </tr>\n",
       "    <tr>\n",
       "      <th>1</th>\n",
       "      <td>432</td>\n",
       "      <td>Adventure Works Desktop PC2.33 XD233 White</td>\n",
       "      <td>Adventure Works</td>\n",
       "      <td>White</td>\n",
       "      <td>$321.05</td>\n",
       "      <td>$969.00</td>\n",
       "      <td>Desktops</td>\n",
       "      <td>3</td>\n",
       "      <td>Computers</td>\n",
       "      <td>158</td>\n",
       "    </tr>\n",
       "    <tr>\n",
       "      <th>2</th>\n",
       "      <td>456</td>\n",
       "      <td>WWI Desktop PC1.60 E1600 White</td>\n",
       "      <td>Wide World Importers</td>\n",
       "      <td>White</td>\n",
       "      <td>$112.14</td>\n",
       "      <td>$219.95</td>\n",
       "      <td>Desktops</td>\n",
       "      <td>3</td>\n",
       "      <td>Computers</td>\n",
       "      <td>158</td>\n",
       "    </tr>\n",
       "    <tr>\n",
       "      <th>3</th>\n",
       "      <td>444</td>\n",
       "      <td>WWI Desktop PC2.30 M2300 Black</td>\n",
       "      <td>Wide World Importers</td>\n",
       "      <td>Black</td>\n",
       "      <td>$257.06</td>\n",
       "      <td>$559.00</td>\n",
       "      <td>Desktops</td>\n",
       "      <td>3</td>\n",
       "      <td>Computers</td>\n",
       "      <td>158</td>\n",
       "    </tr>\n",
       "    <tr>\n",
       "      <th>4</th>\n",
       "      <td>446</td>\n",
       "      <td>WWI Desktop PC1.80 E1800 Black</td>\n",
       "      <td>Wide World Importers</td>\n",
       "      <td>Black</td>\n",
       "      <td>$117.21</td>\n",
       "      <td>$229.90</td>\n",
       "      <td>Desktops</td>\n",
       "      <td>3</td>\n",
       "      <td>Computers</td>\n",
       "      <td>157</td>\n",
       "    </tr>\n",
       "    <tr>\n",
       "      <th>...</th>\n",
       "      <td>...</td>\n",
       "      <td>...</td>\n",
       "      <td>...</td>\n",
       "      <td>...</td>\n",
       "      <td>...</td>\n",
       "      <td>...</td>\n",
       "      <td>...</td>\n",
       "      <td>...</td>\n",
       "      <td>...</td>\n",
       "      <td>...</td>\n",
       "    </tr>\n",
       "    <tr>\n",
       "      <th>2487</th>\n",
       "      <td>2238</td>\n",
       "      <td>WWI Floor Lamp M215 White</td>\n",
       "      <td>Wide World Importers</td>\n",
       "      <td>White</td>\n",
       "      <td>$155.89</td>\n",
       "      <td>$339.00</td>\n",
       "      <td>Lamps</td>\n",
       "      <td>8</td>\n",
       "      <td>Home Appliances</td>\n",
       "      <td>1</td>\n",
       "    </tr>\n",
       "    <tr>\n",
       "      <th>2488</th>\n",
       "      <td>2229</td>\n",
       "      <td>WWI Floor Lamp X115 Black</td>\n",
       "      <td>Wide World Importers</td>\n",
       "      <td>Black</td>\n",
       "      <td>$210.72</td>\n",
       "      <td>$635.99</td>\n",
       "      <td>Lamps</td>\n",
       "      <td>8</td>\n",
       "      <td>Home Appliances</td>\n",
       "      <td>1</td>\n",
       "    </tr>\n",
       "    <tr>\n",
       "      <th>2489</th>\n",
       "      <td>2228</td>\n",
       "      <td>Adventure Works Desk Lamp E1200 Blue</td>\n",
       "      <td>Adventure Works</td>\n",
       "      <td>Blue</td>\n",
       "      <td>$15.29</td>\n",
       "      <td>$29.99</td>\n",
       "      <td>Lamps</td>\n",
       "      <td>8</td>\n",
       "      <td>Home Appliances</td>\n",
       "      <td>1</td>\n",
       "    </tr>\n",
       "    <tr>\n",
       "      <th>2490</th>\n",
       "      <td>2320</td>\n",
       "      <td>Litware Chandelier M6015 White</td>\n",
       "      <td>Litware</td>\n",
       "      <td>White</td>\n",
       "      <td>$105.76</td>\n",
       "      <td>$229.99</td>\n",
       "      <td>Lamps</td>\n",
       "      <td>8</td>\n",
       "      <td>Home Appliances</td>\n",
       "      <td>1</td>\n",
       "    </tr>\n",
       "    <tr>\n",
       "      <th>2491</th>\n",
       "      <td>255</td>\n",
       "      <td>Contoso Home Theater System 4.1 Channel M1400 ...</td>\n",
       "      <td>Contoso</td>\n",
       "      <td>Silver</td>\n",
       "      <td>$208.52</td>\n",
       "      <td>$409.00</td>\n",
       "      <td>Home Theater System</td>\n",
       "      <td>2</td>\n",
       "      <td>TV and Video</td>\n",
       "      <td>1</td>\n",
       "    </tr>\n",
       "  </tbody>\n",
       "</table>\n",
       "<p>2492 rows × 10 columns</p>\n",
       "</div>"
      ],
      "text/plain": [
       "      Unnamed: 0                                       Product Name  \\\n",
       "0            421         Adventure Works Desktop PC2.33 XD233 Black   \n",
       "1            432         Adventure Works Desktop PC2.33 XD233 White   \n",
       "2            456                     WWI Desktop PC1.60 E1600 White   \n",
       "3            444                     WWI Desktop PC2.30 M2300 Black   \n",
       "4            446                     WWI Desktop PC1.80 E1800 Black   \n",
       "...          ...                                                ...   \n",
       "2487        2238                          WWI Floor Lamp M215 White   \n",
       "2488        2229                          WWI Floor Lamp X115 Black   \n",
       "2489        2228               Adventure Works Desk Lamp E1200 Blue   \n",
       "2490        2320                     Litware Chandelier M6015 White   \n",
       "2491         255  Contoso Home Theater System 4.1 Channel M1400 ...   \n",
       "\n",
       "                     Brand   Color Unit Cost USD Unit Price USD  \\\n",
       "0          Adventure Works   Black      $321.05        $969.00    \n",
       "1          Adventure Works   White      $321.05        $969.00    \n",
       "2     Wide World Importers   White      $112.14        $219.95    \n",
       "3     Wide World Importers   Black      $257.06        $559.00    \n",
       "4     Wide World Importers   Black      $117.21        $229.90    \n",
       "...                    ...     ...           ...            ...   \n",
       "2487  Wide World Importers   White      $155.89        $339.00    \n",
       "2488  Wide World Importers   Black      $210.72        $635.99    \n",
       "2489       Adventure Works    Blue       $15.29         $29.99    \n",
       "2490               Litware   White      $105.76        $229.99    \n",
       "2491               Contoso  Silver      $208.52        $409.00    \n",
       "\n",
       "              Subcategory  CategoryKey         Category  Product Counts  \n",
       "0                Desktops            3        Computers             162  \n",
       "1                Desktops            3        Computers             158  \n",
       "2                Desktops            3        Computers             158  \n",
       "3                Desktops            3        Computers             158  \n",
       "4                Desktops            3        Computers             157  \n",
       "...                   ...          ...              ...             ...  \n",
       "2487                Lamps            8  Home Appliances               1  \n",
       "2488                Lamps            8  Home Appliances               1  \n",
       "2489                Lamps            8  Home Appliances               1  \n",
       "2490                Lamps            8  Home Appliances               1  \n",
       "2491  Home Theater System            2     TV and Video               1  \n",
       "\n",
       "[2492 rows x 10 columns]"
      ]
     },
     "execution_count": 22,
     "metadata": {},
     "output_type": "execute_result"
    }
   ],
   "source": [
    "data.replace('$','',regex = True)"
   ]
  },
  {
   "cell_type": "code",
   "execution_count": 29,
   "id": "9c0623b3-9b92-4b6f-a039-21e2d429e1a4",
   "metadata": {},
   "outputs": [],
   "source": [
    "df_test = data[['Unit Cost USD','Unit Price USD']]"
   ]
  },
  {
   "cell_type": "code",
   "execution_count": 31,
   "id": "6047c284-b07d-43cc-ac81-8afbf8ae2030",
   "metadata": {},
   "outputs": [],
   "source": [
    "col = df_test.columns"
   ]
  },
  {
   "cell_type": "code",
   "execution_count": 33,
   "id": "3c86248e-58b0-406a-a784-34b076f46b30",
   "metadata": {},
   "outputs": [
    {
     "name": "stderr",
     "output_type": "stream",
     "text": [
      "<>:1: SyntaxWarning: invalid escape sequence '\\$'\n",
      "<>:1: SyntaxWarning: invalid escape sequence '\\$'\n",
      "C:\\Users\\rupsh\\AppData\\Local\\Temp\\ipykernel_840\\1967103317.py:1: SyntaxWarning: invalid escape sequence '\\$'\n",
      "  data[['unit_cost','unit_prize']] = df_test[col].replace({'\\$':''},regex = True)\n"
     ]
    }
   ],
   "source": [
    "data[['unit_cost','unit_prize']] = df_test[col].replace({'\\$':''},regex = True)"
   ]
  },
  {
   "cell_type": "code",
   "execution_count": 35,
   "id": "aa46a82e-9c5c-491d-b74b-389e82da3b4e",
   "metadata": {},
   "outputs": [],
   "source": [
    "data.drop(['Unit Price USD','Unit Cost USD'],axis = 1,inplace = True)"
   ]
  },
  {
   "cell_type": "code",
   "execution_count": 49,
   "id": "c0983352-eb08-4491-bbf3-c3434c64b999",
   "metadata": {},
   "outputs": [
    {
     "data": {
      "text/plain": [
       "Index(['Product Name', 'Brand', 'Color', 'Subcategory', 'CategoryKey',\n",
       "       'Category', 'Product Counts', 'unit_cost', 'unit_prize'],\n",
       "      dtype='object')"
      ]
     },
     "execution_count": 49,
     "metadata": {},
     "output_type": "execute_result"
    }
   ],
   "source": [
    "data.columns"
   ]
  },
  {
   "cell_type": "code",
   "execution_count": 39,
   "id": "501c2dec-bdd6-4a85-a991-4b33ef5186b7",
   "metadata": {},
   "outputs": [],
   "source": [
    "data.to_csv('sales.csv')"
   ]
  },
  {
   "cell_type": "code",
   "execution_count": 41,
   "id": "040b44c4-9af6-4926-841e-ee7b54a7123a",
   "metadata": {},
   "outputs": [],
   "source": [
    "data = pd.read_csv('sales.csv')"
   ]
  },
  {
   "cell_type": "code",
   "execution_count": 47,
   "id": "ec313d77-e62e-4d15-9899-be9034d8eb6a",
   "metadata": {},
   "outputs": [],
   "source": [
    "data.drop( 'Unnamed: 0.1',axis = 1,inplace = True)"
   ]
  },
  {
   "cell_type": "code",
   "execution_count": 51,
   "id": "4421ae71-cde3-4393-94bb-054cc4398817",
   "metadata": {},
   "outputs": [
    {
     "data": {
      "text/html": [
       "<div>\n",
       "<style scoped>\n",
       "    .dataframe tbody tr th:only-of-type {\n",
       "        vertical-align: middle;\n",
       "    }\n",
       "\n",
       "    .dataframe tbody tr th {\n",
       "        vertical-align: top;\n",
       "    }\n",
       "\n",
       "    .dataframe thead th {\n",
       "        text-align: right;\n",
       "    }\n",
       "</style>\n",
       "<table border=\"1\" class=\"dataframe\">\n",
       "  <thead>\n",
       "    <tr style=\"text-align: right;\">\n",
       "      <th></th>\n",
       "      <th>Product Name</th>\n",
       "      <th>Brand</th>\n",
       "      <th>Color</th>\n",
       "      <th>Subcategory</th>\n",
       "      <th>CategoryKey</th>\n",
       "      <th>Category</th>\n",
       "      <th>Product Counts</th>\n",
       "      <th>unit_cost</th>\n",
       "      <th>unit_prize</th>\n",
       "    </tr>\n",
       "  </thead>\n",
       "  <tbody>\n",
       "    <tr>\n",
       "      <th>0</th>\n",
       "      <td>Adventure Works Desktop PC2.33 XD233 Black</td>\n",
       "      <td>Adventure Works</td>\n",
       "      <td>Black</td>\n",
       "      <td>Desktops</td>\n",
       "      <td>3</td>\n",
       "      <td>Computers</td>\n",
       "      <td>162</td>\n",
       "      <td>321.05</td>\n",
       "      <td>969.00</td>\n",
       "    </tr>\n",
       "    <tr>\n",
       "      <th>1</th>\n",
       "      <td>Adventure Works Desktop PC2.33 XD233 White</td>\n",
       "      <td>Adventure Works</td>\n",
       "      <td>White</td>\n",
       "      <td>Desktops</td>\n",
       "      <td>3</td>\n",
       "      <td>Computers</td>\n",
       "      <td>158</td>\n",
       "      <td>321.05</td>\n",
       "      <td>969.00</td>\n",
       "    </tr>\n",
       "    <tr>\n",
       "      <th>2</th>\n",
       "      <td>WWI Desktop PC1.60 E1600 White</td>\n",
       "      <td>Wide World Importers</td>\n",
       "      <td>White</td>\n",
       "      <td>Desktops</td>\n",
       "      <td>3</td>\n",
       "      <td>Computers</td>\n",
       "      <td>158</td>\n",
       "      <td>112.14</td>\n",
       "      <td>219.95</td>\n",
       "    </tr>\n",
       "    <tr>\n",
       "      <th>3</th>\n",
       "      <td>WWI Desktop PC2.30 M2300 Black</td>\n",
       "      <td>Wide World Importers</td>\n",
       "      <td>Black</td>\n",
       "      <td>Desktops</td>\n",
       "      <td>3</td>\n",
       "      <td>Computers</td>\n",
       "      <td>158</td>\n",
       "      <td>257.06</td>\n",
       "      <td>559.00</td>\n",
       "    </tr>\n",
       "    <tr>\n",
       "      <th>4</th>\n",
       "      <td>WWI Desktop PC1.80 E1800 Black</td>\n",
       "      <td>Wide World Importers</td>\n",
       "      <td>Black</td>\n",
       "      <td>Desktops</td>\n",
       "      <td>3</td>\n",
       "      <td>Computers</td>\n",
       "      <td>157</td>\n",
       "      <td>117.21</td>\n",
       "      <td>229.90</td>\n",
       "    </tr>\n",
       "    <tr>\n",
       "      <th>...</th>\n",
       "      <td>...</td>\n",
       "      <td>...</td>\n",
       "      <td>...</td>\n",
       "      <td>...</td>\n",
       "      <td>...</td>\n",
       "      <td>...</td>\n",
       "      <td>...</td>\n",
       "      <td>...</td>\n",
       "      <td>...</td>\n",
       "    </tr>\n",
       "    <tr>\n",
       "      <th>2487</th>\n",
       "      <td>WWI Floor Lamp M215 White</td>\n",
       "      <td>Wide World Importers</td>\n",
       "      <td>White</td>\n",
       "      <td>Lamps</td>\n",
       "      <td>8</td>\n",
       "      <td>Home Appliances</td>\n",
       "      <td>1</td>\n",
       "      <td>155.89</td>\n",
       "      <td>339.00</td>\n",
       "    </tr>\n",
       "    <tr>\n",
       "      <th>2488</th>\n",
       "      <td>WWI Floor Lamp X115 Black</td>\n",
       "      <td>Wide World Importers</td>\n",
       "      <td>Black</td>\n",
       "      <td>Lamps</td>\n",
       "      <td>8</td>\n",
       "      <td>Home Appliances</td>\n",
       "      <td>1</td>\n",
       "      <td>210.72</td>\n",
       "      <td>635.99</td>\n",
       "    </tr>\n",
       "    <tr>\n",
       "      <th>2489</th>\n",
       "      <td>Adventure Works Desk Lamp E1200 Blue</td>\n",
       "      <td>Adventure Works</td>\n",
       "      <td>Blue</td>\n",
       "      <td>Lamps</td>\n",
       "      <td>8</td>\n",
       "      <td>Home Appliances</td>\n",
       "      <td>1</td>\n",
       "      <td>15.29</td>\n",
       "      <td>29.99</td>\n",
       "    </tr>\n",
       "    <tr>\n",
       "      <th>2490</th>\n",
       "      <td>Litware Chandelier M6015 White</td>\n",
       "      <td>Litware</td>\n",
       "      <td>White</td>\n",
       "      <td>Lamps</td>\n",
       "      <td>8</td>\n",
       "      <td>Home Appliances</td>\n",
       "      <td>1</td>\n",
       "      <td>105.76</td>\n",
       "      <td>229.99</td>\n",
       "    </tr>\n",
       "    <tr>\n",
       "      <th>2491</th>\n",
       "      <td>Contoso Home Theater System 4.1 Channel M1400 ...</td>\n",
       "      <td>Contoso</td>\n",
       "      <td>Silver</td>\n",
       "      <td>Home Theater System</td>\n",
       "      <td>2</td>\n",
       "      <td>TV and Video</td>\n",
       "      <td>1</td>\n",
       "      <td>208.52</td>\n",
       "      <td>409.00</td>\n",
       "    </tr>\n",
       "  </tbody>\n",
       "</table>\n",
       "<p>2492 rows × 9 columns</p>\n",
       "</div>"
      ],
      "text/plain": [
       "                                           Product Name                 Brand  \\\n",
       "0            Adventure Works Desktop PC2.33 XD233 Black       Adventure Works   \n",
       "1            Adventure Works Desktop PC2.33 XD233 White       Adventure Works   \n",
       "2                        WWI Desktop PC1.60 E1600 White  Wide World Importers   \n",
       "3                        WWI Desktop PC2.30 M2300 Black  Wide World Importers   \n",
       "4                        WWI Desktop PC1.80 E1800 Black  Wide World Importers   \n",
       "...                                                 ...                   ...   \n",
       "2487                          WWI Floor Lamp M215 White  Wide World Importers   \n",
       "2488                          WWI Floor Lamp X115 Black  Wide World Importers   \n",
       "2489               Adventure Works Desk Lamp E1200 Blue       Adventure Works   \n",
       "2490                     Litware Chandelier M6015 White               Litware   \n",
       "2491  Contoso Home Theater System 4.1 Channel M1400 ...               Contoso   \n",
       "\n",
       "       Color          Subcategory  CategoryKey         Category  \\\n",
       "0      Black             Desktops            3        Computers   \n",
       "1      White             Desktops            3        Computers   \n",
       "2      White             Desktops            3        Computers   \n",
       "3      Black             Desktops            3        Computers   \n",
       "4      Black             Desktops            3        Computers   \n",
       "...      ...                  ...          ...              ...   \n",
       "2487   White                Lamps            8  Home Appliances   \n",
       "2488   Black                Lamps            8  Home Appliances   \n",
       "2489    Blue                Lamps            8  Home Appliances   \n",
       "2490   White                Lamps            8  Home Appliances   \n",
       "2491  Silver  Home Theater System            2     TV and Video   \n",
       "\n",
       "      Product Counts unit_cost unit_prize  \n",
       "0                162   321.05     969.00   \n",
       "1                158   321.05     969.00   \n",
       "2                158   112.14     219.95   \n",
       "3                158   257.06     559.00   \n",
       "4                157   117.21     229.90   \n",
       "...              ...       ...        ...  \n",
       "2487               1   155.89     339.00   \n",
       "2488               1   210.72     635.99   \n",
       "2489               1    15.29      29.99   \n",
       "2490               1   105.76     229.99   \n",
       "2491               1   208.52     409.00   \n",
       "\n",
       "[2492 rows x 9 columns]"
      ]
     },
     "execution_count": 51,
     "metadata": {},
     "output_type": "execute_result"
    }
   ],
   "source": [
    "data"
   ]
  },
  {
   "cell_type": "code",
   "execution_count": null,
   "id": "febbdf18-6aad-4fc5-b2cd-39d1fa928614",
   "metadata": {},
   "outputs": [],
   "source": []
  },
  {
   "cell_type": "code",
   "execution_count": 5,
   "id": "4bc5b6a6-e95e-41ec-b4ee-68319925118e",
   "metadata": {},
   "outputs": [],
   "source": [
    "data = pd.read_csv('sales.csv')"
   ]
  },
  {
   "cell_type": "code",
   "execution_count": 11,
   "id": "57b673f1-cb67-4c9f-aba1-cffd4393bb39",
   "metadata": {},
   "outputs": [
    {
     "data": {
      "text/plain": [
       "Unnamed: 0.1      0\n",
       "Unnamed: 0        0\n",
       "Product Name      0\n",
       "Brand             0\n",
       "Color             0\n",
       "Subcategory       0\n",
       "CategoryKey       0\n",
       "Category          0\n",
       "Product Counts    0\n",
       "unit_cost         0\n",
       "unit_prize        0\n",
       "dtype: int64"
      ]
     },
     "execution_count": 11,
     "metadata": {},
     "output_type": "execute_result"
    }
   ],
   "source": [
    "data.isnull().sum()"
   ]
  },
  {
   "cell_type": "code",
   "execution_count": 27,
   "id": "1d1a3dbf-15cb-4331-b607-2938e4751cd1",
   "metadata": {},
   "outputs": [
    {
     "data": {
      "text/plain": [
       "Unnamed: 0.1                                               1\n",
       "Unnamed: 0                                               432\n",
       "Product Name      Adventure Works Desktop PC2.33 XD233 White\n",
       "Brand                                        Adventure Works\n",
       "Color                                                  White\n",
       "Subcategory                                         Desktops\n",
       "CategoryKey                                                3\n",
       "Category                                           Computers\n",
       "Product Counts                                           158\n",
       "unit_cost                                            321.05 \n",
       "unit_prize                                           969.00 \n",
       "Name: 1, dtype: object"
      ]
     },
     "execution_count": 27,
     "metadata": {},
     "output_type": "execute_result"
    }
   ],
   "source": [
    "data.iloc[1,::]"
   ]
  },
  {
   "cell_type": "code",
   "execution_count": null,
   "id": "20c03d63-6d31-42ee-acf0-a3d8bde0e111",
   "metadata": {},
   "outputs": [],
   "source": []
  }
 ],
 "metadata": {
  "kernelspec": {
   "display_name": "Python 3 (ipykernel)",
   "language": "python",
   "name": "python3"
  },
  "language_info": {
   "codemirror_mode": {
    "name": "ipython",
    "version": 3
   },
   "file_extension": ".py",
   "mimetype": "text/x-python",
   "name": "python",
   "nbconvert_exporter": "python",
   "pygments_lexer": "ipython3",
   "version": "3.12.7"
  }
 },
 "nbformat": 4,
 "nbformat_minor": 5
}
